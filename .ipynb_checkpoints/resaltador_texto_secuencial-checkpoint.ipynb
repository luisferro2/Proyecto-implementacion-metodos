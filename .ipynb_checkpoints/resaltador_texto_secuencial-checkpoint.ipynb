{
 "cells": [
  {
   "cell_type": "markdown",
   "metadata": {},
   "source": [
    "- Al inicio del Jupyter Notebook debe haber una cleda de markdown con la matrícula y el nombre de los integrantes del equipo, así como una breve descripción del proyecto.\n",
    "- Cada función de Clojure definida en su programa debe contar con una celda de markdown (inmediatamente arriba de la celda de código correspondiente) documentando en un breve enunciado su intención.\n",
    "- El código con la implementación de la solución del problema debe seguir las convenciones de estilo y codificación de Clojure.\n"
   ]
  },
  {
   "cell_type": "markdown",
   "metadata": {},
   "source": [
    "# Resaltador de texto secuencial para python 3.9.5"
   ]
  },
  {
   "cell_type": "markdown",
   "metadata": {},
   "source": [
    "## Autores:\n",
    "* Luis Ignacio Ferro Salinas A01378248\n",
    "\n",
    "Se realiza un resaltador de texto para el lenguaje Python, usando sus especificaciones de léxico más recientes descritas en: [Python lexical analysis]\n",
    "Las categorías que se escogimos para resaltar son las siguientes.\n",
    "\n",
    "* Comentarios.\n",
    "* Keywords.\n",
    "* Identifiers.\n",
    "* Strings.\n",
    "* Bytes.\n",
    "* Integers.\n",
    "* Floats.\n",
    "* Imaginaries.\n",
    "* Operators.\n",
    "* Delimiters.\n",
    "\n",
    "[Python lexical analysis]: <https://docs.python.org/3/reference/lexical_analysis.htmlhttps://docs.python.org/3/reference/lexical_analysis.html>"
   ]
  },
  {
   "cell_type": "markdown",
   "metadata": {},
   "source": [
    "### Comentarios\n",
    "Los comentarios en python, según la especificación léxica, comienzan con un #, y son comentarios de línea."
   ]
  },
  {
   "cell_type": "code",
   "execution_count": 7,
   "metadata": {},
   "outputs": [
    {
     "data": {
      "text/plain": [
       "#'user/regex-comment"
      ]
     },
     "execution_count": 7,
     "metadata": {},
     "output_type": "execute_result"
    }
   ],
   "source": [
    "(def regex-comment (re-pattern \"#.*\"))"
   ]
  },
  {
   "cell_type": "code",
   "execution_count": 8,
   "metadata": {},
   "outputs": [
    {
     "data": {
      "text/plain": [
       "(\"# lol.\" \"# Primer comentario serio.\")"
      ]
     },
     "execution_count": 8,
     "metadata": {},
     "output_type": "execute_result"
    }
   ],
   "source": [
    "(re-seq regex-comment \"# lol.\\n# Primer comentario serio.\")"
   ]
  },
  {
   "cell_type": "code",
   "execution_count": null,
   "metadata": {},
   "outputs": [],
   "source": []
  },
  {
   "cell_type": "markdown",
   "metadata": {},
   "source": [
    "### Keywords\n",
    "Los keywords en python son palabras especiales que no pueden ser utilizadas como identificadores porque pueden tienen propósitos específicos.\n",
    "Son las siguientes:\n",
    "- False\n",
    "- True\n",
    "- None\n",
    "- and\n",
    "- as\n",
    "- assert\n",
    "- async\n",
    "- await\n",
    "- break\n",
    "- class\n",
    "- continue\n",
    "- def\n",
    "- del\n",
    "- elif\n",
    "- else\n",
    "- except\n",
    "- finally\n",
    "- for\n",
    "- from\n",
    "- global\n",
    "- if\n",
    "- import\n",
    "- in\n",
    "- is\n",
    "- lambda\n",
    "- nonlocal\n",
    "- not\n",
    "- or\n",
    "- pass\n",
    "- raise\n",
    "- return\n",
    "- try\n",
    "- while\n",
    "- with\n",
    "- yield"
   ]
  },
  {
   "cell_type": "code",
   "execution_count": 4,
   "metadata": {},
   "outputs": [
    {
     "data": {
      "text/plain": [
       "#'user/regex-keyword"
      ]
     },
     "execution_count": 4,
     "metadata": {},
     "output_type": "execute_result"
    }
   ],
   "source": [
    "(def regex-keyword #\"\\bFalse\\b|\\bTrue\\b|\\bNone\\b|\\band\\b|\\bas\\b|\\bassert\\b|\\basync\\b|\\bawait\\b|\\bbreak\\b|\\bclass\\b|\\bcontinue\\b|\\bdef\\b|\\bdel\\b|\\belif\\b|\\belse\\b|\\bexcept\\b|\\bfinally\\b|\\bfor\\b|\\bfrom\\b|\\bglobal\\b|\\bif\\b|\\bimport\\b|\\bin\\b|\\bis\\b|\\blambda\\b|\\bnonlocal\\b|\\bnot|\\bor\\b|\\bpass\\b|\\braise\\b|\\breturn\\b|\\btry\\b|\\bwhile\\b|\\bwith\\b|\\byield\\b\")\n",
    "\n",
    "(def regex-keyword #\"[\\\\bFalse\\\\b\\\\bTrue\\\\b]\")"
   ]
  },
  {
   "cell_type": "code",
   "execution_count": 5,
   "metadata": {},
   "outputs": [
    {
     "data": {
      "text/plain": [
       "(\"F\" \"a\" \"l\" \"s\" \"e\" \"r\" \"T\" \"r\" \"u\" \"e\" \"e\" \"a\" \"a\" \"s\" \"a\" \"s\" \"s\" \"e\" \"r\")"
      ]
     },
     "execution_count": 5,
     "metadata": {},
     "output_type": "execute_result"
    }
   ],
   "source": [
    "(re-seq regex-keyword \"Falser True\\nNone and as assert\")"
   ]
  },
  {
   "cell_type": "markdown",
   "metadata": {},
   "source": [
    "### Identifiers\n",
    "En python, los identificadores se definen por una normalización NFLK, pero sin considerarla, la especificación nos da una expresión regular:\n",
    "````\n",
    "id_start id_continue*\n",
    "````\n",
    "En id_start se puede usar el guión bajo, y pueden estar las siguientes categorías:\n",
    "- Lu\n",
    "- Ll\n",
    "- Lt\n",
    "- Lm\n",
    "- Lo\n",
    "- Nl\n",
    "\n",
    "\n",
    "En id_continue, se permite todo lo que se permite en id_start, y además pueden estar las siguientes categorías:\n",
    "- Mn\n",
    "- Mc\n",
    "- Nd\n",
    "- Pc\n",
    "\n",
    "Las categorías tienen los siguientes significados:\n",
    "- Lu(uppercase)\n",
    "- Ll(lowercase)\n",
    "- Lt(titlecase)\n",
    "- Lm(modifier)\n",
    "- Lo(other)\n",
    "- Nl(letter numbers)\n",
    "- Mn(nonspacing marks)\n",
    "- Mc(spacing combining marks)\n",
    "- Nd(decimal numbers)\n",
    "- Pc(connector punctuations)\n"
   ]
  },
  {
   "cell_type": "code",
   "execution_count": 9,
   "metadata": {},
   "outputs": [
    {
     "data": {
      "text/plain": [
       "#'user/regex-identifiers"
      ]
     },
     "execution_count": 9,
     "metadata": {},
     "output_type": "execute_result"
    }
   ],
   "source": [
    "(def regex-identifiers #\"[_|\\p{L}|\\p{Nl}][_|\\p{L}|\\p{Nl}|\\p{Mn}|\\p{Mc}|\\p{Nd}|\\p{Pc}]*\")\n",
    "(def regex-identifiers #\"[_\\p{L}\\p{Nl}][_\\p{L}\\p{Nl}\\p{Mn}\\p{Mc}\\p{Nd}\\p{Pc}]*\")\n"
   ]
  },
  {
   "cell_type": "code",
   "execution_count": 11,
   "metadata": {},
   "outputs": [
    {
     "data": {
      "text/plain": [
       "(\"Welcome\" \"to\" \"python\" \"my_variable\")"
      ]
     },
     "execution_count": 11,
     "metadata": {},
     "output_type": "execute_result"
    }
   ],
   "source": [
    "(re-seq regex-identifiers \"# Welcome to python.\\nmy_variable = 69\")"
   ]
  },
  {
   "cell_type": "markdown",
   "metadata": {},
   "source": [
    "### Strings\n",
    "Los strings en python tienen un prefijio opcional. Después pueden ser shortstrings delimitados por ' o por \".\n",
    "También pueden ser longstrings que pueden ocupar múltiples líneas y están delimitados por ''' o por \"\"\".\n",
    "Las secuencias de escape que requieren estados son:\n",
    "- Hasta 3 dígitos octales: \\ooo\n",
    "- Exactamente 2 dígitos hexadecimales: \\xhh\n",
    "- Un caracter unicode con 16 bits con 4 dígitos hexadecimales: \\uxxxx\n",
    "- Un caracter unicode con 32 bits con 8 dígitos hexadecimales: \\Uxxxxxxxx\n",
    "- Un caracter de unicode por su nombre: \\N{name}"
   ]
  },
  {
   "cell_type": "code",
   "execution_count": 59,
   "metadata": {},
   "outputs": [
    {
     "data": {
      "text/plain": [
       "#'user/regex-string"
      ]
     },
     "execution_count": 59,
     "metadata": {},
     "output_type": "execute_result"
    }
   ],
   "source": [
    "(def regex-string #\"(?xm)\n",
    "  (?:[rRuUfF]|fr|fR|FR|Fr|rf|rF|RF|Rf)? \n",
    "  '''\n",
    "  (?:[^\\\\]\n",
    "   | \\\\\n",
    "       (?:[abfnrt'\\\"]\n",
    "        | [0-7]{1,3}\n",
    "        | x[a-fA-F0-9]{2}\n",
    "        | u[a-fA-F0-9]{4}\n",
    "        | U[a-fA-F0-9]{8}\n",
    "        | N\\{[LMNPSCZ]\\}))*'''\n",
    "| \\\"\\\"\\\"\n",
    "  (?:[^\\\\]\n",
    "   | \\\\\n",
    "       (?:[abfnrt\\'\\\"]\n",
    "        | [0-7]{1,3}\n",
    "        | x[a-fA-F0-9]{2}\n",
    "        | u[a-fA-F0-9]{4}\n",
    "        | U[a-fA-F0-9]{8}\n",
    "        | N\\{[LMNPSCZ]\\}))*\\\"\\\"\\\"\n",
    "| '\n",
    "  (?:[^\\n\\'\\\\]\n",
    "   | \\\\\n",
    "       (?:[abfnrt\\'\\\"]\n",
    "        | [0-7]{1,3}\n",
    "        | x[a-fA-F0-9]{2}\n",
    "        | u[a-fA-F0-9]{4}\n",
    "        | U[a-fA-F0-9]{8}\n",
    "        | N\\{[LMNPSCZ]\\}))*'\n",
    "| \\\"\n",
    "  (?:[^\\n\\\"\\\\]\n",
    "   | \\\\\n",
    "       (?:[abfnrt\\'\\\"]\n",
    "        | [0-7]{1,3}\n",
    "        | x[a-fA-F0-9]{2}\n",
    "        | u[a-fA-F0-9]{4}\n",
    "        | U[a-fA-F0-9]{8}\n",
    "        | N\\{[LMNPSCZ]\\}))*\\\"\")\n"
   ]
  },
  {
   "cell_type": "code",
   "execution_count": 54,
   "metadata": {},
   "outputs": [
    {
     "data": {
      "text/plain": [
       "(\"\\\"\\\"\\\"buenas\\\"\\\"\\\"\")"
      ]
     },
     "execution_count": 54,
     "metadata": {},
     "output_type": "execute_result"
    }
   ],
   "source": [
    "(re-seq regex-string \"\\\"\\\"\\\"buenas\\\"\\\"\\\"\")"
   ]
  },
  {
   "cell_type": "code",
   "execution_count": 55,
   "metadata": {},
   "outputs": [
    {
     "data": {
      "text/plain": [
       "#'user/texto-ejemplo"
      ]
     },
     "execution_count": 55,
     "metadata": {},
     "output_type": "execute_result"
    }
   ],
   "source": [
    "(def texto-ejemplo (slurp \"texto_ejemplo.txt\"))"
   ]
  },
  {
   "cell_type": "code",
   "execution_count": 56,
   "metadata": {},
   "outputs": [
    {
     "data": {
      "text/plain": [
       "\"# This is a comment.\\nvariable = 10\\n# This is another comment.\\nmy_string = \\\"this is a string\\\"\\n\\nmy_second_string = 'this is another string'\\nmy_third_string = \\\"\\\"\\\" This string goes for multiple lines\\n\\t\\t      weird\\\"\\\"\\\"\\nmy_fourth_string = f'''A formatted string that goes for\\n \\t\\t       multiple lines'''\\n\""
      ]
     },
     "execution_count": 56,
     "metadata": {},
     "output_type": "execute_result"
    }
   ],
   "source": [
    "texto-ejemplo"
   ]
  },
  {
   "cell_type": "code",
   "execution_count": 57,
   "metadata": {},
   "outputs": [
    {
     "data": {
      "text/plain": [
       "(\"\\\"this is a string\\\"\" \"'this is another string'\" \"\\\"\\\"\\\" This string goes for multiple lines\\n\\t\\t      weird\\\"\\\"\\\"\" \"f'''A formatted string that goes for\\n \\t\\t       multiple lines'''\")"
      ]
     },
     "execution_count": 57,
     "metadata": {},
     "output_type": "execute_result"
    }
   ],
   "source": [
    "(re-seq regex-string texto-ejemplo)"
   ]
  },
  {
   "cell_type": "code",
   "execution_count": 6,
   "metadata": {},
   "outputs": [
    {
     "data": {
      "text/plain": [
       "([\"# This is a comment.\" \"# This is a comment.\"] [\"# This is another comment.\" \"# This is another comment.\"])"
      ]
     },
     "execution_count": 6,
     "metadata": {},
     "output_type": "execute_result"
    }
   ],
   "source": [
    "(def matches (re-seq regex-comment (slurp \"texto_ejemplo.txt\")))\n",
    "matches"
   ]
  },
  {
   "cell_type": "markdown",
   "metadata": {},
   "source": [
    "### Bytes\n",
    "Los bytes en python siempre tienen un prefijo, pueden ser con comillas simples o dobles, y pueden ser de línea o de bloque usando una comilla o tres respectivamente para encapsular.\n",
    "\n",
    "Pueden escapar un subconjunto de las secuencias de escape que pueden escapar los strings:\n",
    "- Hasta 3 dígitos octales: \\ooo\n",
    "- Excatamente 2 dígitos hexadecimales: \\xhh"
   ]
  },
  {
   "cell_type": "code",
   "execution_count": 58,
   "metadata": {},
   "outputs": [
    {
     "data": {
      "text/plain": [
       "#'user/regex-byte"
      ]
     },
     "execution_count": 58,
     "metadata": {},
     "output_type": "execute_result"
    }
   ],
   "source": [
    "(def regex-byte #\"(?xm)\n",
    "  (?:[bB]|br|bR|Br|BR|rb|rB|Rb|RB) \n",
    "  '''\n",
    "  (?:[^\\\\]\n",
    "   | \\\\\n",
    "       (?:[abfnrt\\'\\\"]\n",
    "        | [0-7]{1,3}\n",
    "        | x[a-fA-F0-9]{2}))*'''\n",
    "| \\\"\\\"\\\"\n",
    "  (?:[^\\\\]\n",
    "   | \\\\\n",
    "       (?:[abfnrt\\'\\\"]\n",
    "        | [0-7]{1,3}\n",
    "        | x[a-fA-F0-9]{2}))*\\\"\\\"\\\"\n",
    "| '\n",
    "  (?:[^\\n\\'\\\\]\n",
    "   | \\\\\n",
    "       (?:[abfnrt\\'\\\"]\n",
    "        | [0-7]{1,3}\n",
    "        | x[a-fA-F0-9]{2}))*'\n",
    "| \\\"\n",
    "  (?:[^\\n\\\"\\\\]\n",
    "   | \\\\\n",
    "       (?:[abfnrt\\'\\\"]\n",
    "        | [0-7]{1,3}\n",
    "        | x[a-fA-F0-9]{2}))*\\\"\")\n"
   ]
  },
  {
   "cell_type": "code",
   "execution_count": null,
   "metadata": {},
   "outputs": [],
   "source": []
  },
  {
   "cell_type": "code",
   "execution_count": 7,
   "metadata": {},
   "outputs": [
    {
     "data": {
      "text/plain": [
       "([\"# This is a comment.\" \"<span class='comentario'># This is a comment.</span>\"] [\"# This is another comment.\" \"<span class='comentario'># This is another comment.</span>\"])"
      ]
     },
     "execution_count": 7,
     "metadata": {},
     "output_type": "execute_result"
    }
   ],
   "source": [
    "(map (fn [match] \n",
    "                 (cond \n",
    "                   (match 1) [(match 0) (str \"<span class='comentario'>\" (match 0) \"</span>\")]))  ; Expression returned by cond is vector with full matching string and the category string.\n",
    "     matches)"
   ]
  },
  {
   "cell_type": "code",
   "execution_count": 5,
   "metadata": {},
   "outputs": [
    {
     "data": {
      "text/plain": [
       "\"&lt &gt &amp &amp &lt&lt &gt\""
      ]
     },
     "execution_count": 5,
     "metadata": {},
     "output_type": "execute_result"
    }
   ],
   "source": [
    "(clojure.string/replace \"< > & & << >\" #\"<|>|&\" {\"<\" \"&lt\" \">\" \"&gt\" \"&\" \"&amp\"})"
   ]
  },
  {
   "cell_type": "code",
   "execution_count": 1,
   "metadata": {},
   "outputs": [
    {
     "data": {
      "text/plain": [
       "2"
      ]
     },
     "execution_count": 1,
     "metadata": {},
     "output_type": "execute_result"
    }
   ],
   "source": [
    "(clojure.string/index-of \"# This is a comment\" \"This\")"
   ]
  },
  {
   "cell_type": "code",
   "execution_count": 32,
   "metadata": {},
   "outputs": [
    {
     "data": {
      "text/plain": [
       "#'user/testy"
      ]
     },
     "execution_count": 32,
     "metadata": {},
     "output_type": "execute_result"
    }
   ],
   "source": [
    "(def testy #\"(?x)[abcde]\n",
    "                [1-9]\")"
   ]
  },
  {
   "cell_type": "code",
   "execution_count": 33,
   "metadata": {},
   "outputs": [
    {
     "data": {
      "text/plain": [
       "(\"a3\")"
      ]
     },
     "execution_count": 33,
     "metadata": {},
     "output_type": "execute_result"
    }
   ],
   "source": [
    "(re-seq testy \"a3\")"
   ]
  },
  {
   "cell_type": "code",
   "execution_count": null,
   "metadata": {},
   "outputs": [],
   "source": []
  }
 ],
 "metadata": {
  "kernelspec": {
   "display_name": "Clojure (clojupyter=0.3.2=1)",
   "language": "clojure",
   "name": "conda-clojupyter"
  },
  "language_info": {
   "file_extension": ".clj",
   "mimetype": "text/x-clojure",
   "name": "clojure",
   "version": "1.10.1"
  }
 },
 "nbformat": 4,
 "nbformat_minor": 4
}
