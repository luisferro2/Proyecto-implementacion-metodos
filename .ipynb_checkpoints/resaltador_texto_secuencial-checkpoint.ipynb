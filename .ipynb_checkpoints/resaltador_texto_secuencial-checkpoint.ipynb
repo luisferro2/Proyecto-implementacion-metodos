{
 "cells": [
  {
   "cell_type": "markdown",
   "metadata": {},
   "source": [
    "# Resaltador de texto secuencial para python 3.9.5"
   ]
  },
  {
   "cell_type": "markdown",
   "metadata": {},
   "source": [
    "## Autores:\n",
    "* Luis Ignacio Ferro Salinas A01378248\n",
    "* Omar Rodrigo SorchiniPuente A01749389\n",
    "\n",
    "Se realiza un resaltador de texto para el lenguaje Python, usando sus especificaciones de léxico más recientes descritas en: [Python lexical analysis]\n",
    "Las categorías que escogimos para resaltar son las siguientes.\n",
    "\n",
    "* Comentarios.\n",
    "* Keywords.\n",
    "* Identifiers.\n",
    "* Strings.\n",
    "* Bytes.\n",
    "* Integers.\n",
    "* Floats.\n",
    "* Imaginaries.\n",
    "* Operators.\n",
    "* Delimiters.\n",
    "\n",
    "[Python lexical analysis]: <https://docs.python.org/3/reference/lexical_analysis.htmlhttps://docs.python.org/3/reference/lexical_analysis.html>"
   ]
  },
  {
   "cell_type": "markdown",
   "metadata": {},
   "source": [
    "## Parte 1"
   ]
  },
  {
   "cell_type": "code",
   "execution_count": 10,
   "metadata": {},
   "outputs": [
    {
     "data": {
      "text/plain": [
       "nil"
      ]
     },
     "execution_count": 10,
     "metadata": {},
     "output_type": "execute_result"
    }
   ],
   "source": [
    "(:require '[clojure.string :as str])"
   ]
  },
  {
   "cell_type": "markdown",
   "metadata": {},
   "source": [
    "### Comentarios\n",
    "Los comentarios en python, según la especificación léxica, comienzan con un #, y son comentarios de línea."
   ]
  },
  {
   "cell_type": "code",
   "execution_count": 129,
   "metadata": {},
   "outputs": [
    {
     "data": {
      "text/plain": [
       "#'user/regex-comment"
      ]
     },
     "execution_count": 129,
     "metadata": {},
     "output_type": "execute_result"
    }
   ],
   "source": [
    "(def regex-comment  #\"\\#.*\"); The . exlcudes the \\n character by default."
   ]
  },
  {
   "cell_type": "code",
   "execution_count": 130,
   "metadata": {},
   "outputs": [
    {
     "data": {
      "text/plain": [
       "(\"# This is a comment in python.\")"
      ]
     },
     "execution_count": 130,
     "metadata": {},
     "output_type": "execute_result"
    }
   ],
   "source": [
    "(re-seq regex-comment \"# This is a comment in python.\\n\")"
   ]
  },
  {
   "cell_type": "markdown",
   "metadata": {},
   "source": [
    "### Keywords\n",
    "Los keywords en python son palabras especiales que no pueden ser utilizadas como identificadores porque pueden tienen propósitos específicos.\n",
    "Son las siguientes:\n",
    "- False\n",
    "- True\n",
    "- None\n",
    "- and\n",
    "- as\n",
    "- assert\n",
    "- async\n",
    "- await\n",
    "- break\n",
    "- class\n",
    "- continue\n",
    "- def\n",
    "- del\n",
    "- elif\n",
    "- else\n",
    "- except\n",
    "- finally\n",
    "- for\n",
    "- from\n",
    "- global\n",
    "- if\n",
    "- import\n",
    "- in\n",
    "- is\n",
    "- lambda\n",
    "- nonlocal\n",
    "- not\n",
    "- or\n",
    "- pass\n",
    "- raise\n",
    "- return\n",
    "- try\n",
    "- while\n",
    "- with\n",
    "- yield"
   ]
  },
  {
   "cell_type": "code",
   "execution_count": 131,
   "metadata": {},
   "outputs": [
    {
     "data": {
      "text/plain": [
       "#'user/regex-keyword"
      ]
     },
     "execution_count": 131,
     "metadata": {},
     "output_type": "execute_result"
    }
   ],
   "source": [
    "(def regex-keyword #\"\\bFalse\\b|\\bTrue\\b|\\bNone\\b|\\band\\b|\\bas\\b|\\bassert\\b|\\basync\\b|\\bawait\\b|\\bbreak\\b|\\bclass\\b|\\bcontinue\\b|\\bdef\\b|\\bdel\\b|\\belif\\b|\\belse\\b|\\bexcept\\b|\\bfinally\\b|\\bfor\\b|\\bfrom\\b|\\bglobal\\b|\\bif\\b|\\bimport\\b|\\bin\\b|\\bis\\b|\\blambda\\b|\\bnonlocal\\b|\\bnot|\\bor\\b|\\bpass\\b|\\braise\\b|\\breturn\\b|\\btry\\b|\\bwhile\\b|\\bwith\\b|\\byield\\b\")"
   ]
  },
  {
   "cell_type": "code",
   "execution_count": 132,
   "metadata": {},
   "outputs": [
    {
     "data": {
      "text/plain": [
       "(\"if\" \"True\")"
      ]
     },
     "execution_count": 132,
     "metadata": {},
     "output_type": "execute_result"
    }
   ],
   "source": [
    "(re-seq regex-keyword \"\\nif True:\n",
    "        print()\")"
   ]
  },
  {
   "cell_type": "markdown",
   "metadata": {},
   "source": [
    "### Identifiers\n",
    "En python, los identificadores se definen por una normalización NFLK, pero sin considerarla, la especificación nos da una expresión regular:\n",
    "````\n",
    "id_start id_continue*\n",
    "````\n",
    "En id_start se puede usar el guión bajo, y pueden estar las siguientes categorías de unicode:\n",
    "- Lu\n",
    "- Ll\n",
    "- Lt\n",
    "- Lm\n",
    "- Lo\n",
    "- Nl\n",
    "\n",
    "\n",
    "En id_continue, se permite todo lo que se permite en id_start, y además pueden estar las siguientes categorías:\n",
    "- Mn\n",
    "- Mc\n",
    "- Nd\n",
    "- Pc\n",
    "\n",
    "Las categorías tienen los siguientes significados:\n",
    "- Lu(uppercase)\n",
    "- Ll(lowercase)\n",
    "- Lt(titlecase)\n",
    "- Lm(modifier)\n",
    "- Lo(other)\n",
    "- Nl(letter numbers)\n",
    "- Mn(nonspacing marks)\n",
    "- Mc(spacing combining marks)\n",
    "- Nd(decimal numbers)\n",
    "- Pc(connector punctuations)\n"
   ]
  },
  {
   "cell_type": "code",
   "execution_count": 133,
   "metadata": {},
   "outputs": [
    {
     "data": {
      "text/plain": [
       "#'user/regex-identifiers"
      ]
     },
     "execution_count": 133,
     "metadata": {},
     "output_type": "execute_result"
    }
   ],
   "source": [
    "(def regex-identifiers #\"\\b(?:_|\\p{L}|\\p{Nl})(?:_|\\p{L}|\\p{Nl}|\\p{Mn}|\\p{Mc}|\\p{Nd}|\\p{Pc})*?\\b\")"
   ]
  },
  {
   "cell_type": "code",
   "execution_count": 134,
   "metadata": {},
   "outputs": [
    {
     "data": {
      "text/plain": [
       "(\"my_number\")"
      ]
     },
     "execution_count": 134,
     "metadata": {},
     "output_type": "execute_result"
    }
   ],
   "source": [
    "(re-seq regex-identifiers \"my_number = 365\")"
   ]
  },
  {
   "cell_type": "markdown",
   "metadata": {},
   "source": [
    "### Strings\n",
    "Los strings en python tienen un prefijio opcional. Después pueden ser shortstrings delimitados por ' o por \".\n",
    "También pueden ser longstrings que pueden ocupar múltiples líneas y están delimitados por ''' o por \"\"\".\n",
    "Las secuencias de escape que requieren estados son:\n",
    "- Hasta 3 dígitos octales: \\ooo\n",
    "- Exactamente 2 dígitos hexadecimales: \\xhh\n",
    "- Un caracter unicode con 16 bits con exactamente 4 dígitos hexadecimales: \\uxxxx\n",
    "- Un caracter unicode con 32 bits con exactamente 8 dígitos hexadecimales: \\Uxxxxxxxx\n",
    "- Un caracter de unicode por su nombre: \\N{name} (Se considera para este ejercicio que es cualquier subconjunto de la categoría unicode de letras)"
   ]
  },
  {
   "cell_type": "code",
   "execution_count": 135,
   "metadata": {},
   "outputs": [
    {
     "data": {
      "text/plain": [
       "#'user/regex-string"
      ]
     },
     "execution_count": 135,
     "metadata": {},
     "output_type": "execute_result"
    }
   ],
   "source": [
    "(def regex-string #\"(?xm)\n",
    "  (?:[rRuUfF]|fr|fR|FR|Fr|rf|rF|RF|Rf)?\n",
    "    (?:\n",
    "      (?:'''\n",
    "        (?:[^\\\\]\n",
    "         | \\\\\n",
    "          (?:[abfnrtv'\\\"\\\\]\n",
    "           | newline\n",
    "           | [0-7]{1,3}\n",
    "           | x[a-fA-F0-9]{2}\n",
    "           | u[a-fA-F0-9]{4}\n",
    "           | U[a-fA-F0-9]{8}\n",
    "           | N\\{\\p{L}*\\}))*?''')\n",
    "    | (?:\\\"\\\"\\\"\n",
    "        (?:[^\\\\]\n",
    "         | \\\\\n",
    "          (?:[abfnrtv\\'\\\"\\\\]\n",
    "           | newline\n",
    "           | [0-7]{1,3}\n",
    "           | x[a-fA-F0-9]{2}\n",
    "           | u[a-fA-F0-9]{4}\n",
    "           | U[a-fA-F0-9]{8}\n",
    "           | N\\{\\p{L}*\\}))*?\\\"\\\"\\\")\n",
    "    | (?:'\n",
    "        (?:[^\\n\\'\\\\]\n",
    "         | \\\\\n",
    "          (?:[abfnrtv\\'\\\"\\\\]\n",
    "           | newline\n",
    "           | [0-7]{1,3}\n",
    "           | x[a-fA-F0-9]{2}\n",
    "           | u[a-fA-F0-9]{4}\n",
    "           | U[a-fA-F0-9]{8}\n",
    "           | N\\{\\p{L}*\\}))*?')\n",
    "    | (?:\\\"\n",
    "        (?:[^\\n\\\"\\\\]\n",
    "         | \\\\\n",
    "          (?:[abfnrtv\\'\\\"\\\\]\n",
    "           | newline\n",
    "           | [0-7]{1,3}\n",
    "           | x[a-fA-F0-9]{2}\n",
    "           | u[a-fA-F0-9]{4}\n",
    "           | U[a-fA-F0-9]{8}\n",
    "           | N\\{\\p{L}*\\}))*?\\\"))\")"
   ]
  },
  {
   "cell_type": "code",
   "execution_count": 136,
   "metadata": {},
   "outputs": [
    {
     "data": {
      "text/plain": [
       "(\"''' In python, \\\\newline \\\\N{one} function of the multiline strings\\n                          is to \\\\0 \\\\01 \\\\02 wrap the documentation strings to the limit\\n                          \\\\\\\\ characters. \\\\xAF \\\\uAFaf \\\\UaBcDeFaB '''\")"
      ]
     },
     "execution_count": 136,
     "metadata": {},
     "output_type": "execute_result"
    }
   ],
   "source": [
    "(re-seq regex-string \"''' In python, \\\\newline \\\\N{one} function of the multiline strings\n",
    "                          is to \\\\0 \\\\01 \\\\02 wrap the documentation strings to the limit\n",
    "                          \\\\\\\\ characters. \\\\xAF \\\\uAFaf \\\\UaBcDeFaB '''\")"
   ]
  },
  {
   "cell_type": "markdown",
   "metadata": {},
   "source": [
    "### Bytes\n",
    "Los bytes en python siempre tienen un prefijo, pueden ser con comillas simples o dobles, y pueden ser de línea o de bloque usando una comilla o tres respectivamente para encapsular.\n",
    "\n",
    "Pueden escapar un subconjunto de las secuencias de escape que pueden escapar los strings:\n",
    "- Hasta 3 dígitos octales: \\ooo\n",
    "- Excatamente 2 dígitos hexadecimales: \\xhh"
   ]
  },
  {
   "cell_type": "code",
   "execution_count": 137,
   "metadata": {},
   "outputs": [
    {
     "data": {
      "text/plain": [
       "#'user/regex-byte"
      ]
     },
     "execution_count": 137,
     "metadata": {},
     "output_type": "execute_result"
    }
   ],
   "source": [
    "(def regex-byte #\"(?xm)\n",
    "  (?:b|B|br|bR|Br|BR|rb|rB|Rb|RB)\n",
    "    (?:\n",
    "      (?:'''\n",
    "        (?:[^\\\\]\n",
    "         | \\\\\n",
    "          (?:[abfnrtv\\'\\\"\\\\]\n",
    "           | newline\n",
    "           | [0-7]{1,3}\n",
    "           | x[a-fA-F0-9]{2}))*?''')\n",
    "    | (?:\\\"\\\"\\\"\n",
    "        (?:[^\\\\]\n",
    "         | \\\\\n",
    "          (?:[abfnrtv\\'\\\"\\\\]\n",
    "           | newline\n",
    "           | [0-7]{1,3}\n",
    "           | x[a-fA-F0-9]{2}))*?\\\"\\\"\\\")\n",
    "    | (?:'\n",
    "        (?:[^\\n\\'\\\\]\n",
    "         | \\\\\n",
    "          (?:[abfnrtv\\'\\\"\\\\]\n",
    "           | newline\n",
    "           | [0-7]{1,3}\n",
    "           | x[a-fA-F0-9]{2}))*?')\n",
    "    | (?:\\\"\n",
    "        (?:[^\\n\\\"\\\\]\n",
    "         | \\\\\n",
    "          (?:[abfnrtv\\'\\\"\\\\]\n",
    "            | newline\n",
    "            | [0-7]{1,3}\n",
    "            | x[a-fA-F0-9]{2}))*?\\\"))\")"
   ]
  },
  {
   "cell_type": "code",
   "execution_count": 138,
   "metadata": {},
   "outputs": [
    {
     "data": {
      "text/plain": [
       "(\"B\\\"\\\"\\\" This is a byte in python \\\\123 \\\\\\\\ \\\\newline\\n                    \\\\x12\\\"\\\"\\\"\")"
      ]
     },
     "execution_count": 138,
     "metadata": {},
     "output_type": "execute_result"
    }
   ],
   "source": [
    "(re-seq regex-byte \"B\\\"\\\"\\\" This is a byte in python \\\\123 \\\\\\\\ \\\\newline\n",
    "                    \\\\x12\\\"\\\"\\\"\")"
   ]
  },
  {
   "cell_type": "markdown",
   "metadata": {},
   "source": [
    "### Integers"
   ]
  },
  {
   "cell_type": "markdown",
   "metadata": {},
   "source": [
    "Los enteros en python son meramente un número que puede ser tanto negativo como positivo con una cantidad ilimitada en su longitud.\n",
    "\n",
    "Pueden tener el signo correspondientes antes de los digitos o puede no tener ninguno para hacer referencia al campo de los positivos.\n",
    "\n",
    "Ejemplo: 123"
   ]
  },
  {
   "cell_type": "code",
   "execution_count": 139,
   "metadata": {},
   "outputs": [
    {
     "data": {
      "text/plain": [
       "#'user/regex-integer"
      ]
     },
     "execution_count": 139,
     "metadata": {},
     "output_type": "execute_result"
    }
   ],
   "source": [
    "(def regex-integer #\"(([1-9]\\d*(\\_\\d+)*)|(0((0*\\_0+(\\_0+)*)|([Bb][01]*\\_?[01]+(\\_[01]+)*)|([Oo][0-7]*\\_?[0-7]+(\\_[0-7]+)*)|([Xx][0-9A-Fa-f]*\\_?[0-9A-Fa-f]+(\\_[0-9A-Fa-f]+)*))?))\")"
   ]
  },
  {
   "cell_type": "code",
   "execution_count": 140,
   "metadata": {},
   "outputs": [
    {
     "data": {
      "text/plain": [
       "([\"123\" \"123\" \"123\" nil nil nil nil nil nil nil nil nil nil nil] [\"123\" \"123\" \"123\" nil nil nil nil nil nil nil nil nil nil nil] [\"123\" \"123\" \"123\" nil nil nil nil nil nil nil nil nil nil nil])"
      ]
     },
     "execution_count": 140,
     "metadata": {},
     "output_type": "execute_result"
    }
   ],
   "source": [
    "(re-seq regex-integer \"123 -123 +123\")"
   ]
  },
  {
   "cell_type": "markdown",
   "metadata": {},
   "source": [
    "### Floats"
   ]
  },
  {
   "cell_type": "markdown",
   "metadata": {},
   "source": [
    "Los flotantes o números de punto flotante en python son números que pueden ser tanto negativos como positivos conteniendo uno o más decimales.\n",
    "\n",
    "Pueden tener el signo correspondientes antes de los digitos o puede no tener ninguno para hacer referencia al campo de los positivos.\n",
    "\n",
    "Es indispensable que contengan un punto o un exponencial representado por la letra \"e\" para que se considere como flotante.\n",
    "\n",
    "Ejemplo: -5.4e+56"
   ]
  },
  {
   "cell_type": "code",
   "execution_count": 141,
   "metadata": {},
   "outputs": [
    {
     "data": {
      "text/plain": [
       "#'user/regex-floats"
      ]
     },
     "execution_count": 141,
     "metadata": {},
     "output_type": "execute_result"
    }
   ],
   "source": [
    "(def regex-floats #\"(((\\d+([_]\\d+)*[.]|[.]\\d+)\\d*([_]\\d+)*([eE][-+]?\\d+)?([_]\\d+)*)|(\\d+[eE][-+]?\\d+)([_]\\d+)*)\")"
   ]
  },
  {
   "cell_type": "code",
   "execution_count": 142,
   "metadata": {},
   "outputs": [
    {
     "data": {
      "text/plain": [
       "([\"5.4e+56\" \"5.4e+56\" \"5.4e+56\" \"5.\" nil nil \"e+56\" nil nil nil])"
      ]
     },
     "execution_count": 142,
     "metadata": {},
     "output_type": "execute_result"
    }
   ],
   "source": [
    "(re-seq regex-floats \"-5.4e+56\")"
   ]
  },
  {
   "cell_type": "markdown",
   "metadata": {},
   "source": [
    "### Imaginary number"
   ]
  },
  {
   "cell_type": "markdown",
   "metadata": {},
   "source": [
    "Los números complejos o imaginarios en python son escritos con una \"j\" que representa la parte imaginaria de la expresión.\n",
    "\n",
    "Se representa por tener una parte flotante o una parte de digitos con o sin guiones bajos (4_56j ó 45j)\n",
    "\n",
    "Ejemplo: 56.e-45j"
   ]
  },
  {
   "cell_type": "code",
   "execution_count": 143,
   "metadata": {},
   "outputs": [
    {
     "data": {
      "text/plain": [
       "#'user/regex-imaginary"
      ]
     },
     "execution_count": 143,
     "metadata": {},
     "output_type": "execute_result"
    }
   ],
   "source": [
    "(def regex-imaginary #\"((((\\d+([_]\\d+)*[.]|[.]\\d+)\\d*([_]\\d+)*([eE][-+]?\\d+)?([_]\\d+)*)|((\\d+[eE][-+]?\\d+)([_]\\d+)*)|\\d+([_]\\d+)*)[j])\")"
   ]
  },
  {
   "cell_type": "code",
   "execution_count": 144,
   "metadata": {},
   "outputs": [
    {
     "data": {
      "text/plain": [
       "([\"56.e-45j\" \"56.e-45j\" \"56.e-45\" \"56.e-45\" \"56.\" nil nil \"e-45\" nil nil nil nil nil])"
      ]
     },
     "execution_count": 144,
     "metadata": {},
     "output_type": "execute_result"
    }
   ],
   "source": [
    "(re-seq regex-imaginary \"56.e-45j\")"
   ]
  },
  {
   "cell_type": "markdown",
   "metadata": {},
   "source": [
    "## Operators"
   ]
  },
  {
   "cell_type": "markdown",
   "metadata": {},
   "source": [
    "Los operadores en python son símbolos o  reservados para la realización de operaciones sobre los elementos a aplicar, de entre estos se encuentran variables o valores.\n",
    "\n",
    "Se pueden encontrar operadores aritméticos, comparativos, lógicos, de identidad, de afiliación y de bit a bit.\n",
    "\n",
    "Símbolos considerados:\n",
    "\n",
    "- \\+ \n",
    "- \\-\n",
    "- \\*\n",
    "- \\**\n",
    "- \\/\n",
    "- \\//\n",
    "- \\%\n",
    "- \\@\n",
    "- \\<<\n",
    "- \\>>\n",
    "- \\&\n",
    "- \\|\n",
    "- \\^\n",
    "- \\~\n",
    "- \\:=\n",
    "- \\<\n",
    "- \\>\n",
    "- \\<=\n",
    "- \\>=\n",
    "- \\==\n",
    "- \\!="
   ]
  },
  {
   "cell_type": "code",
   "execution_count": 145,
   "metadata": {},
   "outputs": [
    {
     "data": {
      "text/plain": [
       "#'user/regex-operators"
      ]
     },
     "execution_count": 145,
     "metadata": {},
     "output_type": "execute_result"
    }
   ],
   "source": [
    "(def regex-operators #\"(\\+|\\-|\\*\\*?|\\/\\/?|\\%|\\@|\\<(\\<|\\=)?|\\>(\\>|\\=)?|\\||\\^|\\~|(\\=|\\!|\\:)\\=|\\&)\")"
   ]
  },
  {
   "cell_type": "code",
   "execution_count": 146,
   "metadata": {},
   "outputs": [
    {
     "data": {
      "text/plain": [
       "([\"%\" \"%\" nil nil nil] [\"//\" \"//\" nil nil nil] [\"+\" \"+\" nil nil nil])"
      ]
     },
     "execution_count": 146,
     "metadata": {},
     "output_type": "execute_result"
    }
   ],
   "source": [
    "(re-seq regex-operators \"5%2//2+5\")"
   ]
  },
  {
   "cell_type": "markdown",
   "metadata": {},
   "source": [
    "## Delimiters"
   ]
  },
  {
   "cell_type": "markdown",
   "metadata": {},
   "source": [
    "Los delimitadores en python son caracteres utilizados para delimitar, separar o representar expresiones en el léxico.\n",
    "\n",
    "A pesar de que se contengan operadores de asignación aumentada se listan de esta manera porque no requieren de espacios en blanco en el código fuente.\n",
    "\n",
    "Véase: [Python delimeters]\n",
    "\n",
    "[Python delimeters]: \n",
    "<https://stackoverflow.com/questions/24126468/why-in-python-and-are-considered-as-delimiters>\n",
    "\n",
    "Caracteres considerados:\n",
    "\n",
    "- \\(\n",
    "- \\)\n",
    "- \\[\n",
    "- \\]\n",
    "- \\{\n",
    "- \\}\n",
    "- \\,\n",
    "- \\:\n",
    "- \\.\n",
    "- \\;\n",
    "- \\@\n",
    "- \\=\n",
    "- \\->\n",
    "- \\+=\n",
    "- \\-=\n",
    "- \\*=\n",
    "- \\/=\n",
    "- \\//=\n",
    "- \\%=\n",
    "- \\@=\n",
    "- \\&=\n",
    "- \\|=\n",
    "- \\^=\n",
    "- \\>>=\n",
    "- \\<<=\n",
    "- \\**="
   ]
  },
  {
   "cell_type": "code",
   "execution_count": 147,
   "metadata": {},
   "outputs": [
    {
     "data": {
      "text/plain": [
       "#'user/regex-delimeters"
      ]
     },
     "execution_count": 147,
     "metadata": {},
     "output_type": "execute_result"
    }
   ],
   "source": [
    "(def regex-delimeters #\"(\\'|\\\"|\\#|\\\\|\\(|\\)|\\[|\\]|\\{|\\}|\\,|\\:|\\.|\\;|\\=|->|[-+%&|^]\\=|(\\/\\/?|\\*\\*?|\\<\\<?|\\<\\<?|\\>\\>?)\\=|\\@\\=?)\")"
   ]
  },
  {
   "cell_type": "code",
   "execution_count": 148,
   "metadata": {},
   "outputs": [
    {
     "data": {
      "text/plain": [
       "([\"(\" \"(\" nil] [\"'\" \"'\" nil] [\"'\" \"'\" nil] [\")\" \")\" nil] [\")\" \")\" nil])"
      ]
     },
     "execution_count": 148,
     "metadata": {},
     "output_type": "execute_result"
    }
   ],
   "source": [
    "(re-seq regex-delimeters \"print('Hola Mundo'))\")"
   ]
  },
  {
   "cell_type": "markdown",
   "metadata": {},
   "source": [
    "## Expresión con grupos de captura"
   ]
  },
  {
   "cell_type": "code",
   "execution_count": 36,
   "metadata": {},
   "outputs": [
    {
     "data": {
      "text/plain": [
       "#'user/regex-python"
      ]
     },
     "execution_count": 36,
     "metadata": {},
     "output_type": "execute_result"
    }
   ],
   "source": [
    "(def regex-python #\"(?xm)\n",
    "  (\\#.*)\n",
    "| (\\bFalse\\b|\\bTrue\\b|\\bNone\\b|\\band\\b|\\bas\\b|\\bassert\\b|\\basync\\b|\\bawait\\b|\\bbreak\\b|\\bclass\\b|\\bcontinue\\b|\\bdef\\b|\\bdel\\b|\\belif\\b|\\belse\\b|\\bexcept\\b|\\bfinally\\b|\\bfor\\b|\\bfrom\\b|\\bglobal\\b|\\bif\\b|\\bimport\\b|\\bin\\b|\\bis\\b|\\blambda\\b|\\bnonlocal\\b|\\bnot|\\bor\\b|\\bpass\\b|\\braise\\b|\\breturn\\b|\\btry\\b|\\bwhile\\b|\\bwith\\b|\\byield\\b)\n",
    "| ((?:b|B|br|bR|Br|BR|rb|rB|Rb|RB)\n",
    "    (?:\n",
    "      (?:'''\n",
    "        (?:[^\\\\]\n",
    "         | \\\\\n",
    "          (?:[abfnrtv\\'\\\"\\\\]\n",
    "           | newline\n",
    "           | [0-7]{1,3}\n",
    "           | x[a-fA-F0-9]{2}))*?''')\n",
    "    | (?:\\\"\\\"\\\"\n",
    "        (?:[^\\\\]\n",
    "         | \\\\\n",
    "          (?:[abfnrtv\\'\\\"\\\\]\n",
    "           | newline\n",
    "           | [0-7]{1,3}\n",
    "           | x[a-fA-F0-9]{2}))*?\\\"\\\"\\\")\n",
    "    | (?:'\n",
    "        (?:[^\\n\\'\\\\]\n",
    "         | \\\\\n",
    "          (?:[abfnrtv\\'\\\"\\\\]\n",
    "           | newline\n",
    "           | [0-7]{1,3}\n",
    "           | x[a-fA-F0-9]{2}))*?')\n",
    "    | (?:\\\"\n",
    "        (?:[^\\n\\\"\\\\]\n",
    "         | \\\\\n",
    "          (?:[abfnrtv\\'\\\"\\\\]\n",
    "            | newline\n",
    "            | [0-7]{1,3}\n",
    "            | x[a-fA-F0-9]{2}))*?\\\"))) \n",
    "| ((?:[rRuUfF]|fr|fR|FR|Fr|rf|rF|RF|Rf)? \n",
    "    (?:\n",
    "      (?:'''\n",
    "        (?:[^\\\\]\n",
    "         | \\\\\n",
    "          (?:[abfnrtv'\\\"\\\\]\n",
    "           | newline\n",
    "           | [0-7]{1,3}\n",
    "           | x[a-fA-F0-9]{2}\n",
    "           | u[a-fA-F0-9]{4}\n",
    "           | U[a-fA-F0-9]{8}\n",
    "           | N\\{\\p{L}*\\}))*?''')\n",
    "    | (?:\\\"\\\"\\\"\n",
    "        (?:[^\\\\]\n",
    "         | \\\\\n",
    "          (?:[abfnrtv\\'\\\"\\\\]\n",
    "           | newline\n",
    "           | [0-7]{1,3}\n",
    "           | x[a-fA-F0-9]{2}\n",
    "           | u[a-fA-F0-9]{4}\n",
    "           | U[a-fA-F0-9]{8}\n",
    "           | N\\{\\p{L}*\\}))*?\\\"\\\"\\\")\n",
    "    | (?:'\n",
    "        (?:[^\\n\\'\\\\]\n",
    "         | \\\\\n",
    "          (?:[abfnrtv\\'\\\"\\\\]\n",
    "           | newline\n",
    "           | [0-7]{1,3}\n",
    "           | x[a-fA-F0-9]{2}\n",
    "           | u[a-fA-F0-9]{4}\n",
    "           | U[a-fA-F0-9]{8}\n",
    "           | N\\{\\p{L}*\\}))*?')\n",
    "    | (?:\\\"\n",
    "        (?:[^\\n\\\"\\\\]\n",
    "         | \\\\\n",
    "          (?:[abfnrtv\\'\\\"\\\\]\n",
    "           | newline\n",
    "           | [0-7]{1,3}\n",
    "           | x[a-fA-F0-9]{2}\n",
    "           | u[a-fA-F0-9]{4}\n",
    "           | U[a-fA-F0-9]{8}\n",
    "           | N\\{\\p{L}*\\}))*?\\\")))\n",
    "| (\\b(?:_|\\p{L}|\\p{Nl})(?:_|\\p{L}|\\p{Nl}|\\p{Mn}|\\p{Mc}|\\p{Nd}|\\p{Pc})*?\\b)\n",
    "| (\\'|\\\"|\\#|\\\\|\\(?:|\\)|\\[|\\]|\\{|\\}|\\,|\\:|\\.|\\;|\\=|->|[-+%&|^]\\=|(?:\\/\\/?|\\*\\*?|\\<\\<?|\\<\\<?|\\>\\>?)\\=|\\@\\=?)\n",
    "| (\\+|\\-|\\*\\*?|\\/\\/?|\\%|\\@|\\<(?:\\<|\\=)?|\\>(?:\\>|\\=)?|\\||\\^|\\~|(?:\\=|\\!|\\:)\\=|\\&)\n",
    "| ((?:(?:(?:\\d+(?:[_]\\d+)*[.]|[.]\\d+)\\d*(?:[_]\\d+)*(?:[eE][-+]?\\d+)?(?:[_]\\d+)*?)\n",
    "    |(?:(?:\\d+[eE][-+]?\\d+)(?:[_]\\d+)*)|\\d+(?:[_]\\d+)*?)[j])\n",
    "| ((?:(?:\\d+(?:[_]\\d+)*[.]|[.]\\d+)\\d*(?:[_]\\d+)*(?:[eE][-+]?\\d+)?(?:[_]\\d+)*)\n",
    "    |(?:\\d+[eE][-+]?\\d+)(?:[_]\\d+)*)\n",
    "| ((?:[1-9]\\d*(?:\\_\\d+)*)|(?:0(?:(?:0*\\_0+(?:\\_0+)*)|(?:[Bb][01]*\\_?[01]+(?:\\_[01]+)*)|(?:[Oo][0-7]*\\_?[0-7]+(?:\\_[0-7]+)*)|(?:[Xx][0-9A-Fa-f]*\\_?[0-9A-Fa-f]+(?:\\_[0-9A-Fa-f]+)*))?))\")\n",
    "  \n",
    "  \n",
    "  \n",
    "  "
   ]
  },
  {
   "cell_type": "markdown",
   "metadata": {},
   "source": [
    "### generate-matches\n",
    "La solución de usar el índice del match para reemplazar los strings, se pensó para que no hubiera ambiguedad sobre qué string dentro del documento se debe reemplazar. Por ejemplo, si una string \"my_variable\" está dentro de un comentario en python y además como un identificador, no sería correcto encapsular la que está dentro del comentario con spans. Esta función recibe un objeto creado con re-matcher, y ejecuta re-find repetidamente para encontrar todos los matches de la expresión regular del matcher en la string del matcher, pero agrega el índice del match al final de cada re-find, la única diferencia contra re-seq."
   ]
  },
  {
   "cell_type": "code",
   "execution_count": 37,
   "metadata": {},
   "outputs": [
    {
     "data": {
      "text/plain": [
       "#'user/generate-matches"
      ]
     },
     "execution_count": 37,
     "metadata": {},
     "output_type": "execute_result"
    }
   ],
   "source": [
    "(defn generate-matches\n",
    "  [matcher]\n",
    "  (loop [matches []\n",
    "         match (re-find matcher)]\n",
    "    (if (not (first match))\n",
    "      matches\n",
    "      (recur (conj matches\n",
    "                   (conj match\n",
    "                         (.start matcher)))\n",
    "             (re-find matcher)))))"
   ]
  },
  {
   "cell_type": "code",
   "execution_count": 38,
   "metadata": {},
   "outputs": [
    {
     "name": "stdout",
     "output_type": "stream",
     "text": [
      "[[# This file is a meme. # This file is a meme. nil nil nil nil nil nil nil nil nil 0] [my_variable nil nil nil nil my_variable nil nil nil nil nil 24] [= nil nil nil nil nil = nil nil nil nil 36] [f'''string that represents\n",
      "\t\t  the capacity of python to \n",
      "\t\t  format multiline strings {}''' nil nil nil f'''string that represents\n",
      "\t\t  the capacity of python to \n",
      "\t\t  format multiline strings {}''' nil nil nil nil nil nil 38] [if nil if nil nil nil nil nil nil nil nil 132] [True nil True nil nil nil nil nil nil nil nil 135] [: nil nil nil nil nil : nil nil nil nil 139] [print nil nil nil nil print nil nil nil nil nil 145] [\"\"\"Increible\n",
      "\t     \\072 la realidad\"\"\" nil nil nil \"\"\"Increible\n",
      "\t     \\072 la realidad\"\"\" nil nil nil nil nil nil 151] [else nil else nil nil nil nil nil nil nil nil 190] [: nil nil nil nil nil : nil nil nil nil 194] [pass nil pass nil nil nil nil nil nil nil nil 200] [my_byte nil nil nil nil my_byte nil nil nil nil nil 206] [= nil nil nil nil nil = nil nil nil nil 214] [B\"this is a byte\" nil nil B\"this is a byte\" nil nil nil nil nil nil nil 216] [prueba nil nil nil nil prueba nil nil nil nil nil 235] [= nil nil nil nil nil = nil nil nil nil 242] [567 nil nil nil nil nil nil nil nil nil 567 244]]"
     ]
    },
    {
     "data": {
      "text/plain": [
       "nil"
      ]
     },
     "execution_count": 38,
     "metadata": {},
     "output_type": "execute_result"
    }
   ],
   "source": [
    "(print (generate-matches (re-matcher regex-python (slurp \"python-file.py\"))))"
   ]
  },
  {
   "cell_type": "markdown",
   "metadata": {},
   "source": [
    "### strings-indices-spans\n",
    "Esta función toma un vector donde cada elemento es un vector que generaría re-match (matching-string grupos...) y genera otro vector donde cada elemento es un vector que contiene el matching-string, el índice en donde se encontró y el matching-string encapsulado de spans para su uso en html."
   ]
  },
  {
   "cell_type": "code",
   "execution_count": 39,
   "metadata": {},
   "outputs": [
    {
     "data": {
      "text/plain": [
       "#'user/strings-indices-spans"
      ]
     },
     "execution_count": 39,
     "metadata": {},
     "output_type": "execute_result"
    }
   ],
   "source": [
    "(defn strings-indices-spans\n",
    "  [matches]\n",
    "  (map (fn [match] ; Expression returned by cond is vector with full matching string, index and the category string.\n",
    "         (cond\n",
    "           (match 1) [(match 0)\n",
    "                      (last match)\n",
    "                      (str \"<span style='color:darkblue'>\"\n",
    "                           (clojure.string/replace (match 0) #\"[<>&]\" {\"<\" \"&lt\" \">\" \"&gt\" \"&\" \"&amp\"})\n",
    "                           \"</span>\")]\n",
    "           (match 2) [(match 0)\n",
    "                      (last match)\n",
    "                      (str \"<span style='color:blueviolet'>\"\n",
    "                           (clojure.string/replace (match 0) #\"[<>&]\" {\"<\" \"&lt\" \">\" \"&gt\" \"&\" \"&amp\"})\n",
    "                           \"</span>\")]\n",
    "           (match 3) [(match 0)\n",
    "                      (last match)\n",
    "                      (str \"<span style='color:chocolate'>\"\n",
    "                           (clojure.string/replace (match 0) #\"[<>&]\" {\"<\" \"&lt\" \">\" \"&gt\" \"&\" \"&amp\"})\n",
    "                           \"</span>\")]\n",
    "           (match 4) [(match 0)\n",
    "                      (last match)\n",
    "                      (str \"<span style='color:crimson'>\"\n",
    "                           (clojure.string/replace (match 0) #\"[<>&]\" {\"<\" \"&lt\" \">\" \"&gt\" \"&\" \"&amp\"})\n",
    "                           \"</span>\")]\n",
    "           (match 5) [(match 0)\n",
    "                      (last match)\n",
    "                      (str \"<span style='color:darkgreen'>\"\n",
    "                           (clojure.string/replace (match 0) #\"[<>&]\" {\"<\" \"&lt\" \">\" \"&gt\" \"&\" \"&amp\"})\n",
    "                           \"</span>\")]\n",
    "           (match 6) [(match 0)\n",
    "                      (last match)\n",
    "                      (str \"<span style='color:deepskyblue'>\"\n",
    "                           (clojure.string/replace (match 0) #\"[<>&]\" {\"<\" \"&lt\" \">\" \"&gt\" \"&\" \"&amp\"})\n",
    "                           \"</span>\")]\n",
    "           (match 7) [(match 0)\n",
    "                      (last match)\n",
    "                      (str \"<span style='color:fuchsia'>\"\n",
    "                           (clojure.string/replace (match 0) #\"[<>&]\" {\"<\" \"&lt\" \">\" \"&gt\" \"&\" \"&amp\"})\n",
    "                           \"</span>\")]\n",
    "           (match 8) [(match 0)\n",
    "                      (last match)\n",
    "                      (str \"<span style='color:orange'>\"\n",
    "                           (clojure.string/replace (match 0) #\"[<>&]\" {\"<\" \"&lt\" \">\" \"&gt\" \"&\" \"&amp\"})\n",
    "                           \"</span>\")]\n",
    "           (match 9) [(match 0)\n",
    "                      (last match)\n",
    "                      (str \"<span style='color:saddlebrown'>\"\n",
    "                           (clojure.string/replace (match 0) #\"[<>&]\" {\"<\" \"&lt\" \">\" \"&gt\" \"&\" \"&amp\"})\n",
    "                           \"</span>\")]\n",
    "           (match 10) [(match 0)\n",
    "                       (last match)\n",
    "                       (str \"<span style='color:turquoise'>\"\n",
    "                           (clojure.string/replace (match 0) #\"[<>&]\" {\"<\" \"&lt\" \">\" \"&gt\" \"&\" \"&amp\"})\n",
    "                            \"</span>\")]))\n",
    "       matches))"
   ]
  },
  {
   "cell_type": "code",
   "execution_count": 40,
   "metadata": {},
   "outputs": [
    {
     "data": {
      "text/plain": [
       "([\"# This file is a meme.\" 0 \"<span style='color:darkblue'># This file is a meme.</span>\"] [\"my_variable\" 24 \"<span style='color:darkgreen'>my_variable</span>\"] [\"=\" 36 \"<span style='color:deepskyblue'>=</span>\"] [\"f'''string that represents\\n\\t\\t  the capacity of python to \\n\\t\\t  format multiline strings {}'''\" 38 \"<span style='color:crimson'>f'''string that represents\\n\\t\\t  the capacity of python to \\n\\t\\t  format multiline strings {}'''</span>\"] [\"if\" 132 \"<span style='color:blueviolet'>if</span>\"] [\"True\" 135 \"<span style='color:blueviolet'>True</span>\"] [\":\" 139 \"<span style='color:deepskyblue'>:</span>\"] [\"print\" 145 \"<span style='color:darkgreen'>print</span>\"] [\"\\\"\\\"\\\"Increible\\n\\t     \\\\072 la realidad\\\"\\\"\\\"\" 151 \"<span style='color:crimson'>\\\"\\\"\\\"Increible\\n\\t     \\\\072 la realidad\\\"\\\"\\\"</span>\"] [\"else\" 190 \"<span style='color:blueviolet'>else</span>\"] [\":\" 194 \"<span style='color:deepskyblue'>:</span>\"] [\"pass\" 200 \"<span style='color:blueviolet'>pass</span>\"] [\"my_byte\" 206 \"<span style='color:darkgreen'>my_byte</span>\"] [\"=\" 214 \"<span style='color:deepskyblue'>=</span>\"] [\"B\\\"this is a byte\\\"\" 216 \"<span style='color:chocolate'>B\\\"this is a byte\\\"</span>\"] [\"prueba\" 235 \"<span style='color:darkgreen'>prueba</span>\"] [\"=\" 242 \"<span style='color:deepskyblue'>=</span>\"] [\"567\" 244 \"<span style='color:turquoise'>567</span>\"])"
      ]
     },
     "execution_count": 40,
     "metadata": {},
     "output_type": "execute_result"
    }
   ],
   "source": [
    "(strings-indices-spans (generate-matches (re-matcher regex-python (slurp \"python-file.py\"))))"
   ]
  },
  {
   "cell_type": "markdown",
   "metadata": {},
   "source": [
    "### replace-strings-by-spans\n",
    "\n",
    "La función un vector como el que genera la función anterior strings-indices-matches con todos los strings que deben ser sustituidos y un temporal-string que se refiere al string inicial que va a ser transformado a un html.\n",
    "Se actualiza el temporal-string con ayuda del índice, y el matching-string del string-index-span, que es un elemento de strings-indices-matches que se va actualizando. Después se actualiza el vector strings-indices-spans que contiene todos los strings que deben ser sustituidos. Finalmente se actualiza el elemento string-index-span. Esto ocurre para todos los elementos de strings-indices-spans, sustituyendo los strings matcheados por sus contrapartes con código de html.\n"
   ]
  },
  {
   "cell_type": "code",
   "execution_count": 41,
   "metadata": {},
   "outputs": [
    {
     "data": {
      "text/plain": [
       "#'user/replace-strings-by-spans"
      ]
     },
     "execution_count": 41,
     "metadata": {},
     "output_type": "execute_result"
    }
   ],
   "source": [
    "(defn replace-strings-by-spans\n",
    "  [strings-indices-spans-arg temporal-string-arg]\n",
    "  (loop [temporal-string temporal-string-arg\n",
    "         strings-indices-spans strings-indices-spans-arg\n",
    "         string-index-span (first strings-indices-spans-arg)]\n",
    "  (if (= (count strings-indices-spans) 0)\n",
    "    temporal-string\n",
    "    (recur (if (and (first string-index-span)\n",
    "                    (second string-index-span)\n",
    "                    (last string-index-span))  ; string√index√span√\n",
    "             (str (subs temporal-string\n",
    "                                         0\n",
    "                                         (second string-index-span))\n",
    "                                   (last string-index-span)\n",
    "                                   (subs temporal-string\n",
    "                                         (+ (second string-index-span)\n",
    "                                            (count (first string-index-span)))))\n",
    "           temporal-string)\n",
    "           (let\n",
    "             [extra-letters (- (count (last string-index-span))\n",
    "                               (count (first string-index-span)))]\n",
    "             (map (fn\n",
    "                  [string-index-span-map]\n",
    "                  [(first string-index-span-map)\n",
    "                   (+ (second string-index-span-map)\n",
    "                      extra-letters)\n",
    "                   (last string-index-span-map)])\n",
    "                (rest strings-indices-spans)))\n",
    "           (let\n",
    "             [extra-letters (- (count (last string-index-span))\n",
    "                               (count (first string-index-span)))]\n",
    "             (first (map (fn\n",
    "                  [string-index-span-map]\n",
    "                  [(first string-index-span-map)\n",
    "                   (+ (second string-index-span-map)\n",
    "                      extra-letters)\n",
    "                   (last string-index-span-map)])\n",
    "                (rest strings-indices-spans))))))))"
   ]
  },
  {
   "cell_type": "code",
   "execution_count": 42,
   "metadata": {},
   "outputs": [
    {
     "data": {
      "text/plain": [
       "\"<span style='color:darkblue'># This file is a meme.</span>\\n\\n<span style='color:darkgreen'>my_variable</span> <span style='color:deepskyblue'>=</span> <span style='color:crimson'>f'''string that represents\\n\\t\\t  the capacity of python to \\n\\t\\t  format multiline strings {}'''</span>\\n\\n<span style='color:blueviolet'>if</span> <span style='color:blueviolet'>True</span><span style='color:deepskyblue'>:</span>\\n    <span style='color:darkgreen'>print</span>(<span style='color:crimson'>\\\"\\\"\\\"Increible\\n\\t     \\\\072 la realidad\\\"\\\"\\\"</span>\\n<span style='color:blueviolet'>else</span><span style='color:deepskyblue'>:</span>\\n    <span style='color:blueviolet'>pass</span>\\n\\n<span style='color:darkgreen'>my_byte</span> <span style='color:deepskyblue'>=</span> <span style='color:chocolate'>B\\\"this is a byte\\\"</span>\\n\\n<span style='color:darkgreen'>prueba</span> <span style='color:deepskyblue'>=</span> <span style='color:turquoise'>567</span>\\n\\n\\n\\n\""
      ]
     },
     "execution_count": 42,
     "metadata": {},
     "output_type": "execute_result"
    }
   ],
   "source": [
    "(replace-strings-by-spans (strings-indices-spans (generate-matches (re-matcher regex-python\n",
    "                                                                               (slurp \"python-file.py\"))))\n",
    "                          (slurp \"python-file.py\"))"
   ]
  },
  {
   "cell_type": "markdown",
   "metadata": {},
   "source": [
    "### highlight-text-using-file\n",
    "Toma un nombre de un archivo, y una expresión regular que tiene grupos de captura y utiliza las funciones anteriores para generar un archivo html\n",
    "de mismo nombre y con las strings que hagan match con los distintos grupos de captura mostrando distintos colores."
   ]
  },
  {
   "cell_type": "code",
   "execution_count": 43,
   "metadata": {},
   "outputs": [
    {
     "data": {
      "text/plain": [
       "#'user/highlight-text-using-file"
      ]
     },
     "execution_count": 43,
     "metadata": {},
     "output_type": "execute_result"
    }
   ],
   "source": [
    "(defn highlight-text-using-file\n",
    "  [file-name language-regex]\n",
    "  (spit (clojure.string/replace file-name \".py\" \".html\")\n",
    "        (let [split-html (clojure.string/split (slurp \"starting_html.html\") #\"\\<pre\\>\")]\n",
    "          (reduce str \"\" [(split-html 0)\n",
    "                          \"<pre>\"\n",
    "                          (replace-strings-by-spans (strings-indices-spans (generate-matches (re-matcher language-regex\n",
    "                                                                                                         (slurp file-name))))\n",
    "                                                    (slurp file-name))\n",
    "                          (split-html 1)]))))"
   ]
  },
  {
   "cell_type": "code",
   "execution_count": 44,
   "metadata": {},
   "outputs": [
    {
     "data": {
      "text/plain": [
       "nil"
      ]
     },
     "execution_count": 44,
     "metadata": {},
     "output_type": "execute_result"
    }
   ],
   "source": [
    "(highlight-text-using-file \"python-file.py\" regex-python)"
   ]
  },
  {
   "cell_type": "markdown",
   "metadata": {},
   "source": [
    "## Parte 2"
   ]
  },
  {
   "cell_type": "markdown",
   "metadata": {},
   "source": [
    "### get-file-info\n",
    "Esta función sirve para obtener una secuencia con los nombres de todos los archivos de un directorio, el primer elemento es el nombre del directorio."
   ]
  },
  {
   "cell_type": "code",
   "execution_count": 45,
   "metadata": {},
   "outputs": [
    {
     "data": {
      "text/plain": [
       "#'user/get-file-info"
      ]
     },
     "execution_count": 45,
     "metadata": {},
     "output_type": "execute_result"
    }
   ],
   "source": [
    "(defn get-file-info\n",
    "  [dir]\n",
    "  (map (fn [f]\n",
    "         (.getName f))\n",
    "       (file-seq (clojure.java.io/file dir))))"
   ]
  },
  {
   "cell_type": "markdown",
   "metadata": {},
   "source": [
    "### ranges\n",
    "Esta función sirve para generar una secuencia con p secuencias, en donde cada secuencia contiene un inicio y un final que"
   ]
  },
  {
   "cell_type": "code",
   "execution_count": 46,
   "metadata": {},
   "outputs": [
    {
     "data": {
      "text/plain": [
       "#'user/ranges"
      ]
     },
     "execution_count": 46,
     "metadata": {},
     "output_type": "execute_result"
    }
   ],
   "source": [
    "(defn ranges\n",
    "  [n p]\n",
    "  (partition 2 1 (range 0 (inc n) (/ n p))))"
   ]
  },
  {
   "cell_type": "markdown",
   "metadata": {},
   "source": [
    "### highlight-text-using-file-multi\n",
    "Esta función utiliza la lógica de la función highlight-text-using-file para hacer lo mismo con 1000 archivos dentro de un directorio source-folder, para resaltar su léxico y generar 1000 archivos html en el directorio destination folder."
   ]
  },
  {
   "cell_type": "code",
   "execution_count": 47,
   "metadata": {},
   "outputs": [
    {
     "data": {
      "text/plain": [
       "#'user/highlight-text-using-file-multi"
      ]
     },
     "execution_count": 47,
     "metadata": {},
     "output_type": "execute_result"
    }
   ],
   "source": [
    "(defn highlight-text-using-file-multi\n",
    "  [file-names language-regex source-folder destination-folder]\n",
    "  (map (fn [file-name] (let [source-path (str source-folder \"/\" file-name)\n",
    "                             destination-path (str destination-folder \"/\" file-name)]\n",
    "                         (spit (clojure.string/replace destination-path \".py\" \".html\")\n",
    "                               (let [split-html (clojure.string/split (slurp \"starting_html.html\") #\"\\<pre\\>\")]\n",
    "                                 (reduce str \"\" [(split-html 0)\n",
    "                                                 \"<pre>\"\n",
    "                                                 (replace-strings-by-spans (strings-indices-spans (generate-matches (re-matcher language-regex\n",
    "                                                                                                                                (slurp source-path))))\n",
    "                                                                           (slurp source-path))\n",
    "                                                 (split-html 1)])))))\n",
    "       file-names))"
   ]
  },
  {
   "cell_type": "markdown",
   "metadata": {},
   "source": [
    "Medición secuencial de tiempo"
   ]
  },
  {
   "cell_type": "code",
   "execution_count": 83,
   "metadata": {},
   "outputs": [
    {
     "name": "stderr",
     "output_type": "stream",
     "text": [
      "*Interrupted*\n"
     ]
    },
    {
     "name": "stdout",
     "output_type": "stream",
     "text": [
      "\"Elapsed time: 10.476897 msecs\"\n"
     ]
    },
    {
     "ename": "interrupted",
     "evalue": "",
     "execution_count": 83,
     "output_type": "error",
     "status": "error",
     "traceback": [
      "(no stacktrace)"
     ]
    }
   ],
   "source": [
    "(time (doall (highlight-text-using-file-multi (rest (get-file-info \"1000PythonFiles\"))\n",
    "                                              regex-python\n",
    "                                              \"1000PythonFiles\"\n",
    "                                              \"1000HTMLFiles\")))"
   ]
  },
  {
   "cell_type": "markdown",
   "metadata": {},
   "source": [
    "### highlight-text-using-file-multi-p\n",
    "Esta función aprovecha la implementación de pmap, para ejecutar la función secuencial pero de forma paralela. Se toma en cuenta el número de procesadores para dividir el número de archivos por thread."
   ]
  },
  {
   "cell_type": "code",
   "execution_count": 48,
   "metadata": {},
   "outputs": [
    {
     "data": {
      "text/plain": [
       "#'user/highlight-text-using-file-multi-p"
      ]
     },
     "execution_count": 48,
     "metadata": {},
     "output_type": "execute_result"
    }
   ],
   "source": [
    "(defn highlight-text-using-file-multi-p\n",
    "  [file-names language-regex source-folder destination-folder]\n",
    "  (->>\n",
    "    (pmap (fn\n",
    "            [[start end]]\n",
    "            (take (- end start)\n",
    "                  (drop start\n",
    "                        file-names)))\n",
    "          (ranges 1000\n",
    "                  (.availableProcessors (Runtime/getRuntime))))\n",
    "      (pmap (fn\n",
    "          [file-names-segment]\n",
    "          (pmap (fn [file-name]\n",
    "                  (let [source-path (str source-folder \"/\" file-name)\n",
    "                        destination-path (str destination-folder \"/\" file-name)]\n",
    "                    (spit (clojure.string/replace destination-path \".py\" \".html\")\n",
    "                          (let [split-html (clojure.string/split (slurp \"starting_html.html\") #\"\\<pre\\>\")]\n",
    "                            (reduce str \"\" [(split-html 0)\n",
    "                                            \"<pre>\"\n",
    "                                            (replace-strings-by-spans (strings-indices-spans (generate-matches (re-matcher language-regex\n",
    "                                                                                                                           (slurp source-path))))\n",
    "                                                                      (slurp source-path))\n",
    "                                            (split-html 1)])))))\n",
    "                file-names-segment)))))"
   ]
  },
  {
   "cell_type": "markdown",
   "metadata": {},
   "source": [
    "Medición de tiempo de ejecución paralelo"
   ]
  },
  {
   "cell_type": "code",
   "execution_count": null,
   "metadata": {},
   "outputs": [],
   "source": [
    "(print (System/nanoTime))\n",
    "(highlight-text-using-file-multi-p (rest (get-file-info \"1000PythonFiles\"))\n",
    "                                     regex-python\n",
    "                                     \"1000PythonFiles\"\n",
    "                                     \"1000HTMLFiles\")\n",
    "(System/nanoTime)\n"
   ]
  },
  {
   "cell_type": "code",
   "execution_count": 162,
   "metadata": {},
   "outputs": [
    {
     "data": {
      "text/plain": [
       "1001"
      ]
     },
     "execution_count": 162,
     "metadata": {},
     "output_type": "execute_result"
    }
   ],
   "source": [
    "(count (get-file-info \"1000PythonFiles\"))"
   ]
  },
  {
   "cell_type": "markdown",
   "metadata": {},
   "source": [
    "Tiempos de función secuencial:\n",
    "- 1106517.8741\n",
    "- 1163948.5089\n",
    "- 1051965.1811"
   ]
  },
  {
   "cell_type": "markdown",
   "metadata": {},
   "source": [
    "Tiempos de función paralela\n",
    "- start1: 44225160369405\n",
    "- end1: 44785085717281\n",
    "- start2: 44989646083715\n",
    "- end2: 45545794549691\n",
    "- start3: 45627901669358\n",
    "- end3: 46178197627328"
   ]
  },
  {
   "cell_type": "markdown",
   "metadata": {},
   "source": [
    "Speedup"
   ]
  },
  {
   "cell_type": "code",
   "execution_count": null,
   "metadata": {},
   "outputs": [],
   "source": [
    "(def average-parallel\n",
    "  (/ (+ 559925.347876 556148.465976 550295.95797)\n",
    "     3))"
   ]
  },
  {
   "cell_type": "code",
   "execution_count": null,
   "metadata": {},
   "outputs": [],
   "source": [
    "(def average-sequential\n",
    "  (/ (+ 1106517.8741 1163948.5089 1051965.1811)\n",
    "     3))"
   ]
  },
  {
   "cell_type": "code",
   "execution_count": null,
   "metadata": {},
   "outputs": [],
   "source": [
    "(/ average-sequential average-parallel)"
   ]
  }
 ],
 "metadata": {
  "kernelspec": {
   "display_name": "Clojure (clojupyter=0.3.2=1)",
   "language": "clojure",
   "name": "conda-clojupyter"
  },
  "language_info": {
   "file_extension": ".clj",
   "mimetype": "text/x-clojure",
   "name": "clojure",
   "version": "1.10.1"
  }
 },
 "nbformat": 4,
 "nbformat_minor": 4
}
