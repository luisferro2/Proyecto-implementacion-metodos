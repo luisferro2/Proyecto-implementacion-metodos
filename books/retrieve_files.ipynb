{
 "cells": [
  {
   "cell_type": "markdown",
   "metadata": {},
   "source": [
    "# Retrieving Files from Directory\n",
    "\n",
    "Check Java’s [`java.io.File`](https://docs.oracle.com/en/java/javase/11/docs/api/java.base/java/io/File.html) class documentation for more information regarding files. "
   ]
  },
  {
   "cell_type": "code",
   "execution_count": 1,
   "metadata": {},
   "outputs": [
    {
     "data": {
      "text/plain": [
       "#'user/get-file-info"
      ]
     },
     "execution_count": 1,
     "metadata": {},
     "output_type": "execute_result"
    }
   ],
   "source": [
    "(defn get-file-info\n",
    "  [dir]\n",
    "  (map (fn [f] \n",
    "         [(.getPath f) (.isFile f) (.length f)])\n",
    "       (file-seq (clojure.java.io/file dir))))"
   ]
  },
  {
   "cell_type": "code",
   "execution_count": 2,
   "metadata": {},
   "outputs": [
    {
     "name": "stdout",
     "output_type": "stream",
     "text": [
      "([\".\" false 192]\n",
      " [\"./.DS_Store\" true 6148]\n",
      " [\"./samples\" false 416]\n",
      " [\"./samples/Moby Dick.txt\" true 1276230]\n",
      " [\"./samples/War and Peace.txt\" true 3359581]\n",
      " [\"./samples/Alices Adventures in Wonderland.txt\" true 174310]\n",
      " [\"./samples/Frankenstein.txt\" true 448818]\n",
      " [\"./samples/The Iliad.txt\" true 1157929]\n",
      " [\"./samples/Dracula.txt\" true 881470]\n",
      " [\"./samples/The Picture of Dorian Gray.txt\" true 465794]\n",
      " [\"./samples/The Jungle Book.txt\" true 304373]\n",
      " [\"./samples/Pride and Prejudice.txt\" true 799642]\n",
      " [\"./samples/.ipynb_checkpoints\" false 384]\n",
      " [\"./samples/.ipynb_checkpoints/The Picture of Dorian Gray-checkpoint.txt\"\n",
      "  true\n",
      "  465794]\n",
      " [\"./samples/.ipynb_checkpoints/Moby Dick-checkpoint.txt\" true 1276233]\n",
      " [\"./samples/.ipynb_checkpoints/Little Women-checkpoint.txt\"\n",
      "  true\n",
      "  1053513]\n",
      " [\"./samples/.ipynb_checkpoints/War and Peace-checkpoint.txt\"\n",
      "  true\n",
      "  3359581]\n",
      " [\"./samples/.ipynb_checkpoints/Alices Adventures in Wonderland-checkpoint.txt\"\n",
      "  true\n",
      "  174313]\n",
      " [\"./samples/.ipynb_checkpoints/Frankenstein-checkpoint.txt\"\n",
      "  true\n",
      "  448821]\n",
      " [\"./samples/.ipynb_checkpoints/Pride and Prejudice-checkpoint.txt\"\n",
      "  true\n",
      "  799645]\n",
      " [\"./samples/.ipynb_checkpoints/The Jungle Book-checkpoint.txt\"\n",
      "  true\n",
      "  304373]\n",
      " [\"./samples/.ipynb_checkpoints/The Iliad-checkpoint.txt\" true 1157929]\n",
      " [\"./samples/.ipynb_checkpoints/Dracula-checkpoint.txt\" true 881473]\n",
      " [\"./samples/Little Women.txt\" true 1053510]\n",
      " [\"./retrieve_files.ipynb\" true 1176]\n",
      " [\"./.ipynb_checkpoints\" false 96]\n",
      " [\"./.ipynb_checkpoints/retrieve_files-checkpoint.ipynb\" true 1176])\n"
     ]
    },
    {
     "data": {
      "text/plain": [
       "nil"
      ]
     },
     "execution_count": 2,
     "metadata": {},
     "output_type": "execute_result"
    }
   ],
   "source": [
    "(clojure.pprint/pprint (get-file-info \".\"))"
   ]
  },
  {
   "cell_type": "code",
   "execution_count": null,
   "metadata": {},
   "outputs": [],
   "source": []
  }
 ],
 "metadata": {
  "kernelspec": {
   "display_name": "Clojure (clojupyter=0.3.2=1)",
   "language": "clojure",
   "name": "conda-clojupyter"
  },
  "language_info": {
   "file_extension": ".clj",
   "mimetype": "text/x-clojure",
   "name": "clojure",
   "version": "1.10.1"
  }
 },
 "nbformat": 4,
 "nbformat_minor": 5
}
