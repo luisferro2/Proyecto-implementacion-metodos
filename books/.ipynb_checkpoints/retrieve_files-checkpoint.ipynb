{
 "cells": [
  {
   "cell_type": "markdown",
   "id": "6167dde8",
   "metadata": {},
   "source": [
    "# Retrieving Files from Directory\n",
    "\n",
    "Check Java’s [`java.io.File`](https://docs.oracle.com/en/java/javase/11/docs/api/java.base/java/io/File.html) class documentation for more information regarding files. "
   ]
  },
  {
   "cell_type": "code",
   "execution_count": null,
   "id": "239cc8c3",
   "metadata": {},
   "outputs": [],
   "source": [
    "(defn get-file-info\n",
    "  [dir]\n",
    "  (map (fn [f] \n",
    "         [(.getPath f) (.isFile f) (.length f)])\n",
    "       (file-seq (clojure.java.io/file dir))))"
   ]
  },
  {
   "cell_type": "code",
   "execution_count": null,
   "id": "4533fa23",
   "metadata": {},
   "outputs": [],
   "source": [
    "(clojure.pprint/pprint (get-file-info \".\"))"
   ]
  }
 ],
 "metadata": {
  "kernelspec": {
   "display_name": "Clojure (clojupyter=0.3.2=1)",
   "language": "clojure",
   "name": "conda-clojupyter"
  },
  "language_info": {
   "file_extension": ".clj",
   "mimetype": "text/x-clojure",
   "name": "clojure",
   "version": "1.10.1"
  }
 },
 "nbformat": 4,
 "nbformat_minor": 5
}
