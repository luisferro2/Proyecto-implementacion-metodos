{
 "cells": [
  {
   "cell_type": "markdown",
   "metadata": {},
   "source": [
    "# Resaltador de texto secuencial para python 3.9.5"
   ]
  },
  {
   "cell_type": "markdown",
   "metadata": {},
   "source": [
    "## Autores:\n",
    "* Luis Ignacio Ferro Salinas A01378248\n",
    "\n",
    "Se realiza un resaltador de texto para el lenguaje Python, usando sus especificaciones de léxico más recientes descritas en: [Python lexical analysis]\n",
    "Las categorías que se escogimos para resaltar son las siguientes.\n",
    "\n",
    "* Comentarios.\n",
    "* Keywords.\n",
    "* Identifiers.\n",
    "* Strings.\n",
    "* Bytes.\n",
    "* Integers.\n",
    "* Floats.\n",
    "* Imaginaries.\n",
    "* Operators.\n",
    "* Delimiters.\n",
    "\n",
    "[Python lexical analysis]: <https://docs.python.org/3/reference/lexical_analysis.htmlhttps://docs.python.org/3/reference/lexical_analysis.html>"
   ]
  },
  {
   "cell_type": "markdown",
   "metadata": {},
   "source": [
    "### Comentarios\n",
    "Los comentarios en python, según la especificación léxica, comienzan con un #, y son comentarios de línea."
   ]
  },
  {
   "cell_type": "code",
   "execution_count": 15,
   "metadata": {},
   "outputs": [
    {
     "data": {
      "text/plain": [
       "#'user/regex-comment"
      ]
     },
     "execution_count": 15,
     "metadata": {},
     "output_type": "execute_result"
    }
   ],
   "source": [
    "(def regex-comment (re-pattern \"(#[^\\n]*)\"))"
   ]
  },
  {
   "cell_type": "code",
   "execution_count": 16,
   "metadata": {},
   "outputs": [
    {
     "data": {
      "text/plain": [
       "\"# This is a comment.\\nvariable = 10\\n# This is another comment.\\n\""
      ]
     },
     "execution_count": 16,
     "metadata": {},
     "output_type": "execute_result"
    }
   ],
   "source": [
    "(slurp \"texto_ejemplo.txt\")"
   ]
  },
  {
   "cell_type": "code",
   "execution_count": 17,
   "metadata": {},
   "outputs": [
    {
     "data": {
      "text/plain": [
       "([\"# This is a comment.\" \"# This is a comment.\"] [\"# This is another comment.\" \"# This is another comment.\"])"
      ]
     },
     "execution_count": 17,
     "metadata": {},
     "output_type": "execute_result"
    }
   ],
   "source": [
    "(def matches (re-seq regex-comment (slurp \"texto_ejemplo.txt\")))\n",
    "matches"
   ]
  },
  {
   "cell_type": "code",
   "execution_count": 18,
   "metadata": {},
   "outputs": [
    {
     "data": {
      "text/plain": [
       "([\"# This is a comment.\" \"<span class='comentario'># This is a comment.</span>\"] [\"# This is another comment.\" \"<span class='comentario'># This is another comment.</span>\"])"
      ]
     },
     "execution_count": 18,
     "metadata": {},
     "output_type": "execute_result"
    }
   ],
   "source": [
    "(map (fn [match] \n",
    "                 (cond \n",
    "                   (match 1) [(match 0) (str \"<span class='comentario'>\" (match 0) \"</span>\")]))  ; Expression returned by cond is vector with full matching string and the category string.\n",
    "     matches)"
   ]
  },
  {
   "cell_type": "code",
   "execution_count": 21,
   "metadata": {},
   "outputs": [
    {
     "data": {
      "text/plain": [
       "2"
      ]
     },
     "execution_count": 21,
     "metadata": {},
     "output_type": "execute_result"
    }
   ],
   "source": [
    "(string/index-of \"# This is a comment\" \"This\")"
   ]
  },
  {
   "cell_type": "code",
   "execution_count": null,
   "metadata": {},
   "outputs": [],
   "source": []
  }
 ],
 "metadata": {
  "kernelspec": {
   "display_name": "Clojure (clojupyter=0.3.2=1)",
   "language": "clojure",
   "name": "conda-clojupyter"
  },
  "language_info": {
   "file_extension": ".clj",
   "mimetype": "text/x-clojure",
   "name": "clojure",
   "version": "1.10.1"
  }
 },
 "nbformat": 4,
 "nbformat_minor": 4
}
