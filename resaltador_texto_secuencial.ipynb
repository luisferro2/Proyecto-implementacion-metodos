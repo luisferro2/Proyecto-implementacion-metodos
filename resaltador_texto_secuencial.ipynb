{
 "cells": [
  {
   "cell_type": "markdown",
   "metadata": {},
   "source": [
    "- Al inicio del Jupyter Notebook debe haber una cleda de markdown con la matrícula y el nombre de los integrantes del equipo, así como una breve descripción del proyecto.\n",
    "- Cada función de Clojure definida en su programa debe contar con una celda de markdown (inmediatamente arriba de la celda de código correspondiente) documentando en un breve enunciado su intención.\n",
    "- El código con la implementación de la solución del problema debe seguir las convenciones de estilo y codificación de Clojure.\n"
   ]
  },
  {
   "cell_type": "markdown",
   "metadata": {},
   "source": [
    "# Resaltador de texto secuencial para python 3.9.5"
   ]
  },
  {
   "cell_type": "markdown",
   "metadata": {},
   "source": [
    "## Autores:\n",
    "* Luis Ignacio Ferro Salinas A01378248\n",
    "* Omar Rodrigo SorchiniPuente A01749389\n",
    "\n",
    "Se realiza un resaltador de texto para el lenguaje Python, usando sus especificaciones de léxico más recientes descritas en: [Python lexical analysis]\n",
    "Las categorías que escogimos para resaltar son las siguientes.\n",
    "\n",
    "* Comentarios.\n",
    "* Keywords.\n",
    "* Identifiers.\n",
    "* Strings.\n",
    "* Bytes.\n",
    "* Integers.\n",
    "* Floats.\n",
    "* Imaginaries.\n",
    "* Operators.\n",
    "* Delimiters.\n",
    "\n",
    "[Python lexical analysis]: <https://docs.python.org/3/reference/lexical_analysis.htmlhttps://docs.python.org/3/reference/lexical_analysis.html>"
   ]
  },
  {
   "cell_type": "markdown",
   "metadata": {},
   "source": [
    "### Comentarios\n",
    "Los comentarios en python, según la especificación léxica, comienzan con un #, y son comentarios de línea."
   ]
  },
  {
   "cell_type": "code",
   "execution_count": 172,
   "metadata": {},
   "outputs": [
    {
     "data": {
      "text/plain": [
       "#'user/regex-comment"
      ]
     },
     "execution_count": 172,
     "metadata": {},
     "output_type": "execute_result"
    }
   ],
   "source": [
    "(def regex-comment  #\"\\#.*\"); The . exlcudes the \\n character by default."
   ]
  },
  {
   "cell_type": "code",
   "execution_count": 173,
   "metadata": {},
   "outputs": [
    {
     "data": {
      "text/plain": [
       "(\"# This is a comment in python.\")"
      ]
     },
     "execution_count": 173,
     "metadata": {},
     "output_type": "execute_result"
    }
   ],
   "source": [
    "(re-seq regex-comment \"# This is a comment in python.\\n\")"
   ]
  },
  {
   "cell_type": "markdown",
   "metadata": {},
   "source": [
    "### Keywords\n",
    "Los keywords en python son palabras especiales que no pueden ser utilizadas como identificadores porque pueden tienen propósitos específicos.\n",
    "Son las siguientes:\n",
    "- False\n",
    "- True\n",
    "- None\n",
    "- and\n",
    "- as\n",
    "- assert\n",
    "- async\n",
    "- await\n",
    "- break\n",
    "- class\n",
    "- continue\n",
    "- def\n",
    "- del\n",
    "- elif\n",
    "- else\n",
    "- except\n",
    "- finally\n",
    "- for\n",
    "- from\n",
    "- global\n",
    "- if\n",
    "- import\n",
    "- in\n",
    "- is\n",
    "- lambda\n",
    "- nonlocal\n",
    "- not\n",
    "- or\n",
    "- pass\n",
    "- raise\n",
    "- return\n",
    "- try\n",
    "- while\n",
    "- with\n",
    "- yield"
   ]
  },
  {
   "cell_type": "code",
   "execution_count": 174,
   "metadata": {},
   "outputs": [
    {
     "data": {
      "text/plain": [
       "#'user/regex-keyword"
      ]
     },
     "execution_count": 174,
     "metadata": {},
     "output_type": "execute_result"
    }
   ],
   "source": [
    "(def regex-keyword #\"\\bFalse\\b|\\bTrue\\b|\\bNone\\b|\\band\\b|\\bas\\b|\\bassert\\b|\\basync\\b|\\bawait\\b|\\bbreak\\b|\\bclass\\b|\\bcontinue\\b|\\bdef\\b|\\bdel\\b|\\belif\\b|\\belse\\b|\\bexcept\\b|\\bfinally\\b|\\bfor\\b|\\bfrom\\b|\\bglobal\\b|\\bif\\b|\\bimport\\b|\\bin\\b|\\bis\\b|\\blambda\\b|\\bnonlocal\\b|\\bnot|\\bor\\b|\\bpass\\b|\\braise\\b|\\breturn\\b|\\btry\\b|\\bwhile\\b|\\bwith\\b|\\byield\\b\")\n"
   ]
  },
  {
   "cell_type": "code",
   "execution_count": 175,
   "metadata": {},
   "outputs": [
    {
     "data": {
      "text/plain": [
       "(\"if\" \"True\")"
      ]
     },
     "execution_count": 175,
     "metadata": {},
     "output_type": "execute_result"
    }
   ],
   "source": [
    "(re-seq regex-keyword \"\\nif True:\n",
    "        print()\")"
   ]
  },
  {
   "cell_type": "markdown",
   "metadata": {},
   "source": [
    "### Identifiers\n",
    "En python, los identificadores se definen por una normalización NFLK, pero sin considerarla, la especificación nos da una expresión regular:\n",
    "````\n",
    "id_start id_continue*\n",
    "````\n",
    "En id_start se puede usar el guión bajo, y pueden estar las siguientes categorías de unicode:\n",
    "- Lu\n",
    "- Ll\n",
    "- Lt\n",
    "- Lm\n",
    "- Lo\n",
    "- Nl\n",
    "\n",
    "\n",
    "En id_continue, se permite todo lo que se permite en id_start, y además pueden estar las siguientes categorías:\n",
    "- Mn\n",
    "- Mc\n",
    "- Nd\n",
    "- Pc\n",
    "\n",
    "Las categorías tienen los siguientes significados:\n",
    "- Lu(uppercase)\n",
    "- Ll(lowercase)\n",
    "- Lt(titlecase)\n",
    "- Lm(modifier)\n",
    "- Lo(other)\n",
    "- Nl(letter numbers)\n",
    "- Mn(nonspacing marks)\n",
    "- Mc(spacing combining marks)\n",
    "- Nd(decimal numbers)\n",
    "- Pc(connector punctuations)\n"
   ]
  },
  {
   "cell_type": "code",
   "execution_count": 176,
   "metadata": {},
   "outputs": [
    {
     "data": {
      "text/plain": [
       "#'user/regex-identifiers"
      ]
     },
     "execution_count": 176,
     "metadata": {},
     "output_type": "execute_result"
    }
   ],
   "source": [
    "(def regex-identifiers #\"\\b(?:_|\\p{L}|\\p{Nl})(?:_|\\p{L}|\\p{Nl}|\\p{Mn}|\\p{Mc}|\\p{Nd}|\\p{Pc})*\\b\")\n"
   ]
  },
  {
   "cell_type": "code",
   "execution_count": 177,
   "metadata": {},
   "outputs": [
    {
     "data": {
      "text/plain": [
       "(\"my_number\")"
      ]
     },
     "execution_count": 177,
     "metadata": {},
     "output_type": "execute_result"
    }
   ],
   "source": [
    "(re-seq regex-identifiers \"my_number = 365\")"
   ]
  },
  {
   "cell_type": "markdown",
   "metadata": {},
   "source": [
    "### Strings\n",
    "Los strings en python tienen un prefijio opcional. Después pueden ser shortstrings delimitados por ' o por \".\n",
    "También pueden ser longstrings que pueden ocupar múltiples líneas y están delimitados por ''' o por \"\"\".\n",
    "Las secuencias de escape que requieren estados son:\n",
    "- Hasta 3 dígitos octales: \\ooo\n",
    "- Exactamente 2 dígitos hexadecimales: \\xhh\n",
    "- Un caracter unicode con 16 bits con exactamente 4 dígitos hexadecimales: \\uxxxx\n",
    "- Un caracter unicode con 32 bits con exactamente 8 dígitos hexadecimales: \\Uxxxxxxxx\n",
    "- Un caracter de unicode por su nombre: \\N{name} (Se considera para este ejercicio que es cualquier subconjunto de la categoría unicode de letras)"
   ]
  },
  {
   "cell_type": "code",
   "execution_count": 178,
   "metadata": {},
   "outputs": [
    {
     "data": {
      "text/plain": [
       "#'user/regex-string"
      ]
     },
     "execution_count": 178,
     "metadata": {},
     "output_type": "execute_result"
    }
   ],
   "source": [
    "(def regex-string #\"(?xm)\n",
    "  (?:[rRuUfF]|fr|fR|FR|Fr|rf|rF|RF|Rf)? \n",
    "    (?:\n",
    "      (?:'''\n",
    "        (?:[^\\\\]\n",
    "         | \\\\\n",
    "          (?:[abfnrtv'\\\"\\\\]\n",
    "           | newline\n",
    "           | [0-7]{1,3}\n",
    "           | x[a-fA-F0-9]{2}\n",
    "           | u[a-fA-F0-9]{4}\n",
    "           | U[a-fA-F0-9]{8}\n",
    "           | N\\{\\p{L}*\\}))*''')\n",
    "    | (?:\\\"\\\"\\\"\n",
    "        (?:[^\\\\]\n",
    "         | \\\\\n",
    "          (?:[abfnrtv\\'\\\"\\\\]\n",
    "           | newline\n",
    "           | [0-7]{1,3}\n",
    "           | x[a-fA-F0-9]{2}\n",
    "           | u[a-fA-F0-9]{4}\n",
    "           | U[a-fA-F0-9]{8}\n",
    "           | N\\{\\p{L}*\\}))*\\\"\\\"\\\")\n",
    "    | (?:'\n",
    "        (?:[^\\n\\'\\\\]\n",
    "         | \\\\\n",
    "          (?:[abfnrtv\\'\\\"\\\\]\n",
    "           | newline\n",
    "           | [0-7]{1,3}\n",
    "           | x[a-fA-F0-9]{2}\n",
    "           | u[a-fA-F0-9]{4}\n",
    "           | U[a-fA-F0-9]{8}\n",
    "           | N\\{\\p{L}*\\}))*')\n",
    "    | (?:\\\"\n",
    "        (?:[^\\n\\\"\\\\]\n",
    "         | \\\\\n",
    "          (?:[abfnrtv\\'\\\"\\\\]\n",
    "           | newline\n",
    "           | [0-7]{1,3}\n",
    "           | x[a-fA-F0-9]{2}\n",
    "           | u[a-fA-F0-9]{4}\n",
    "           | U[a-fA-F0-9]{8}\n",
    "           | N\\{\\p{L}*\\}))*\\\"))\")\n"
   ]
  },
  {
   "cell_type": "code",
   "execution_count": 179,
   "metadata": {},
   "outputs": [
    {
     "data": {
      "text/plain": [
       "(\"''' In python, \\\\newline \\\\N{one} function of the multiline strings\\n                          is to \\\\0 \\\\01 \\\\02 wrap the documentation strings to the limit\\n                          \\\\\\\\ characters. \\\\xAF \\\\uAFaf \\\\UaBcDeFaB '''\")"
      ]
     },
     "execution_count": 179,
     "metadata": {},
     "output_type": "execute_result"
    }
   ],
   "source": [
    "(re-seq regex-string \"''' In python, \\\\newline \\\\N{one} function of the multiline strings\n",
    "                          is to \\\\0 \\\\01 \\\\02 wrap the documentation strings to the limit\n",
    "                          \\\\\\\\ characters. \\\\xAF \\\\uAFaf \\\\UaBcDeFaB '''\")"
   ]
  },
  {
   "cell_type": "markdown",
   "metadata": {},
   "source": [
    "### Bytes\n",
    "Los bytes en python siempre tienen un prefijo, pueden ser con comillas simples o dobles, y pueden ser de línea o de bloque usando una comilla o tres respectivamente para encapsular.\n",
    "\n",
    "Pueden escapar un subconjunto de las secuencias de escape que pueden escapar los strings:\n",
    "- Hasta 3 dígitos octales: \\ooo\n",
    "- Excatamente 2 dígitos hexadecimales: \\xhh"
   ]
  },
  {
   "cell_type": "code",
   "execution_count": 180,
   "metadata": {},
   "outputs": [
    {
     "data": {
      "text/plain": [
       "#'user/regex-byte"
      ]
     },
     "execution_count": 180,
     "metadata": {},
     "output_type": "execute_result"
    }
   ],
   "source": [
    "(def regex-byte #\"(?xm)\n",
    "  (?:b|B|br|bR|Br|BR|rb|rB|Rb|RB)\n",
    "    (?:\n",
    "      (?:'''\n",
    "        (?:[^\\\\]\n",
    "         | \\\\\n",
    "          (?:[abfnrt\\'\\\"\\\\]\n",
    "           | newline\n",
    "           | [0-7]{1,3}\n",
    "           | x[a-fA-F0-9]{2}))*''')\n",
    "    | (?:\\\"\\\"\\\"\n",
    "        (?:[^\\\\]\n",
    "         | \\\\\n",
    "          (?:[abfnrt\\'\\\"\\\\]\n",
    "           | newline\n",
    "           | [0-7]{1,3}\n",
    "           | x[a-fA-F0-9]{2}))*\\\"\\\"\\\")\n",
    "    | (?:'\n",
    "        (?:[^\\n\\'\\\\]\n",
    "         | \\\\\n",
    "          (?:[abfnrt\\'\\\"\\\\]\n",
    "           | newline\n",
    "           | [0-7]{1,3}\n",
    "           | x[a-fA-F0-9]{2}))*')\n",
    "    | (?:\\\"\n",
    "        (?:[^\\n\\\"\\\\]\n",
    "         | \\\\\n",
    "          (?:[abfnrt\\'\\\"\\\\]\n",
    "            | newline\n",
    "            | [0-7]{1,3}\n",
    "            | x[a-fA-F0-9]{2}))*\\\"))\")\n"
   ]
  },
  {
   "cell_type": "code",
   "execution_count": 181,
   "metadata": {},
   "outputs": [
    {
     "data": {
      "text/plain": [
       "(\"B\\\"\\\"\\\" This is a byte in python \\\\123 \\\\\\\\ \\\\newline\\n                    \\\\x12\\\"\\\"\\\"\")"
      ]
     },
     "execution_count": 181,
     "metadata": {},
     "output_type": "execute_result"
    }
   ],
   "source": [
    "(re-seq regex-byte \"B\\\"\\\"\\\" This is a byte in python \\\\123 \\\\\\\\ \\\\newline\n",
    "                    \\\\x12\\\"\\\"\\\"\")"
   ]
  },
  {
   "cell_type": "markdown",
   "metadata": {},
   "source": [
    "### Integers"
   ]
  },
  {
   "cell_type": "markdown",
   "metadata": {},
   "source": [
    "Los enteros en python son meramente un número que puede ser tanto negativo como positivo con una cantidad ilimitada en su longitud.\n",
    "\n",
    "Pueden tener el signo correspondientes antes de los digitos o puede no tener ninguno para hacer referencia al campo de los positivos.\n",
    "\n",
    "Ejemplo: 123"
   ]
  },
  {
   "cell_type": "code",
   "execution_count": 182,
   "metadata": {},
   "outputs": [
    {
     "data": {
      "text/plain": [
       "#'user/regex-integer"
      ]
     },
     "execution_count": 182,
     "metadata": {},
     "output_type": "execute_result"
    }
   ],
   "source": [
    "(def regex-integer #\"(([1-9]\\d*(\\_\\d+)*)|(0((0*\\_0+(\\_0+)*)|([Bb][01]*\\_?[01]+(\\_[01]+)*)|([Oo][0-7]*\\_?[0-7]+(\\_[0-7]+)*)|([Xx][0-9A-Fa-f]*\\_?[0-9A-Fa-f]+(\\_[0-9A-Fa-f]+)*))?))\")"
   ]
  },
  {
   "cell_type": "code",
   "execution_count": 183,
   "metadata": {},
   "outputs": [
    {
     "data": {
      "text/plain": [
       "([\"123\" \"123\" \"123\" nil nil nil nil nil nil nil nil nil nil nil] [\"123\" \"123\" \"123\" nil nil nil nil nil nil nil nil nil nil nil] [\"123\" \"123\" \"123\" nil nil nil nil nil nil nil nil nil nil nil])"
      ]
     },
     "execution_count": 183,
     "metadata": {},
     "output_type": "execute_result"
    }
   ],
   "source": [
    "(re-seq regex-integer \"123 -123 +123\")"
   ]
  },
  {
   "cell_type": "markdown",
   "metadata": {},
   "source": [
    "### Floats"
   ]
  },
  {
   "cell_type": "markdown",
   "metadata": {},
   "source": [
    "Los flotantes o números de punto flotante en python son números que pueden ser tanto negativos como positivos conteniendo uno o más decimales.\n",
    "\n",
    "Pueden tener el signo correspondientes antes de los digitos o puede no tener ninguno para hacer referencia al campo de los positivos.\n",
    "\n",
    "Es indispensable que contengan un punto o un exponencial representado por la letra \"e\" para que se considere como flotante.\n",
    "\n",
    "Ejemplo: -5.4e+56"
   ]
  },
  {
   "cell_type": "code",
   "execution_count": 184,
   "metadata": {},
   "outputs": [
    {
     "data": {
      "text/plain": [
       "#'user/regex-floats"
      ]
     },
     "execution_count": 184,
     "metadata": {},
     "output_type": "execute_result"
    }
   ],
   "source": [
    "(def regex-floats #\"(((\\d+([_]\\d+)*[.]|[.]\\d+)\\d*([_]\\d+)*([eE][-+]?\\d+)?([_]\\d+)*)|(\\d+[eE][-+]?\\d+)([_]\\d+)*)\")"
   ]
  },
  {
   "cell_type": "code",
   "execution_count": 185,
   "metadata": {},
   "outputs": [
    {
     "data": {
      "text/plain": [
       "([\"5.4e+56\" \"5.4e+56\" \"5.4e+56\" \"5.\" nil nil \"e+56\" nil nil nil])"
      ]
     },
     "execution_count": 185,
     "metadata": {},
     "output_type": "execute_result"
    }
   ],
   "source": [
    "(re-seq regex-floats \"-5.4e+56\")"
   ]
  },
  {
   "cell_type": "markdown",
   "metadata": {},
   "source": [
    "### Imaginary number"
   ]
  },
  {
   "cell_type": "markdown",
   "metadata": {},
   "source": [
    "Los números complejos o imaginarios en python son escritos con una \"j\" que representa la parte imaginaria de la expresión.\n",
    "\n",
    "Se representa por tener una parte flotante o una parte de digitos con o sin guiones bajos (4_56j ó 45j)\n",
    "\n",
    "Ejemplo: 56.e-45j"
   ]
  },
  {
   "cell_type": "code",
   "execution_count": 2,
   "metadata": {},
   "outputs": [
    {
     "data": {
      "text/plain": [
       "#'user/regex-imaginary"
      ]
     },
     "execution_count": 2,
     "metadata": {},
     "output_type": "execute_result"
    }
   ],
   "source": [
    "(def regex-imaginary #\"((((\\d+([_]\\d+)*[.]|[.]\\d+)\\d*([_]\\d+)*([eE][-+]?\\d+)?([_]\\d+)*)|((\\d+[eE][-+]?\\d+)([_]\\d+)*)|\\d+([_]\\d+)*)[j])\")"
   ]
  },
  {
   "cell_type": "code",
   "execution_count": 3,
   "metadata": {},
   "outputs": [
    {
     "data": {
      "text/plain": [
       "([\"56.e-45j\" \"56.e-45j\" \"56.e-45\" \"56.e-45\" \"56.\" nil nil \"e-45\" nil nil nil nil nil])"
      ]
     },
     "execution_count": 3,
     "metadata": {},
     "output_type": "execute_result"
    }
   ],
   "source": [
    "(re-seq regex-imaginary \"56.e-45j\")"
   ]
  },
  {
   "cell_type": "markdown",
   "metadata": {},
   "source": [
    "## Operators"
   ]
  },
  {
   "cell_type": "markdown",
   "metadata": {},
   "source": [
    "Los operadores en python son símbolos o  reservados para la realización de operaciones sobre los elementos a aplicar, de entre estos se encuentran variables o valores.\n",
    "\n",
    "Se pueden encontrar operadores aritméticos, comparativos, lógicos, de identidad, de afiliación y de bit a bit.\n",
    "\n",
    "Símbolos considerados:\n",
    "\n",
    "- \\+ \n",
    "- \\-\n",
    "- \\*\n",
    "- \\**\n",
    "- \\/\n",
    "- \\//\n",
    "- \\%\n",
    "- \\@\n",
    "- \\<<\n",
    "- \\>>\n",
    "- \\&\n",
    "- \\|\n",
    "- \\^\n",
    "- \\~\n",
    "- \\:=\n",
    "- \\<\n",
    "- \\>\n",
    "- \\<=\n",
    "- \\>=\n",
    "- \\==\n",
    "- \\!="
   ]
  },
  {
   "cell_type": "code",
   "execution_count": 188,
   "metadata": {},
   "outputs": [
    {
     "data": {
      "text/plain": [
       "#'user/regex-operators"
      ]
     },
     "execution_count": 188,
     "metadata": {},
     "output_type": "execute_result"
    }
   ],
   "source": [
    "(def regex-operators #\"(\\+|\\-|\\*\\*?|\\/\\/?|\\%|\\@|\\<(\\<|\\=)?|\\>(\\>|\\=)?|\\||\\^|\\~|(\\=|\\!|\\:)\\=|\\&)\")"
   ]
  },
  {
   "cell_type": "code",
   "execution_count": 189,
   "metadata": {},
   "outputs": [
    {
     "data": {
      "text/plain": [
       "([\"%\" \"%\" nil nil nil] [\"//\" \"//\" nil nil nil] [\"+\" \"+\" nil nil nil])"
      ]
     },
     "execution_count": 189,
     "metadata": {},
     "output_type": "execute_result"
    }
   ],
   "source": [
    "(re-seq regex-operators \"5%2//2+5\")"
   ]
  },
  {
   "cell_type": "markdown",
   "metadata": {},
   "source": [
    "## Delimiters"
   ]
  },
  {
   "cell_type": "markdown",
   "metadata": {},
   "source": [
    "Los delimitadores en python son caracteres utilizados para delimitar, separar o representar expresiones en el léxico.\n",
    "\n",
    "A pesar de que se contengan operadores de asignación aumentada se listan de esta manera porque no requieren de espacios en blanco en el código fuente.\n",
    "\n",
    "Véase: [Python delimeters]\n",
    "\n",
    "[Python delimeters]: \n",
    "<https://stackoverflow.com/questions/24126468/why-in-python-and-are-considered-as-delimiters>\n",
    "\n",
    "Caracteres considerados:\n",
    "\n",
    "- \\(\n",
    "- \\)\n",
    "- \\[\n",
    "- \\]\n",
    "- \\{\n",
    "- \\}\n",
    "- \\,\n",
    "- \\:\n",
    "- \\.\n",
    "- \\;\n",
    "- \\@\n",
    "- \\=\n",
    "- \\->\n",
    "- \\+=\n",
    "- \\-=\n",
    "- \\*=\n",
    "- \\/=\n",
    "- \\//=\n",
    "- \\%=\n",
    "- \\@=\n",
    "- \\&=\n",
    "- \\|=\n",
    "- \\^=\n",
    "- \\>>=\n",
    "- \\<<=\n",
    "- \\**="
   ]
  },
  {
   "cell_type": "code",
   "execution_count": 190,
   "metadata": {},
   "outputs": [
    {
     "data": {
      "text/plain": [
       "#'user/regex-delimeters"
      ]
     },
     "execution_count": 190,
     "metadata": {},
     "output_type": "execute_result"
    }
   ],
   "source": [
    "(def regex-delimeters #\"(\\'|\\\"|\\#|\\\\|\\(|\\)|\\[|\\]|\\{|\\}|\\,|\\:|\\.|\\;|\\=|->|[-+%&|^]\\=|(\\/\\/?|\\*\\*?|\\<\\<?|\\<\\<?|\\>\\>?)\\=|\\@\\=?)\")"
   ]
  },
  {
   "cell_type": "code",
   "execution_count": 191,
   "metadata": {},
   "outputs": [
    {
     "data": {
      "text/plain": [
       "([\"(\" \"(\" nil] [\"'\" \"'\" nil] [\"'\" \"'\" nil] [\")\" \")\" nil] [\")\" \")\" nil])"
      ]
     },
     "execution_count": 191,
     "metadata": {},
     "output_type": "execute_result"
    }
   ],
   "source": [
    "(re-seq regex-delimeters \"print('Hola Mundo'))\")"
   ]
  },
  {
   "cell_type": "markdown",
   "metadata": {},
   "source": [
    "## Expresión con grupos de captura"
   ]
  },
  {
   "cell_type": "code",
   "execution_count": 192,
   "metadata": {},
   "outputs": [
    {
     "data": {
      "text/plain": [
       "#'user/regex-python"
      ]
     },
     "execution_count": 192,
     "metadata": {},
     "output_type": "execute_result"
    }
   ],
   "source": [
    "(def regex-python #\"(?xm)\n",
    "  (\\#.*)\n",
    "| (\\bFalse\\b|\\bTrue\\b|\\bNone\\b|\\band\\b|\\bas\\b|\\bassert\\b|\\basync\\b|\\bawait\\b|\\bbreak\\b|\\bclass\\b|\\bcontinue\\b|\\bdef\\b|\\bdel\\b|\\belif\\b|\\belse\\b|\\bexcept\\b|\\bfinally\\b|\\bfor\\b|\\bfrom\\b|\\bglobal\\b|\\bif\\b|\\bimport\\b|\\bin\\b|\\bis\\b|\\blambda\\b|\\bnonlocal\\b|\\bnot|\\bor\\b|\\bpass\\b|\\braise\\b|\\breturn\\b|\\btry\\b|\\bwhile\\b|\\bwith\\b|\\byield\\b)\n",
    "| ((?:b|B|br|bR|Br|BR|rb|rB|Rb|RB)\n",
    "    (?:\n",
    "      (?:'''\n",
    "        (?:[^\\\\]\n",
    "         | \\\\\n",
    "          (?:[abfnrt\\'\\\"]\n",
    "           | [0-7]{1,3}\n",
    "           | x[a-fA-F0-9]{2}))*''')\n",
    "    | (?:\\\"\\\"\\\"\n",
    "        (?:[^\\\\]\n",
    "         | \\\\\n",
    "          (?:[abfnrt\\'\\\"]\n",
    "           | [0-7]{1,3}\n",
    "           | x[a-fA-F0-9]{2}))*\\\"\\\"\\\")\n",
    "    | (?:'\n",
    "        (?:[^\\n\\'\\\\]\n",
    "         | \\\\\n",
    "          (?:[abfnrt\\'\\\"]\n",
    "           | [0-7]{1,3}\n",
    "           | x[a-fA-F0-9]{2}))*')\n",
    "    | (?:\\\"\n",
    "        (?:[^\\n\\\"\\\\]\n",
    "         | \\\\\n",
    "          (?:[abfnrt\\'\\\"]\n",
    "            | [0-7]{1,3}\n",
    "            | x[a-fA-F0-9]{2}))*\\\"))) \n",
    "| ((?:[rRuUfF]|fr|fR|FR|Fr|rf|rF|RF|Rf)? \n",
    "    (?:\n",
    "      (?:'''\n",
    "        (?:[^\\\\]\n",
    "         | \\\\\n",
    "          (?:[abfnrt'\\\"]\n",
    "           | [0-7]{1,3}\n",
    "           | x[a-fA-F0-9]{2}\n",
    "           | u[a-fA-F0-9]{4}\n",
    "           | U[a-fA-F0-9]{8}\n",
    "           | N\\{[LMNPSCZ]\\}))*''')\n",
    "    | (?:\\\"\\\"\\\"\n",
    "        (?:[^\\\\]\n",
    "         | \\\\\n",
    "          (?:[abfnrt\\'\\\"]\n",
    "           | [0-7]{1,3}\n",
    "           | x[a-fA-F0-9]{2}\n",
    "           | u[a-fA-F0-9]{4}\n",
    "           | U[a-fA-F0-9]{8}\n",
    "           | N\\{[LMNPSCZ]\\}))*\\\"\\\"\\\")\n",
    "    | (?:'\n",
    "        (?:[^\\n\\'\\\\]\n",
    "         | \\\\\n",
    "          (?:[abfnrt\\'\\\"]\n",
    "           | [0-7]{1,3}\n",
    "           | x[a-fA-F0-9]{2}\n",
    "           | u[a-fA-F0-9]{4}\n",
    "           | U[a-fA-F0-9]{8}\n",
    "           | N\\{[LMNPSCZ]\\}))*')\n",
    "    | (?:\\\"\n",
    "        (?:[^\\n\\\"\\\\]\n",
    "         | \\\\\n",
    "          (?:[abfnrt\\'\\\"]\n",
    "           | [0-7]{1,3}\n",
    "           | x[a-fA-F0-9]{2}\n",
    "           | u[a-fA-F0-9]{4}\n",
    "           | U[a-fA-F0-9]{8}\n",
    "           | N\\{[LMNPSCZ]\\}))*\\\")))\n",
    "| (\\b(?:_|\\p{L}|\\p{Nl})(?:_|\\p{L}|\\p{Nl}|\\p{Mn}|\\p{Mc}|\\p{Nd}|\\p{Pc})*\\b)\n",
    "| (\\'|\\\"|\\#|\\\\|\\(?:|\\)|\\[|\\]|\\{|\\}|\\,|\\:|\\.|\\;|\\=|->|[-+%&|^]\\=|(?:\\/\\/?|\\*\\*?|\\<\\<?|\\<\\<?|\\>\\>?)\\=|\\@\\=?)\n",
    "| (\\+|\\-|\\*\\*?|\\/\\/?|\\%|\\@|\\<(?:\\<|\\=)?|\\>(?:\\>|\\=)?|\\||\\^|\\~|(?:\\=|\\!|\\:)\\=|\\&)\n",
    "| ((?:(?:(?:\\d+(?:[_]\\d+)*[.]|[.]\\d+)\\d*(?:[_]\\d+)*(?:[eE][-+]?\\d+)?(?:[_]\\d+)*)\n",
    "    |(?:(?:\\d+[eE][-+]?\\d+)(?:[_]\\d+)*)|\\d+(?:[_]\\d+)*)[j])\n",
    "| ((?:(?:\\d+(?:[_]\\d+)*[.]|[.]\\d+)\\d*(?:[_]\\d+)*(?:[eE][-+]?\\d+)?(?:[_]\\d+)*)\n",
    "    |(?:\\d+[eE][-+]?\\d+)(?:[_]\\d+)*)\n",
    "| ((?:[1-9]\\d*(?:\\_\\d+)*)|(?:0(?:(?:0*\\_0+(?:\\_0+)*)|(?:[Bb][01]*\\_?[01]+(?:\\_[01]+)*)|(?:[Oo][0-7]*\\_?[0-7]+(?:\\_[0-7]+)*)|(?:[Xx][0-9A-Fa-f]*\\_?[0-9A-Fa-f]+(?:\\_[0-9A-Fa-f]+)*))?))\")\n"
   ]
  },
  {
   "cell_type": "markdown",
   "metadata": {},
   "source": [
    "### strings-indices-spans\n",
    "Esta función toma un vector donde cada elemento es un vector que generaría re-match (matching-string grupos...) y genera otro vector donde cada elemento es un vector que contiene el matching-string, el índice en donde se encontró y el matching-string encapsulado de spans para su uso en html."
   ]
  },
  {
   "cell_type": "code",
   "execution_count": 193,
   "metadata": {},
   "outputs": [
    {
     "data": {
      "text/plain": [
       "#'user/strings-indices-spans"
      ]
     },
     "execution_count": 193,
     "metadata": {},
     "output_type": "execute_result"
    }
   ],
   "source": [
    "(defn strings-indices-spans\n",
    "  [matches]\n",
    "  (map (fn [match] ; Expression returned by cond is vector with full matching string, index and the category string.\n",
    "         (cond \n",
    "           (match 1) [(match 0) (last match) (str \"<span style='color:darkblue'>\" (match 0) \"</span>\")]\n",
    "           (match 2) [(match 0) (last match) (str \"<span style='color:blueviolet'>\" (match 0) \"</span>\")]\n",
    "           (match 3) [(match 0) (last match) (str \"<span style='color:chocolate'>\" (match 0) \"</span>\")]\n",
    "           (match 4) [(match 0) (last match) (str \"<span style='color:crimson'>\" (match 0) \"</span>\")]\n",
    "           (match 5) [(match 0) (last match) (str \"<span style='color:darkgreen'>\" (match 0) \"</span>\")]\n",
    "           (match 6) [(match 0) (last match) (str \"<span style='color:deepskyblue'>\" (match 0) \"</span>\")]\n",
    "           (match 7) [(match 0) (last match) (str \"<span style='color:fuchsia'>\" (match 0) \"</span>\")]\n",
    "           (match 8) [(match 0) (last match) (str \"<span style='color:orange'>\" (match 0) \"</span>\")]\n",
    "           (match 9) [(match 0) (last match) (str \"<span style='color:saddlebrown'>\" (match 0) \"</span>\")]\n",
    "           (match 10) [(match 0) (last match) (str \"<span style='color:turquoise'>\" (match 0) \"</span>\")]))\n",
    "       matches))"
   ]
  },
  {
   "cell_type": "code",
   "execution_count": 194,
   "metadata": {},
   "outputs": [
    {
     "data": {
      "text/plain": [
       "([\"# This file is a meme.\" 0 \"<span style='color:darkblue'># This file is a meme.</span>\"] [\"my_variable\" 24 \"<span style='color:darkgreen'>my_variable</span>\"] [\"=\" 36 \"<span style='color:deepskyblue'>=</span>\"] [\"f'''string that represents\\n\\t\\t  the capacity of python to \\n\\t\\t  format multiline strings {}'''\" 38 \"<span style='color:crimson'>f'''string that represents\\n\\t\\t  the capacity of python to \\n\\t\\t  format multiline strings {}'''</span>\"] [\"if\" 132 \"<span style='color:blueviolet'>if</span>\"] [\"True\" 135 \"<span style='color:blueviolet'>True</span>\"] [\":\" 139 \"<span style='color:deepskyblue'>:</span>\"] [\"print\" 145 \"<span style='color:darkgreen'>print</span>\"] [\"\\\"\\\"\\\"Increible\\n\\t     \\\\072 la realidad\\\"\\\"\\\"\" 151 \"<span style='color:crimson'>\\\"\\\"\\\"Increible\\n\\t     \\\\072 la realidad\\\"\\\"\\\"</span>\"] [\"else\" 190 \"<span style='color:blueviolet'>else</span>\"] [\":\" 194 \"<span style='color:deepskyblue'>:</span>\"] [\"pass\" 200 \"<span style='color:blueviolet'>pass</span>\"] [\"my_byte\" 206 \"<span style='color:darkgreen'>my_byte</span>\"] [\"=\" 214 \"<span style='color:deepskyblue'>=</span>\"] [\"B\\\"this is a byte\\\"\" 216 \"<span style='color:chocolate'>B\\\"this is a byte\\\"</span>\"] [\"prueba\" 235 \"<span style='color:darkgreen'>prueba</span>\"] [\"=\" 242 \"<span style='color:deepskyblue'>=</span>\"] [\"567\" 244 \"<span style='color:turquoise'>567</span>\"])"
      ]
     },
     "execution_count": 194,
     "metadata": {},
     "output_type": "execute_result"
    }
   ],
   "source": [
    "(strings-indices-spans (generate-matches (re-matcher regex-python (slurp \"python-file.py\"))))"
   ]
  },
  {
   "cell_type": "markdown",
   "metadata": {},
   "source": [
    "### replace-strings-by-spans\n",
    "\n",
    "La función un vector como el que genera la función anterior strings-indices-matches con todos los strings que deben ser sustituidos y un temporal-string que se refiere al string inicial que va a ser transformado a un html.\n",
    "Se actualiza el temporal-string con ayuda del índice, y el matching-string del string-index-span, que es un elemento de strings-indices-matches que se va actualizando. Después se actualiza el vector strings-indices-spans que contiene todos los strings que deben ser sustituidos. Finalmente se actualiza el elemento string-index-span. Esto ocurre para todos los elementos de strings-indices-spans, sustituyendo los strings matcheados por sus contrapartes con código de html.\n"
   ]
  },
  {
   "cell_type": "code",
   "execution_count": 195,
   "metadata": {},
   "outputs": [
    {
     "data": {
      "text/plain": [
       "#'user/replace-strings-by-spans"
      ]
     },
     "execution_count": 195,
     "metadata": {},
     "output_type": "execute_result"
    }
   ],
   "source": [
    "(defn replace-strings-by-spans\n",
    "  [strings-indices-spans-arg temporal-string-arg]\n",
    "  (loop [temporal-string temporal-string-arg\n",
    "         strings-indices-spans strings-indices-spans-arg\n",
    "         string-index-span (first strings-indices-spans-arg)]\n",
    "  ;(print strings-indices-spans)\n",
    "  ;(print \"\\n\")\n",
    "  ;(print string-index-span)\n",
    "  ;(print \"\\n\")\n",
    "  ;(print temporal-string)\n",
    "  ;(print \"\\n\")\n",
    "  (if (= (count strings-indices-spans) 0)\n",
    "    temporal-string\n",
    "    (recur (if (and (first string-index-span) (second string-index-span) (last string-index-span)); string√index√span√\n",
    "             (str (subs temporal-string \n",
    "                                         0 \n",
    "                                         (second string-index-span)); 1 before the string begins\n",
    "                                   (last string-index-span)\n",
    "                                   (subs temporal-string \n",
    "                                         (+ (second string-index-span) \n",
    "                                            (count (first string-index-span)))))\n",
    "           temporal-string)\n",
    "           (let \n",
    "             [extra-letters (- (count (last string-index-span)) \n",
    "                               (count (first string-index-span)))]\n",
    "             (map (fn\n",
    "                  [string-index-span-map]\n",
    "                  [(first string-index-span-map) \n",
    "                   (+ (second string-index-span-map)\n",
    "                      extra-letters)\n",
    "                   (last string-index-span-map)])\n",
    "                (rest strings-indices-spans)))\n",
    "           (let \n",
    "             [extra-letters (- (count (last string-index-span)) \n",
    "                               (count (first string-index-span)))]\n",
    "             (first (map (fn\n",
    "                  [string-index-span-map]\n",
    "                  [(first string-index-span-map) \n",
    "                   (+ (second string-index-span-map) \n",
    "                      extra-letters)\n",
    "                   (last string-index-span-map)])\n",
    "                (rest strings-indices-spans))))))))"
   ]
  },
  {
   "cell_type": "code",
   "execution_count": 196,
   "metadata": {},
   "outputs": [
    {
     "data": {
      "text/plain": [
       "\"<span style='color:darkblue'># This file is a meme.</span>\\n\\n<span style='color:darkgreen'>my_variable</span> <span style='color:deepskyblue'>=</span> <span style='color:crimson'>f'''string that represents\\n\\t\\t  the capacity of python to \\n\\t\\t  format multiline strings {}'''</span>\\n\\n<span style='color:blueviolet'>if</span> <span style='color:blueviolet'>True</span><span style='color:deepskyblue'>:</span>\\n    <span style='color:darkgreen'>print</span>(<span style='color:crimson'>\\\"\\\"\\\"Increible\\n\\t     \\\\072 la realidad\\\"\\\"\\\"</span>\\n<span style='color:blueviolet'>else</span><span style='color:deepskyblue'>:</span>\\n    <span style='color:blueviolet'>pass</span>\\n\\n<span style='color:darkgreen'>my_byte</span> <span style='color:deepskyblue'>=</span> <span style='color:chocolate'>B\\\"this is a byte\\\"</span>\\n\\n<span style='color:darkgreen'>prueba</span> <span style='color:deepskyblue'>=</span> <span style='color:turquoise'>567</span>\\n\\n\\n\\n\""
      ]
     },
     "execution_count": 196,
     "metadata": {},
     "output_type": "execute_result"
    }
   ],
   "source": [
    "(replace-strings-by-spans (strings-indices-spans (generate-matches (re-matcher regex-python \n",
    "                                                                               (slurp \"python-file.py\"))))\n",
    "                          (slurp \"python-file.py\"))\n",
    "\n"
   ]
  },
  {
   "cell_type": "markdown",
   "metadata": {},
   "source": [
    "### generate-matches\n",
    "La solución de usar el índice del match para reemplazar los strings, se pensó para que no hubiera ambiguedad sobre qué string dentro del documento se debe reemplazar. Por ejemplo, si una string \"my_variable\" está dentro de un comentario en python y además como un identificador, no sería correcto encapsular la que está dentro del comentario con spans. Esta función recibe un objeto creado con re-matcher, y ejecuta re-find repetidamente para encontrar todos los matches de la expresión regular del matcher en la string del matcher, pero agrega el índice del match al final de cada re-find, la única diferencia contra re-seq."
   ]
  },
  {
   "cell_type": "code",
   "execution_count": 197,
   "metadata": {},
   "outputs": [
    {
     "data": {
      "text/plain": [
       "#'user/generate-matches"
      ]
     },
     "execution_count": 197,
     "metadata": {},
     "output_type": "execute_result"
    }
   ],
   "source": [
    "(defn generate-matches \n",
    "  [matcher] \n",
    "  (loop [matches []\n",
    "         match (re-find matcher)]\n",
    "    (if (not (first match))\n",
    "      matches\n",
    "      (recur (conj matches \n",
    "                   (conj match \n",
    "                         (.start matcher))) \n",
    "             (re-find matcher)))))"
   ]
  },
  {
   "cell_type": "code",
   "execution_count": 198,
   "metadata": {},
   "outputs": [
    {
     "name": "stdout",
     "output_type": "stream",
     "text": [
      "[[# This file is a meme. # This file is a meme. nil nil nil nil nil nil nil nil nil 0] [my_variable nil nil nil nil my_variable nil nil nil nil nil 24] [= nil nil nil nil nil = nil nil nil nil 36] [f'''string that represents\n",
      "\t\t  the capacity of python to \n",
      "\t\t  format multiline strings {}''' nil nil nil f'''string that represents\n",
      "\t\t  the capacity of python to \n",
      "\t\t  format multiline strings {}''' nil nil nil nil nil nil 38] [if nil if nil nil nil nil nil nil nil nil 132] [True nil True nil nil nil nil nil nil nil nil 135] [: nil nil nil nil nil : nil nil nil nil 139] [print nil nil nil nil print nil nil nil nil nil 145] [\"\"\"Increible\n",
      "\t     \\072 la realidad\"\"\" nil nil nil \"\"\"Increible\n",
      "\t     \\072 la realidad\"\"\" nil nil nil nil nil nil 151] [else nil else nil nil nil nil nil nil nil nil 190] [: nil nil nil nil nil : nil nil nil nil 194] [pass nil pass nil nil nil nil nil nil nil nil 200] [my_byte nil nil nil nil my_byte nil nil nil nil nil 206] [= nil nil nil nil nil = nil nil nil nil 214] [B\"this is a byte\" nil nil B\"this is a byte\" nil nil nil nil nil nil nil 216] [prueba nil nil nil nil prueba nil nil nil nil nil 235] [= nil nil nil nil nil = nil nil nil nil 242] [567 nil nil nil nil nil nil nil nil nil 567 244]]"
     ]
    },
    {
     "data": {
      "text/plain": [
       "nil"
      ]
     },
     "execution_count": 198,
     "metadata": {},
     "output_type": "execute_result"
    }
   ],
   "source": [
    "(print (generate-matches (re-matcher regex-python (slurp \"python-file.py\"))))"
   ]
  },
  {
   "cell_type": "markdown",
   "metadata": {},
   "source": [
    "### highlight-text-using-file\n",
    "Toma un nombre de un archivo, y una expresión regular que tiene grupos de captura y utiliza las funciones anteriores para generar un archivo html\n",
    "de mismo nombre y con las strings que hagan match con los distintos grupos de captura mostrando distintos colores."
   ]
  },
  {
   "cell_type": "code",
   "execution_count": 199,
   "metadata": {},
   "outputs": [
    {
     "data": {
      "text/plain": [
       "#'user/highlight-text-using-file"
      ]
     },
     "execution_count": 199,
     "metadata": {},
     "output_type": "execute_result"
    }
   ],
   "source": [
    "(defn highlight-text-using-file\n",
    "  [file-name language-regex]\n",
    "  (spit (clojure.string/replace file-name \".py\" \".html\")\n",
    "        (let [split-html (clojure.string/split (slurp \"starting_html.html\") #\"\\<pre\\>\")]\n",
    "          (reduce str \"\" [(split-html 0)\n",
    "                          \"<pre>\"\n",
    "                          (replace-strings-by-spans (strings-indices-spans (generate-matches (re-matcher language-regex \n",
    "                                                                                                         (slurp file-name))))\n",
    "                                                    (slurp file-name))\n",
    "                          (split-html 1)]))))\n"
   ]
  },
  {
   "cell_type": "code",
   "execution_count": 200,
   "metadata": {},
   "outputs": [
    {
     "data": {
      "text/plain": [
       "nil"
      ]
     },
     "execution_count": 200,
     "metadata": {},
     "output_type": "execute_result"
    }
   ],
   "source": [
    "(highlight-text-using-file \"python-file.py\" regex-python)"
   ]
  },
  {
   "cell_type": "code",
   "execution_count": 201,
   "metadata": {},
   "outputs": [
    {
     "data": {
      "text/plain": [
       "\"<html>\\n    <head>\\n        <link rel=\\\"stylesheet\\\" href=\\\"categorical-styles.css\\\">\\n        <title>Documento de python resaltado</title>\\n    </head>\\n    <body>\\n        <pre><span style='color:darkblue'># This file is a meme.</span>\\n\\n<span style='color:darkgreen'>my_variable</span> <span style='color:deepskyblue'>=</span> <span style='color:crimson'>f'''string that represents\\n\\t\\t  the capacity of python to \\n\\t\\t  format multiline strings {}'''</span>\\n\\n<span style='color:blueviolet'>if</span> <span style='color:blueviolet'>True</span><span style='color:deepskyblue'>:</span>\\n    <span style='color:darkgreen'>print</span>(<span style='color:crimson'>\\\"\\\"\\\"Increible\\n\\t     \\\\072 la realidad\\\"\\\"\\\"</span>\\n<span style='color:blueviolet'>else</span><span style='color:deepskyblue'>:</span>\\n    <span style='color:blueviolet'>pass</span>\\n\\n<span style='color:darkgreen'>my_byte</span> <span style='color:deepskyblue'>=</span> <span style='color:chocolate'>B\\\"this is a byte\\\"</span>\\n\\n<span style='color:darkgreen'>prueba</span> <span style='color:deepskyblue'>=</span> <span style='color:turquoise'>567</span>\\n\\n\\n\\n\\n        </pre>\\n    </body>\\n</html>\""
      ]
     },
     "execution_count": 201,
     "metadata": {},
     "output_type": "execute_result"
    }
   ],
   "source": [
    "        (let [split-html (clojure.string/split (slurp \"starting_html.html\") #\"\\<pre\\>\")]\n",
    "          (reduce str \"\" [(split-html 0)\n",
    "                          \"<pre>\"\n",
    "                          (replace-strings-by-spans (strings-indices-spans (generate-matches (re-matcher regex-python \n",
    "                                                                                                         (slurp \"python-file.py\"))))\n",
    "                                                    (slurp \"python-file.py\"))\n",
    "                          (split-html 1)]))"
   ]
  },
  {
   "cell_type": "markdown",
   "metadata": {},
   "source": [
    "Ciertos caracteres en el archivo de entrada deben ser reemplazados en el documento de salida por sus correspondientes secuencias de escape de HTML:\n",
    "< (menor que)   ➔   &lt;\n",
    "> (mayor que)   ➔   &gt;\n",
    "& (ampersand)   ➔   &amp;"
   ]
  },
  {
   "cell_type": "code",
   "execution_count": 23,
   "metadata": {},
   "outputs": [
    {
     "data": {
      "text/plain": [
       "#'user/ranges"
      ]
     },
     "execution_count": 23,
     "metadata": {},
     "output_type": "execute_result"
    }
   ],
   "source": [
    "(defn ranges\n",
    "  [n p]\n",
    "  (partition 2 1 (range 0 (inc n) (/ n p))))"
   ]
  },
  {
   "cell_type": "code",
   "execution_count": 36,
   "metadata": {},
   "outputs": [
    {
     "data": {
      "text/plain": [
       "((0 125) (125 250) (250 375) (375 500) (500 625) (625 750) (750 875) (875 1000))"
      ]
     },
     "execution_count": 36,
     "metadata": {},
     "output_type": "execute_result"
    }
   ],
   "source": [
    "(ranges 1000 8)"
   ]
  },
  {
   "cell_type": "code",
   "execution_count": 21,
   "metadata": {},
   "outputs": [
    {
     "data": {
      "text/plain": [
       "#'user/get-file-info"
      ]
     },
     "execution_count": 21,
     "metadata": {},
     "output_type": "execute_result"
    }
   ],
   "source": [
    "(defn get-file-info\n",
    "  [dir]\n",
    "  (map (fn [f] \n",
    "         [(.getPath f)])\n",
    "       (file-seq (clojure.java.io/file dir))))"
   ]
  },
  {
   "cell_type": "code",
   "execution_count": null,
   "metadata": {},
   "outputs": [],
   "source": [
    "(defn highlight-text-using-file-multi\n",
    "  [n p]\n",
    "  (->> (ranges n p)\n",
    "       (pmap (fn [[file-name regex]]\n",
    "              (highlight-text-using-file file-name regex)))\n",
    "       (reduce +)))"
   ]
  },
  {
   "cell_type": "code",
   "execution_count": null,
   "metadata": {},
   "outputs": [],
   "source": [
    "(defn highlight-text-using-file-multi\n",
    "  [file-names language-regex source-folder destination-folder]\n",
    "  (map (fn [file-name] (spit (clojure.string/replace (str source-folder file-name) \".py\" \".html\")\n",
    "        (let [split-html (clojure.string/split (slurp \"starting_html.html\") #\"\\<pre\\>\")]\n",
    "          (reduce str \"\" [(split-html 0)\n",
    "                          \"<pre>\"\n",
    "                          (replace-strings-by-spans (strings-indices-spans (generate-matches (re-matcher language-regex \n",
    "                                                                                                         (slurp file-name))))\n",
    "                                                    (slurp file-name))\n",
    "                          (split-html 1)]))))))"
   ]
  },
  {
   "cell_type": "code",
   "execution_count": 22,
   "metadata": {},
   "outputs": [
    {
     "name": "stdout",
     "output_type": "stream",
     "text": [
      "([\"first500\"]\n",
      " [\"first500\\\\binhex1.py\"]\n",
      " [\"first500\\\\binhex10.py\"]\n",
      " [\"first500\\\\binhex11.py\"]\n",
      " [\"first500\\\\binhex12.py\"]\n",
      " [\"first500\\\\binhex13.py\"]\n",
      " [\"first500\\\\binhex14.py\"]\n",
      " [\"first500\\\\binhex15.py\"]\n",
      " [\"first500\\\\binhex16.py\"]\n",
      " [\"first500\\\\binhex17.py\"]\n",
      " [\"first500\\\\binhex18.py\"]\n",
      " [\"first500\\\\binhex19.py\"]\n",
      " [\"first500\\\\binhex2.py\"]\n",
      " [\"first500\\\\binhex20.py\"]\n",
      " [\"first500\\\\binhex21.py\"]\n",
      " [\"first500\\\\binhex22.py\"]\n",
      " [\"first500\\\\binhex23.py\"]\n",
      " [\"first500\\\\binhex24.py\"]\n",
      " [\"first500\\\\binhex25.py\"]\n",
      " [\"first500\\\\binhex26.py\"]\n",
      " [\"first500\\\\binhex27.py\"]\n",
      " [\"first500\\\\binhex28.py\"]\n",
      " [\"first500\\\\binhex29.py\"]\n",
      " [\"first500\\\\binhex3.py\"]\n",
      " [\"first500\\\\binhex30.py\"]\n",
      " [\"first500\\\\binhex31.py\"]\n",
      " [\"first500\\\\binhex32.py\"]\n",
      " [\"first500\\\\binhex33.py\"]\n",
      " [\"first500\\\\binhex34.py\"]\n",
      " [\"first500\\\\binhex35.py\"]\n",
      " [\"first500\\\\binhex36.py\"]\n",
      " [\"first500\\\\binhex37.py\"]\n",
      " [\"first500\\\\binhex38.py\"]\n",
      " [\"first500\\\\binhex39.py\"]\n",
      " [\"first500\\\\binhex4.py\"]\n",
      " [\"first500\\\\binhex40.py\"]\n",
      " [\"first500\\\\binhex41.py\"]\n",
      " [\"first500\\\\binhex42.py\"]\n",
      " [\"first500\\\\binhex43.py\"]\n",
      " [\"first500\\\\binhex44.py\"]\n",
      " [\"first500\\\\binhex45.py\"]\n",
      " [\"first500\\\\binhex46.py\"]\n",
      " [\"first500\\\\binhex47.py\"]\n",
      " [\"first500\\\\binhex48.py\"]\n",
      " [\"first500\\\\binhex49.py\"]\n",
      " [\"first500\\\\binhex5.py\"]\n",
      " [\"first500\\\\binhex50.py\"]\n",
      " [\"first500\\\\binhex6.py\"]\n",
      " [\"first500\\\\binhex7.py\"]\n",
      " [\"first500\\\\binhex8.py\"]\n",
      " [\"first500\\\\binhex9.py\"]\n",
      " [\"first500\\\\calendar1.py\"]\n",
      " [\"first500\\\\calendar10.py\"]\n",
      " [\"first500\\\\calendar11.py\"]\n",
      " [\"first500\\\\calendar12.py\"]\n",
      " [\"first500\\\\calendar13.py\"]\n",
      " [\"first500\\\\calendar14.py\"]\n",
      " [\"first500\\\\calendar15.py\"]\n",
      " [\"first500\\\\calendar16.py\"]\n",
      " [\"first500\\\\calendar17.py\"]\n",
      " [\"first500\\\\calendar18.py\"]\n",
      " [\"first500\\\\calendar19.py\"]\n",
      " [\"first500\\\\calendar2.py\"]\n",
      " [\"first500\\\\calendar20.py\"]\n",
      " [\"first500\\\\calendar21.py\"]\n",
      " [\"first500\\\\calendar22.py\"]\n",
      " [\"first500\\\\calendar23.py\"]\n",
      " [\"first500\\\\calendar24.py\"]\n",
      " [\"first500\\\\calendar25.py\"]\n",
      " [\"first500\\\\calendar26.py\"]\n",
      " [\"first500\\\\calendar27.py\"]\n",
      " [\"first500\\\\calendar28.py\"]\n",
      " [\"first500\\\\calendar29.py\"]\n",
      " [\"first500\\\\calendar3.py\"]\n",
      " [\"first500\\\\calendar30.py\"]\n",
      " [\"first500\\\\calendar31.py\"]\n",
      " [\"first500\\\\calendar32.py\"]\n",
      " [\"first500\\\\calendar33.py\"]\n",
      " [\"first500\\\\calendar34.py\"]\n",
      " [\"first500\\\\calendar35.py\"]\n",
      " [\"first500\\\\calendar36.py\"]\n",
      " [\"first500\\\\calendar37.py\"]\n",
      " [\"first500\\\\calendar38.py\"]\n",
      " [\"first500\\\\calendar39.py\"]\n",
      " [\"first500\\\\calendar4.py\"]\n",
      " [\"first500\\\\calendar40.py\"]\n",
      " [\"first500\\\\calendar41.py\"]\n",
      " [\"first500\\\\calendar42.py\"]\n",
      " [\"first500\\\\calendar43.py\"]\n",
      " [\"first500\\\\calendar44.py\"]\n",
      " [\"first500\\\\calendar45.py\"]\n",
      " [\"first500\\\\calendar46.py\"]\n",
      " [\"first500\\\\calendar47.py\"]\n",
      " [\"first500\\\\calendar48.py\"]\n",
      " [\"first500\\\\calendar49.py\"]\n",
      " [\"first500\\\\calendar5.py\"]\n",
      " [\"first500\\\\calendar50.py\"]\n",
      " [\"first500\\\\calendar6.py\"]\n",
      " [\"first500\\\\calendar7.py\"]\n",
      " [\"first500\\\\calendar8.py\"]\n",
      " [\"first500\\\\calendar9.py\"]\n",
      " [\"first500\\\\fileinput1.py\"]\n",
      " [\"first500\\\\fileinput10.py\"]\n",
      " [\"first500\\\\fileinput11.py\"]\n",
      " [\"first500\\\\fileinput12.py\"]\n",
      " [\"first500\\\\fileinput13.py\"]\n",
      " [\"first500\\\\fileinput14.py\"]\n",
      " [\"first500\\\\fileinput15.py\"]\n",
      " [\"first500\\\\fileinput16.py\"]\n",
      " [\"first500\\\\fileinput17.py\"]\n",
      " [\"first500\\\\fileinput18.py\"]\n",
      " [\"first500\\\\fileinput19.py\"]\n",
      " [\"first500\\\\fileinput2.py\"]\n",
      " [\"first500\\\\fileinput20.py\"]\n",
      " [\"first500\\\\fileinput21.py\"]\n",
      " [\"first500\\\\fileinput22.py\"]\n",
      " [\"first500\\\\fileinput23.py\"]\n",
      " [\"first500\\\\fileinput24.py\"]\n",
      " [\"first500\\\\fileinput25.py\"]\n",
      " [\"first500\\\\fileinput26.py\"]\n",
      " [\"first500\\\\fileinput27.py\"]\n",
      " [\"first500\\\\fileinput28.py\"]\n",
      " [\"first500\\\\fileinput29.py\"]\n",
      " [\"first500\\\\fileinput3.py\"]\n",
      " [\"first500\\\\fileinput30.py\"]\n",
      " [\"first500\\\\fileinput31.py\"]\n",
      " [\"first500\\\\fileinput32.py\"]\n",
      " [\"first500\\\\fileinput33.py\"]\n",
      " [\"first500\\\\fileinput34.py\"]\n",
      " [\"first500\\\\fileinput35.py\"]\n",
      " [\"first500\\\\fileinput36.py\"]\n",
      " [\"first500\\\\fileinput37.py\"]\n",
      " [\"first500\\\\fileinput38.py\"]\n",
      " [\"first500\\\\fileinput39.py\"]\n",
      " [\"first500\\\\fileinput4.py\"]\n",
      " [\"first500\\\\fileinput40.py\"]\n",
      " [\"first500\\\\fileinput41.py\"]\n",
      " [\"first500\\\\fileinput42.py\"]\n",
      " [\"first500\\\\fileinput43.py\"]\n",
      " [\"first500\\\\fileinput44.py\"]\n",
      " [\"first500\\\\fileinput45.py\"]\n",
      " [\"first500\\\\fileinput46.py\"]\n",
      " [\"first500\\\\fileinput47.py\"]\n",
      " [\"first500\\\\fileinput48.py\"]\n",
      " [\"first500\\\\fileinput49.py\"]\n",
      " [\"first500\\\\fileinput5.py\"]\n",
      " [\"first500\\\\fileinput50.py\"]\n",
      " [\"first500\\\\fileinput6.py\"]\n",
      " [\"first500\\\\fileinput7.py\"]\n",
      " [\"first500\\\\fileinput8.py\"]\n",
      " [\"first500\\\\fileinput9.py\"]\n",
      " [\"first500\\\\numbers1.py\"]\n",
      " [\"first500\\\\numbers10.py\"]\n",
      " [\"first500\\\\numbers11.py\"]\n",
      " [\"first500\\\\numbers12.py\"]\n",
      " [\"first500\\\\numbers13.py\"]\n",
      " [\"first500\\\\numbers14.py\"]\n",
      " [\"first500\\\\numbers15.py\"]\n",
      " [\"first500\\\\numbers16.py\"]\n",
      " [\"first500\\\\numbers17.py\"]\n",
      " [\"first500\\\\numbers18.py\"]\n",
      " [\"first500\\\\numbers19.py\"]\n",
      " [\"first500\\\\numbers2.py\"]\n",
      " [\"first500\\\\numbers20.py\"]\n",
      " [\"first500\\\\numbers21.py\"]\n",
      " [\"first500\\\\numbers22.py\"]\n",
      " [\"first500\\\\numbers23.py\"]\n",
      " [\"first500\\\\numbers24.py\"]\n",
      " [\"first500\\\\numbers25.py\"]\n",
      " [\"first500\\\\numbers26.py\"]\n",
      " [\"first500\\\\numbers27.py\"]\n",
      " [\"first500\\\\numbers28.py\"]\n",
      " [\"first500\\\\numbers29.py\"]\n",
      " [\"first500\\\\numbers3.py\"]\n",
      " [\"first500\\\\numbers30.py\"]\n",
      " [\"first500\\\\numbers31.py\"]\n",
      " [\"first500\\\\numbers32.py\"]\n",
      " [\"first500\\\\numbers33.py\"]\n",
      " [\"first500\\\\numbers34.py\"]\n",
      " [\"first500\\\\numbers35.py\"]\n",
      " [\"first500\\\\numbers36.py\"]\n",
      " [\"first500\\\\numbers37.py\"]\n",
      " [\"first500\\\\numbers38.py\"]\n",
      " [\"first500\\\\numbers39.py\"]\n",
      " [\"first500\\\\numbers4.py\"]\n",
      " [\"first500\\\\numbers40.py\"]\n",
      " [\"first500\\\\numbers41.py\"]\n",
      " [\"first500\\\\numbers42.py\"]\n",
      " [\"first500\\\\numbers43.py\"]\n",
      " [\"first500\\\\numbers44.py\"]\n",
      " [\"first500\\\\numbers45.py\"]\n",
      " [\"first500\\\\numbers46.py\"]\n",
      " [\"first500\\\\numbers47.py\"]\n",
      " [\"first500\\\\numbers48.py\"]\n",
      " [\"first500\\\\numbers49.py\"]\n",
      " [\"first500\\\\numbers5.py\"]\n",
      " [\"first500\\\\numbers50.py\"]\n",
      " [\"first500\\\\numbers6.py\"]\n",
      " [\"first500\\\\numbers7.py\"]\n",
      " [\"first500\\\\numbers8.py\"]\n",
      " [\"first500\\\\numbers9.py\"]\n",
      " [\"first500\\\\paint1.py\"]\n",
      " [\"first500\\\\paint10.py\"]\n",
      " [\"first500\\\\paint11.py\"]\n",
      " [\"first500\\\\paint12.py\"]\n",
      " [\"first500\\\\paint13.py\"]\n",
      " [\"first500\\\\paint14.py\"]\n",
      " [\"first500\\\\paint15.py\"]\n",
      " [\"first500\\\\paint16.py\"]\n",
      " [\"first500\\\\paint17.py\"]\n",
      " [\"first500\\\\paint18.py\"]\n",
      " [\"first500\\\\paint19.py\"]\n",
      " [\"first500\\\\paint2.py\"]\n",
      " [\"first500\\\\paint20.py\"]\n",
      " [\"first500\\\\paint21.py\"]\n",
      " [\"first500\\\\paint22.py\"]\n",
      " [\"first500\\\\paint23.py\"]\n",
      " [\"first500\\\\paint24.py\"]\n",
      " [\"first500\\\\paint25.py\"]\n",
      " [\"first500\\\\paint26.py\"]\n",
      " [\"first500\\\\paint27.py\"]\n",
      " [\"first500\\\\paint28.py\"]\n",
      " [\"first500\\\\paint29.py\"]\n",
      " [\"first500\\\\paint3.py\"]\n",
      " [\"first500\\\\paint30.py\"]\n",
      " [\"first500\\\\paint31.py\"]\n",
      " [\"first500\\\\paint32.py\"]\n",
      " [\"first500\\\\paint33.py\"]\n",
      " [\"first500\\\\paint34.py\"]\n",
      " [\"first500\\\\paint35.py\"]\n",
      " [\"first500\\\\paint36.py\"]\n",
      " [\"first500\\\\paint37.py\"]\n",
      " [\"first500\\\\paint38.py\"]\n",
      " [\"first500\\\\paint39.py\"]\n",
      " [\"first500\\\\paint4.py\"]\n",
      " [\"first500\\\\paint40.py\"]\n",
      " [\"first500\\\\paint41.py\"]\n",
      " [\"first500\\\\paint42.py\"]\n",
      " [\"first500\\\\paint43.py\"]\n",
      " [\"first500\\\\paint44.py\"]\n",
      " [\"first500\\\\paint45.py\"]\n",
      " [\"first500\\\\paint46.py\"]\n",
      " [\"first500\\\\paint47.py\"]\n",
      " [\"first500\\\\paint48.py\"]\n",
      " [\"first500\\\\paint49.py\"]\n",
      " [\"first500\\\\paint5.py\"]\n",
      " [\"first500\\\\paint50.py\"]\n",
      " [\"first500\\\\paint6.py\"]\n",
      " [\"first500\\\\paint7.py\"]\n",
      " [\"first500\\\\paint8.py\"]\n",
      " [\"first500\\\\paint9.py\"]\n",
      " [\"first500\\\\random1.py\"]\n",
      " [\"first500\\\\random10.py\"]\n",
      " [\"first500\\\\random11.py\"]\n",
      " [\"first500\\\\random12.py\"]\n",
      " [\"first500\\\\random13.py\"]\n",
      " [\"first500\\\\random14.py\"]\n",
      " [\"first500\\\\random15.py\"]\n",
      " [\"first500\\\\random16.py\"]\n",
      " [\"first500\\\\random17.py\"]\n",
      " [\"first500\\\\random18.py\"]\n",
      " [\"first500\\\\random19.py\"]\n",
      " [\"first500\\\\random2.py\"]\n",
      " [\"first500\\\\random20.py\"]\n",
      " [\"first500\\\\random21.py\"]\n",
      " [\"first500\\\\random22.py\"]\n",
      " [\"first500\\\\random23.py\"]\n",
      " [\"first500\\\\random24.py\"]\n",
      " [\"first500\\\\random25.py\"]\n",
      " [\"first500\\\\random26.py\"]\n",
      " [\"first500\\\\random27.py\"]\n",
      " [\"first500\\\\random28.py\"]\n",
      " [\"first500\\\\random29.py\"]\n",
      " [\"first500\\\\random3.py\"]\n",
      " [\"first500\\\\random30.py\"]\n",
      " [\"first500\\\\random31.py\"]\n",
      " [\"first500\\\\random32.py\"]\n",
      " [\"first500\\\\random33.py\"]\n",
      " [\"first500\\\\random34.py\"]\n",
      " [\"first500\\\\random35.py\"]\n",
      " [\"first500\\\\random36.py\"]\n",
      " [\"first500\\\\random37.py\"]\n",
      " [\"first500\\\\random38.py\"]\n",
      " [\"first500\\\\random39.py\"]\n",
      " [\"first500\\\\random4.py\"]\n",
      " [\"first500\\\\random40.py\"]\n",
      " [\"first500\\\\random41.py\"]\n",
      " [\"first500\\\\random42.py\"]\n",
      " [\"first500\\\\random43.py\"]\n",
      " [\"first500\\\\random44.py\"]\n",
      " [\"first500\\\\random45.py\"]\n",
      " [\"first500\\\\random46.py\"]\n",
      " [\"first500\\\\random47.py\"]\n",
      " [\"first500\\\\random48.py\"]\n",
      " [\"first500\\\\random49.py\"]\n",
      " [\"first500\\\\random5.py\"]\n",
      " [\"first500\\\\random50.py\"]\n",
      " [\"first500\\\\random6.py\"]\n",
      " [\"first500\\\\random7.py\"]\n",
      " [\"first500\\\\random8.py\"]\n",
      " [\"first500\\\\random9.py\"]\n",
      " [\"first500\\\\string1.py\"]\n",
      " [\"first500\\\\string10.py\"]\n",
      " [\"first500\\\\string11.py\"]\n",
      " [\"first500\\\\string12.py\"]\n",
      " [\"first500\\\\string13.py\"]\n",
      " [\"first500\\\\string14.py\"]\n",
      " [\"first500\\\\string15.py\"]\n",
      " [\"first500\\\\string16.py\"]\n",
      " [\"first500\\\\string17.py\"]\n",
      " [\"first500\\\\string18.py\"]\n",
      " [\"first500\\\\string19.py\"]\n",
      " [\"first500\\\\string2.py\"]\n",
      " [\"first500\\\\string20.py\"]\n",
      " [\"first500\\\\string21.py\"]\n",
      " [\"first500\\\\string22.py\"]\n",
      " [\"first500\\\\string23.py\"]\n",
      " [\"first500\\\\string24.py\"]\n",
      " [\"first500\\\\string25.py\"]\n",
      " [\"first500\\\\string26.py\"]\n",
      " [\"first500\\\\string27.py\"]\n",
      " [\"first500\\\\string28.py\"]\n",
      " [\"first500\\\\string29.py\"]\n",
      " [\"first500\\\\string3.py\"]\n",
      " [\"first500\\\\string30.py\"]\n",
      " [\"first500\\\\string31.py\"]\n",
      " [\"first500\\\\string32.py\"]\n",
      " [\"first500\\\\string33.py\"]\n",
      " [\"first500\\\\string34.py\"]\n",
      " [\"first500\\\\string35.py\"]\n",
      " [\"first500\\\\string36.py\"]\n",
      " [\"first500\\\\string37.py\"]\n",
      " [\"first500\\\\string38.py\"]\n",
      " [\"first500\\\\string39.py\"]\n",
      " [\"first500\\\\string4.py\"]\n",
      " [\"first500\\\\string40.py\"]\n",
      " [\"first500\\\\string41.py\"]\n",
      " [\"first500\\\\string42.py\"]\n",
      " [\"first500\\\\string43.py\"]\n",
      " [\"first500\\\\string44.py\"]\n",
      " [\"first500\\\\string45.py\"]\n",
      " [\"first500\\\\string46.py\"]\n",
      " [\"first500\\\\string47.py\"]\n",
      " [\"first500\\\\string48.py\"]\n",
      " [\"first500\\\\string49.py\"]\n",
      " [\"first500\\\\string5.py\"]\n",
      " [\"first500\\\\string50.py\"]\n",
      " [\"first500\\\\string6.py\"]\n",
      " [\"first500\\\\string7.py\"]\n",
      " [\"first500\\\\string8.py\"]\n",
      " [\"first500\\\\string9.py\"]\n",
      " [\"first500\\\\timeit1.py\"]\n",
      " [\"first500\\\\timeit10.py\"]\n",
      " [\"first500\\\\timeit11.py\"]\n",
      " [\"first500\\\\timeit12.py\"]\n",
      " [\"first500\\\\timeit13.py\"]\n",
      " [\"first500\\\\timeit14.py\"]\n",
      " [\"first500\\\\timeit15.py\"]\n",
      " [\"first500\\\\timeit16.py\"]\n",
      " [\"first500\\\\timeit17.py\"]\n",
      " [\"first500\\\\timeit18.py\"]\n",
      " [\"first500\\\\timeit19.py\"]\n",
      " [\"first500\\\\timeit2.py\"]\n",
      " [\"first500\\\\timeit20.py\"]\n",
      " [\"first500\\\\timeit21.py\"]\n",
      " [\"first500\\\\timeit22.py\"]\n",
      " [\"first500\\\\timeit23.py\"]\n",
      " [\"first500\\\\timeit24.py\"]\n",
      " [\"first500\\\\timeit25.py\"]\n",
      " [\"first500\\\\timeit26.py\"]\n",
      " [\"first500\\\\timeit27.py\"]\n",
      " [\"first500\\\\timeit28.py\"]\n",
      " [\"first500\\\\timeit29.py\"]\n",
      " [\"first500\\\\timeit3.py\"]\n",
      " [\"first500\\\\timeit30.py\"]\n",
      " [\"first500\\\\timeit31.py\"]\n",
      " [\"first500\\\\timeit32.py\"]\n",
      " [\"first500\\\\timeit33.py\"]\n",
      " [\"first500\\\\timeit34.py\"]\n",
      " [\"first500\\\\timeit35.py\"]\n",
      " [\"first500\\\\timeit36.py\"]\n",
      " [\"first500\\\\timeit37.py\"]\n",
      " [\"first500\\\\timeit38.py\"]\n",
      " [\"first500\\\\timeit39.py\"]\n",
      " [\"first500\\\\timeit4.py\"]\n",
      " [\"first500\\\\timeit40.py\"]\n",
      " [\"first500\\\\timeit41.py\"]\n",
      " [\"first500\\\\timeit42.py\"]\n",
      " [\"first500\\\\timeit43.py\"]\n",
      " [\"first500\\\\timeit44.py\"]\n",
      " [\"first500\\\\timeit45.py\"]\n",
      " [\"first500\\\\timeit46.py\"]\n",
      " [\"first500\\\\timeit47.py\"]\n",
      " [\"first500\\\\timeit48.py\"]\n",
      " [\"first500\\\\timeit49.py\"]\n",
      " [\"first500\\\\timeit5.py\"]\n",
      " [\"first500\\\\timeit50.py\"]\n",
      " [\"first500\\\\timeit6.py\"]\n",
      " [\"first500\\\\timeit7.py\"]\n",
      " [\"first500\\\\timeit8.py\"]\n",
      " [\"first500\\\\timeit9.py\"]\n",
      " [\"first500\\\\warnings1.py\"]\n",
      " [\"first500\\\\warnings10.py\"]\n",
      " [\"first500\\\\warnings11.py\"]\n",
      " [\"first500\\\\warnings12.py\"]\n",
      " [\"first500\\\\warnings13.py\"]\n",
      " [\"first500\\\\warnings14.py\"]\n",
      " [\"first500\\\\warnings15.py\"]\n",
      " [\"first500\\\\warnings16.py\"]\n",
      " [\"first500\\\\warnings17.py\"]\n",
      " [\"first500\\\\warnings18.py\"]\n",
      " [\"first500\\\\warnings19.py\"]\n",
      " [\"first500\\\\warnings2.py\"]\n",
      " [\"first500\\\\warnings20.py\"]\n",
      " [\"first500\\\\warnings21.py\"]\n",
      " [\"first500\\\\warnings22.py\"]\n",
      " [\"first500\\\\warnings23.py\"]\n",
      " [\"first500\\\\warnings24.py\"]\n",
      " [\"first500\\\\warnings25.py\"]\n",
      " [\"first500\\\\warnings26.py\"]\n",
      " [\"first500\\\\warnings27.py\"]\n",
      " [\"first500\\\\warnings28.py\"]\n",
      " [\"first500\\\\warnings29.py\"]\n",
      " [\"first500\\\\warnings3.py\"]\n",
      " [\"first500\\\\warnings30.py\"]\n",
      " [\"first500\\\\warnings31.py\"]\n",
      " [\"first500\\\\warnings32.py\"]\n",
      " [\"first500\\\\warnings33.py\"]\n",
      " [\"first500\\\\warnings34.py\"]\n",
      " [\"first500\\\\warnings35.py\"]\n",
      " [\"first500\\\\warnings36.py\"]\n",
      " [\"first500\\\\warnings37.py\"]\n",
      " [\"first500\\\\warnings38.py\"]\n",
      " [\"first500\\\\warnings39.py\"]\n",
      " [\"first500\\\\warnings4.py\"]\n",
      " [\"first500\\\\warnings40.py\"]\n",
      " [\"first500\\\\warnings41.py\"]\n",
      " [\"first500\\\\warnings42.py\"]\n",
      " [\"first500\\\\warnings43.py\"]\n",
      " [\"first500\\\\warnings44.py\"]\n",
      " [\"first500\\\\warnings45.py\"]\n",
      " [\"first500\\\\warnings46.py\"]\n",
      " [\"first500\\\\warnings47.py\"]\n",
      " [\"first500\\\\warnings48.py\"]\n",
      " [\"first500\\\\warnings49.py\"]\n",
      " [\"first500\\\\warnings5.py\"]\n",
      " [\"first500\\\\warnings50.py\"]\n",
      " [\"first500\\\\warnings6.py\"]\n",
      " [\"first500\\\\warnings7.py\"]\n",
      " [\"first500\\\\warnings8.py\"]\n",
      " [\"first500\\\\warnings9.py\"]\n",
      " [\"first500\\\\wave1.py\"]\n",
      " [\"first500\\\\wave10.py\"]\n",
      " [\"first500\\\\wave11.py\"]\n",
      " [\"first500\\\\wave12.py\"]\n",
      " [\"first500\\\\wave13.py\"]\n",
      " [\"first500\\\\wave14.py\"]\n",
      " [\"first500\\\\wave15.py\"]\n",
      " [\"first500\\\\wave16.py\"]\n",
      " [\"first500\\\\wave17.py\"]\n",
      " [\"first500\\\\wave18.py\"]\n",
      " [\"first500\\\\wave19.py\"]\n",
      " [\"first500\\\\wave2.py\"]\n",
      " [\"first500\\\\wave20.py\"]\n",
      " [\"first500\\\\wave21.py\"]\n",
      " [\"first500\\\\wave22.py\"]\n",
      " [\"first500\\\\wave23.py\"]\n",
      " [\"first500\\\\wave24.py\"]\n",
      " [\"first500\\\\wave25.py\"]\n",
      " [\"first500\\\\wave26.py\"]\n",
      " [\"first500\\\\wave27.py\"]\n",
      " [\"first500\\\\wave28.py\"]\n",
      " [\"first500\\\\wave29.py\"]\n",
      " [\"first500\\\\wave3.py\"]\n",
      " [\"first500\\\\wave30.py\"]\n",
      " [\"first500\\\\wave31.py\"]\n",
      " [\"first500\\\\wave32.py\"]\n",
      " [\"first500\\\\wave33.py\"]\n",
      " [\"first500\\\\wave34.py\"]\n",
      " [\"first500\\\\wave35.py\"]\n",
      " [\"first500\\\\wave36.py\"]\n",
      " [\"first500\\\\wave37.py\"]\n",
      " [\"first500\\\\wave38.py\"]\n",
      " [\"first500\\\\wave39.py\"]\n",
      " [\"first500\\\\wave4.py\"]\n",
      " [\"first500\\\\wave40.py\"]\n",
      " [\"first500\\\\wave41.py\"]\n",
      " [\"first500\\\\wave42.py\"]\n",
      " [\"first500\\\\wave43.py\"]\n",
      " [\"first500\\\\wave44.py\"]\n",
      " [\"first500\\\\wave45.py\"]\n",
      " [\"first500\\\\wave46.py\"]\n",
      " [\"first500\\\\wave47.py\"]\n",
      " [\"first500\\\\wave48.py\"]\n",
      " [\"first500\\\\wave49.py\"]\n",
      " [\"first500\\\\wave5.py\"]\n",
      " [\"first500\\\\wave50.py\"]\n",
      " [\"first500\\\\wave6.py\"]\n",
      " [\"first500\\\\wave7.py\"]\n",
      " [\"first500\\\\wave8.py\"]\n",
      " [\"first500\\\\wave9.py\"])\n"
     ]
    },
    {
     "data": {
      "text/plain": [
       "nil"
      ]
     },
     "execution_count": 22,
     "metadata": {},
     "output_type": "execute_result"
    }
   ],
   "source": [
    "(clojure.pprint/pprint (get-file-info \"first500\"))"
   ]
  },
  {
   "cell_type": "code",
   "execution_count": 33,
   "metadata": {},
   "outputs": [
    {
     "data": {
      "text/plain": [
       "500"
      ]
     },
     "execution_count": 33,
     "metadata": {},
     "output_type": "execute_result"
    }
   ],
   "source": [
    "(count(rest(get-file-info \"first500\")))"
   ]
  },
  {
   "cell_type": "code",
   "execution_count": null,
   "metadata": {},
   "outputs": [],
   "source": []
  }
 ],
 "metadata": {
  "kernelspec": {
   "display_name": "Clojure (clojupyter=0.3.2=1)",
   "language": "clojure",
   "name": "conda-clojupyter"
  },
  "language_info": {
   "file_extension": ".clj",
   "mimetype": "text/x-clojure",
   "name": "clojure",
   "version": "1.10.1"
  }
 },
 "nbformat": 4,
 "nbformat_minor": 4
}
