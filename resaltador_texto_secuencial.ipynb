{
 "cells": [
  {
   "cell_type": "markdown",
   "metadata": {},
   "source": [
    "- Al inicio del Jupyter Notebook debe haber una cleda de markdown con la matrícula y el nombre de los integrantes del equipo, así como una breve descripción del proyecto.\n",
    "- Cada función de Clojure definida en su programa debe contar con una celda de markdown (inmediatamente arriba de la celda de código correspondiente) documentando en un breve enunciado su intención.\n",
    "- El código con la implementación de la solución del problema debe seguir las convenciones de estilo y codificación de Clojure.\n"
   ]
  },
  {
   "cell_type": "markdown",
   "metadata": {},
   "source": [
    "# Resaltador de texto secuencial para python 3.9.5"
   ]
  },
  {
   "cell_type": "markdown",
   "metadata": {},
   "source": [
    "## Autores:\n",
    "* Luis Ignacio Ferro Salinas A01378248\n",
    "* Omar Rodrigo SorchiniPuente A01749389\n",
    "\n",
    "Se realiza un resaltador de texto para el lenguaje Python, usando sus especificaciones de léxico más recientes descritas en: [Python lexical analysis]\n",
    "Las categorías que escogimos para resaltar son las siguientes.\n",
    "\n",
    "* Comentarios.\n",
    "* Keywords.\n",
    "* Identifiers.\n",
    "* Strings.\n",
    "* Bytes.\n",
    "* Integers.\n",
    "* Floats.\n",
    "* Imaginaries.\n",
    "* Operators.\n",
    "* Delimiters.\n",
    "\n",
    "[Python lexical analysis]: <https://docs.python.org/3/reference/lexical_analysis.htmlhttps://docs.python.org/3/reference/lexical_analysis.html>"
   ]
  },
  {
   "cell_type": "markdown",
   "metadata": {},
   "source": [
    "### Comentarios\n",
    "Los comentarios en python, según la especificación léxica, comienzan con un #, y son comentarios de línea."
   ]
  },
  {
   "cell_type": "code",
   "execution_count": 191,
   "metadata": {},
   "outputs": [
    {
     "data": {
      "text/plain": [
       "#'user/regex-comment"
      ]
     },
     "execution_count": 191,
     "metadata": {},
     "output_type": "execute_result"
    }
   ],
   "source": [
    "(def regex-comment  #\"\\#.*\"); The . exlcudes the \\n character by default."
   ]
  },
  {
   "cell_type": "code",
   "execution_count": 192,
   "metadata": {},
   "outputs": [
    {
     "data": {
      "text/plain": [
       "(\"# This is a comment in python.\")"
      ]
     },
     "execution_count": 192,
     "metadata": {},
     "output_type": "execute_result"
    }
   ],
   "source": [
    "(re-seq regex-comment \"# This is a comment in python.\\n\")"
   ]
  },
  {
   "cell_type": "markdown",
   "metadata": {},
   "source": [
    "### Keywords\n",
    "Los keywords en python son palabras especiales que no pueden ser utilizadas como identificadores porque pueden tienen propósitos específicos.\n",
    "Son las siguientes:\n",
    "- False\n",
    "- True\n",
    "- None\n",
    "- and\n",
    "- as\n",
    "- assert\n",
    "- async\n",
    "- await\n",
    "- break\n",
    "- class\n",
    "- continue\n",
    "- def\n",
    "- del\n",
    "- elif\n",
    "- else\n",
    "- except\n",
    "- finally\n",
    "- for\n",
    "- from\n",
    "- global\n",
    "- if\n",
    "- import\n",
    "- in\n",
    "- is\n",
    "- lambda\n",
    "- nonlocal\n",
    "- not\n",
    "- or\n",
    "- pass\n",
    "- raise\n",
    "- return\n",
    "- try\n",
    "- while\n",
    "- with\n",
    "- yield"
   ]
  },
  {
   "cell_type": "code",
   "execution_count": 193,
   "metadata": {},
   "outputs": [
    {
     "data": {
      "text/plain": [
       "#'user/regex-keyword"
      ]
     },
     "execution_count": 193,
     "metadata": {},
     "output_type": "execute_result"
    }
   ],
   "source": [
    "(def regex-keyword #\"\\bFalse\\b|\\bTrue\\b|\\bNone\\b|\\band\\b|\\bas\\b|\\bassert\\b|\\basync\\b|\\bawait\\b|\\bbreak\\b|\\bclass\\b|\\bcontinue\\b|\\bdef\\b|\\bdel\\b|\\belif\\b|\\belse\\b|\\bexcept\\b|\\bfinally\\b|\\bfor\\b|\\bfrom\\b|\\bglobal\\b|\\bif\\b|\\bimport\\b|\\bin\\b|\\bis\\b|\\blambda\\b|\\bnonlocal\\b|\\bnot|\\bor\\b|\\bpass\\b|\\braise\\b|\\breturn\\b|\\btry\\b|\\bwhile\\b|\\bwith\\b|\\byield\\b\")\n"
   ]
  },
  {
   "cell_type": "code",
   "execution_count": 194,
   "metadata": {},
   "outputs": [
    {
     "data": {
      "text/plain": [
       "(\"if\" \"True\")"
      ]
     },
     "execution_count": 194,
     "metadata": {},
     "output_type": "execute_result"
    }
   ],
   "source": [
    "(re-seq regex-keyword \"\\nif True:\n",
    "        print()\")"
   ]
  },
  {
   "cell_type": "markdown",
   "metadata": {},
   "source": [
    "### Identifiers\n",
    "En python, los identificadores se definen por una normalización NFLK, pero sin considerarla, la especificación nos da una expresión regular:\n",
    "````\n",
    "id_start id_continue*\n",
    "````\n",
    "En id_start se puede usar el guión bajo, y pueden estar las siguientes categorías de unicode:\n",
    "- Lu\n",
    "- Ll\n",
    "- Lt\n",
    "- Lm\n",
    "- Lo\n",
    "- Nl\n",
    "\n",
    "\n",
    "En id_continue, se permite todo lo que se permite en id_start, y además pueden estar las siguientes categorías:\n",
    "- Mn\n",
    "- Mc\n",
    "- Nd\n",
    "- Pc\n",
    "\n",
    "Las categorías tienen los siguientes significados:\n",
    "- Lu(uppercase)\n",
    "- Ll(lowercase)\n",
    "- Lt(titlecase)\n",
    "- Lm(modifier)\n",
    "- Lo(other)\n",
    "- Nl(letter numbers)\n",
    "- Mn(nonspacing marks)\n",
    "- Mc(spacing combining marks)\n",
    "- Nd(decimal numbers)\n",
    "- Pc(connector punctuations)\n"
   ]
  },
  {
   "cell_type": "code",
   "execution_count": 195,
   "metadata": {},
   "outputs": [
    {
     "data": {
      "text/plain": [
       "#'user/regex-identifiers"
      ]
     },
     "execution_count": 195,
     "metadata": {},
     "output_type": "execute_result"
    }
   ],
   "source": [
    "(def regex-identifiers #\"\\b(?:_|\\p{L}|\\p{Nl})(?:_|\\p{L}|\\p{Nl}|\\p{Mn}|\\p{Mc}|\\p{Nd}|\\p{Pc})*\\b\")\n"
   ]
  },
  {
   "cell_type": "code",
   "execution_count": 196,
   "metadata": {},
   "outputs": [
    {
     "data": {
      "text/plain": [
       "(\"my_number\")"
      ]
     },
     "execution_count": 196,
     "metadata": {},
     "output_type": "execute_result"
    }
   ],
   "source": [
    "(re-seq regex-identifiers \"my_number = 365\")"
   ]
  },
  {
   "cell_type": "markdown",
   "metadata": {},
   "source": [
    "### Strings\n",
    "Los strings en python tienen un prefijio opcional. Después pueden ser shortstrings delimitados por ' o por \".\n",
    "También pueden ser longstrings que pueden ocupar múltiples líneas y están delimitados por ''' o por \"\"\".\n",
    "Las secuencias de escape que requieren estados son:\n",
    "- Hasta 3 dígitos octales: \\ooo\n",
    "- Exactamente 2 dígitos hexadecimales: \\xhh\n",
    "- Un caracter unicode con 16 bits con exactamente 4 dígitos hexadecimales: \\uxxxx\n",
    "- Un caracter unicode con 32 bits con exactamente 8 dígitos hexadecimales: \\Uxxxxxxxx\n",
    "- Un caracter de unicode por su nombre: \\N{name} (Se considera para este ejercicio que es cualquier subconjunto de la categoría unicode de letras)"
   ]
  },
  {
   "cell_type": "code",
   "execution_count": 197,
   "metadata": {},
   "outputs": [
    {
     "data": {
      "text/plain": [
       "#'user/regex-string"
      ]
     },
     "execution_count": 197,
     "metadata": {},
     "output_type": "execute_result"
    }
   ],
   "source": [
    "(def regex-string #\"(?xm)\n",
    "  (?:[rRuUfF]|fr|fR|FR|Fr|rf|rF|RF|Rf)? \n",
    "    (?:\n",
    "      (?:'''\n",
    "        (?:[^\\\\]\n",
    "         | \\\\\n",
    "          (?:[abfnrtv'\\\"\\\\]\n",
    "           | newline\n",
    "           | [0-7]{1,3}\n",
    "           | x[a-fA-F0-9]{2}\n",
    "           | u[a-fA-F0-9]{4}\n",
    "           | U[a-fA-F0-9]{8}\n",
    "           | N\\{\\p{L}*\\}))*''')\n",
    "    | (?:\\\"\\\"\\\"\n",
    "        (?:[^\\\\]\n",
    "         | \\\\\n",
    "          (?:[abfnrtv\\'\\\"\\\\]\n",
    "           | newline\n",
    "           | [0-7]{1,3}\n",
    "           | x[a-fA-F0-9]{2}\n",
    "           | u[a-fA-F0-9]{4}\n",
    "           | U[a-fA-F0-9]{8}\n",
    "           | N\\{\\p{L}*\\}))*\\\"\\\"\\\")\n",
    "    | (?:'\n",
    "        (?:[^\\n\\'\\\\]\n",
    "         | \\\\\n",
    "          (?:[abfnrtv\\'\\\"\\\\]\n",
    "           | newline\n",
    "           | [0-7]{1,3}\n",
    "           | x[a-fA-F0-9]{2}\n",
    "           | u[a-fA-F0-9]{4}\n",
    "           | U[a-fA-F0-9]{8}\n",
    "           | N\\{\\p{L}*\\}))*')\n",
    "    | (?:\\\"\n",
    "        (?:[^\\n\\\"\\\\]\n",
    "         | \\\\\n",
    "          (?:[abfnrtv\\'\\\"\\\\]\n",
    "           | newline\n",
    "           | [0-7]{1,3}\n",
    "           | x[a-fA-F0-9]{2}\n",
    "           | u[a-fA-F0-9]{4}\n",
    "           | U[a-fA-F0-9]{8}\n",
    "           | N\\{\\p{L}*\\}))*\\\"))\")\n"
   ]
  },
  {
   "cell_type": "code",
   "execution_count": 198,
   "metadata": {},
   "outputs": [
    {
     "data": {
      "text/plain": [
       "(\"''' In python, \\\\newline \\\\N{one} function of the multiline strings\\n                          is to \\\\0 \\\\01 \\\\02 wrap the documentation strings to the limit\\n                          \\\\\\\\ characters. \\\\xAF \\\\uAFaf \\\\UaBcDeFaB '''\")"
      ]
     },
     "execution_count": 198,
     "metadata": {},
     "output_type": "execute_result"
    }
   ],
   "source": [
    "(re-seq regex-string \"''' In python, \\\\newline \\\\N{one} function of the multiline strings\n",
    "                          is to \\\\0 \\\\01 \\\\02 wrap the documentation strings to the limit\n",
    "                          \\\\\\\\ characters. \\\\xAF \\\\uAFaf \\\\UaBcDeFaB '''\")"
   ]
  },
  {
   "cell_type": "markdown",
   "metadata": {},
   "source": [
    "### Bytes\n",
    "Los bytes en python siempre tienen un prefijo, pueden ser con comillas simples o dobles, y pueden ser de línea o de bloque usando una comilla o tres respectivamente para encapsular.\n",
    "\n",
    "Pueden escapar un subconjunto de las secuencias de escape que pueden escapar los strings:\n",
    "- Hasta 3 dígitos octales: \\ooo\n",
    "- Excatamente 2 dígitos hexadecimales: \\xhh"
   ]
  },
  {
   "cell_type": "code",
   "execution_count": 199,
   "metadata": {},
   "outputs": [
    {
     "data": {
      "text/plain": [
       "#'user/regex-byte"
      ]
     },
     "execution_count": 199,
     "metadata": {},
     "output_type": "execute_result"
    }
   ],
   "source": [
    "(def regex-byte #\"(?xm)\n",
    "  (?:b|B|br|bR|Br|BR|rb|rB|Rb|RB)\n",
    "    (?:\n",
    "      (?:'''\n",
    "        (?:[^\\\\]\n",
    "         | \\\\\n",
    "          (?:[abfnrt\\'\\\"\\\\]\n",
    "           | newline\n",
    "           | [0-7]{1,3}\n",
    "           | x[a-fA-F0-9]{2}))*''')\n",
    "    | (?:\\\"\\\"\\\"\n",
    "        (?:[^\\\\]\n",
    "         | \\\\\n",
    "          (?:[abfnrt\\'\\\"\\\\]\n",
    "           | newline\n",
    "           | [0-7]{1,3}\n",
    "           | x[a-fA-F0-9]{2}))*\\\"\\\"\\\")\n",
    "    | (?:'\n",
    "        (?:[^\\n\\'\\\\]\n",
    "         | \\\\\n",
    "          (?:[abfnrt\\'\\\"\\\\]\n",
    "           | newline\n",
    "           | [0-7]{1,3}\n",
    "           | x[a-fA-F0-9]{2}))*')\n",
    "    | (?:\\\"\n",
    "        (?:[^\\n\\\"\\\\]\n",
    "         | \\\\\n",
    "          (?:[abfnrt\\'\\\"\\\\]\n",
    "            | newline\n",
    "            | [0-7]{1,3}\n",
    "            | x[a-fA-F0-9]{2}))*\\\"))\")\n"
   ]
  },
  {
   "cell_type": "code",
   "execution_count": 200,
   "metadata": {},
   "outputs": [
    {
     "data": {
      "text/plain": [
       "(\"B\\\"\\\"\\\" This is a byte in python \\\\123 \\\\\\\\ \\\\newline\\n                    \\\\x12\\\"\\\"\\\"\")"
      ]
     },
     "execution_count": 200,
     "metadata": {},
     "output_type": "execute_result"
    }
   ],
   "source": [
    "(re-seq regex-byte \"B\\\"\\\"\\\" This is a byte in python \\\\123 \\\\\\\\ \\\\newline\n",
    "                    \\\\x12\\\"\\\"\\\"\")"
   ]
  },
  {
   "cell_type": "markdown",
   "metadata": {},
   "source": [
    "### Integers"
   ]
  },
  {
   "cell_type": "markdown",
   "metadata": {},
   "source": [
    "Los enteros en python son meramente un número que puede ser tanto negativo como positivo con una cantidad ilimitada en su longitud.\n",
    "\n",
    "Pueden tener el signo correspondientes antes de los digitos o puede no tener ninguno para hacer referencia al campo de los positivos."
   ]
  },
  {
   "cell_type": "code",
   "execution_count": 2,
   "metadata": {},
   "outputs": [
    {
     "data": {
      "text/plain": [
       "#'user/regex-integer"
      ]
     },
     "execution_count": 2,
     "metadata": {},
     "output_type": "execute_result"
    }
   ],
   "source": [
    "(def regex-integer #\"([+-]?\\d+)\")"
   ]
  },
  {
   "cell_type": "code",
   "execution_count": 4,
   "metadata": {},
   "outputs": [
    {
     "data": {
      "text/plain": [
       "([\"123\" \"123\"] [\"-123\" \"-123\"] [\"+123\" \"+123\"])"
      ]
     },
     "execution_count": 4,
     "metadata": {},
     "output_type": "execute_result"
    }
   ],
   "source": [
    "(re-seq regex-integer \"123 -123 +123\")"
   ]
  },
  {
   "cell_type": "markdown",
   "metadata": {},
   "source": [
    "### Floats"
   ]
  },
  {
   "cell_type": "markdown",
   "metadata": {},
   "source": [
    "Los flotantes o números de punto flotante en python son números que pueden ser tanto negativos como positivos conteniendo uno o más decimales.\n",
    "\n",
    "Pueden tener el signo correspondientes antes de los digitos o puede no tener ninguno para hacer referencia al campo de los positivos.\n",
    "\n",
    "Es indispensable que contengan un punto o un exponencial representado por la letra \"e\" para que se considere como flotante."
   ]
  },
  {
   "cell_type": "code",
   "execution_count": 6,
   "metadata": {},
   "outputs": [
    {
     "data": {
      "text/plain": [
       "#'user/regex-floats"
      ]
     },
     "execution_count": 6,
     "metadata": {},
     "output_type": "execute_result"
    }
   ],
   "source": [
    "(def regex-floats #\"(([-+]?(\\d+[.]|[.]\\d+)\\d*([eE][-+]?\\d+)?)|([-+]?\\d+[eE][-+]?\\d+))\")"
   ]
  },
  {
   "cell_type": "code",
   "execution_count": 7,
   "metadata": {},
   "outputs": [
    {
     "data": {
      "text/plain": [
       "([\"-5.4e+56\" \"-5.4e+56\" \"-5.4e+56\" \"5.\" \"e+56\" nil])"
      ]
     },
     "execution_count": 7,
     "metadata": {},
     "output_type": "execute_result"
    }
   ],
   "source": [
    "(re-seq regex-floats \"-5.4e+56\")"
   ]
  },
  {
   "cell_type": "markdown",
   "metadata": {},
   "source": [
    "### Complex"
   ]
  },
  {
   "cell_type": "markdown",
   "metadata": {},
   "source": [
    "Los números complejos o imaginarios en python son escritos con una \"j\" que representa la parte imaginaria de la expresión.\n",
    "\n",
    "Pueden contener la parte real representada por un número entero o flotante, pero será indispensable que contengan la parte imaginaria para que se considere como número complejo, el cual puede llegar a representarse como entero o flotante."
   ]
  },
  {
   "cell_type": "code",
   "execution_count": 8,
   "metadata": {},
   "outputs": [
    {
     "data": {
      "text/plain": [
       "#'user/regex-complex"
      ]
     },
     "execution_count": 8,
     "metadata": {},
     "output_type": "execute_result"
    }
   ],
   "source": [
    "(def regex-complex #\"(([-+]?(\\d+[.]|[.]\\d+)?\\d*([eE][-+]?\\d+)?([-+]?(\\d+[.]|[.]\\d+)?\\d*([eE][-+]?\\d+)?[j]))|([-+]?\\d+[eE][-+]?\\d+[j]))\")"
   ]
  },
  {
   "cell_type": "code",
   "execution_count": 9,
   "metadata": {},
   "outputs": [
    {
     "data": {
      "text/plain": [
       "([\"-89.45e+65-56.e-45j\" \"-89.45e+65-56.e-45j\" \"-89.45e+65-56.e-45j\" \"89.\" \"e+65\" \"-56.e-45j\" \"56.\" \"e-45\" nil])"
      ]
     },
     "execution_count": 9,
     "metadata": {},
     "output_type": "execute_result"
    }
   ],
   "source": [
    "(re-seq regex-complex \"-89.45e+65-56.e-45j\")"
   ]
  },
  {
   "cell_type": "markdown",
   "metadata": {},
   "source": [
    "## Operators"
   ]
  },
  {
   "cell_type": "markdown",
   "metadata": {},
   "source": [
    "Los operadores en python son símbolos reservados para la realización de operaciones sobre los elementos a aplicar, de entre estos se encuentran variables o valores.\n",
    "\n",
    "Se pueden encontrar operadores aritméticos, comparativos, lógicos, de identidad, de afiliación y de bit a bit."
   ]
  },
  {
   "cell_type": "code",
   "execution_count": 11,
   "metadata": {},
   "outputs": [
    {
     "data": {
      "text/plain": [
       "#'user/regex-operators"
      ]
     },
     "execution_count": 11,
     "metadata": {},
     "output_type": "execute_result"
    }
   ],
   "source": [
    "(def regex-operators #\"(\\+|\\-|\\*\\*?|\\/\\/?|\\%|\\@|\\<(\\<|\\=)?|\\>(\\>|\\=)?|\\||\\^|\\~|(\\=|\\!)\\=|\\&|is(\\snot)?|not(\\sin)?|or|and)\")"
   ]
  },
  {
   "cell_type": "code",
   "execution_count": 13,
   "metadata": {},
   "outputs": [
    {
     "data": {
      "text/plain": [
       "([\"%\" \"%\" nil nil nil nil nil] [\"//\" \"//\" nil nil nil nil nil] [\"+\" \"+\" nil nil nil nil nil])"
      ]
     },
     "execution_count": 13,
     "metadata": {},
     "output_type": "execute_result"
    }
   ],
   "source": [
    "(re-seq regex-operators \"5%2//2+5\")"
   ]
  },
  {
   "cell_type": "markdown",
   "metadata": {},
   "source": [
    "## Delimiters"
   ]
  },
  {
   "cell_type": "markdown",
   "metadata": {},
   "source": [
    "Los delimitadores en python son caracteres utilizados para delimitar, separar o representar expresiones en el léxico.\n",
    "\n",
    "A pesar de que se contengan operadores de asignación aumentada se listan de esta manera porque no requieren de espacios en blanco en el código fuente.\n",
    "\n",
    "Véase: [Python delimeters]\n",
    "\n",
    "[Python delimeters]: \n",
    "<https://stackoverflow.com/questions/24126468/why-in-python-and-are-considered-as-delimiters>"
   ]
  },
  {
   "cell_type": "code",
   "execution_count": 14,
   "metadata": {},
   "outputs": [
    {
     "data": {
      "text/plain": [
       "#'user/regex-delimeters"
      ]
     },
     "execution_count": 14,
     "metadata": {},
     "output_type": "execute_result"
    }
   ],
   "source": [
    "(def regex-delimeters #\"(\\'|\\\"|\\#|\\\\|\\(|\\)|\\[|\\]|\\{|\\}|\\,|\\:|\\.|\\;|\\=|->|[-+%&|^]\\=|(\\/\\/?|\\*\\*?|\\<\\<?|\\<\\<?|\\>\\>?)\\=|\\@\\=?)\")"
   ]
  },
  {
   "cell_type": "code",
   "execution_count": 17,
   "metadata": {},
   "outputs": [
    {
     "data": {
      "text/plain": [
       "([\"(\" \"(\" nil] [\"'\" \"'\" nil] [\"'\" \"'\" nil] [\")\" \")\" nil] [\")\" \")\" nil])"
      ]
     },
     "execution_count": 17,
     "metadata": {},
     "output_type": "execute_result"
    }
   ],
   "source": [
    "(re-seq regex-delimeters \"print('Hola Mundo'))\")"
   ]
  },
  {
   "cell_type": "markdown",
   "metadata": {},
   "source": [
    "## Expresión con grupos de captura"
   ]
  },
  {
   "cell_type": "code",
   "execution_count": 18,
   "metadata": {},
   "outputs": [
    {
     "data": {
      "text/plain": [
       "#'user/regex-python"
      ]
     },
     "execution_count": 18,
     "metadata": {},
     "output_type": "execute_result"
    }
   ],
   "source": [
    "(def regex-python #\"(?xm)\n",
    "  (\\#.*)\n",
    "| (\\bFalse\\b|\\bTrue\\b|\\bNone\\b|\\band\\b|\\bas\\b|\\bassert\\b|\\basync\\b|\\bawait\\b|\\bbreak\\b|\\bclass\\b|\\bcontinue\\b|\\bdef\\b|\\bdel\\b|\\belif\\b|\\belse\\b|\\bexcept\\b|\\bfinally\\b|\\bfor\\b|\\bfrom\\b|\\bglobal\\b|\\bif\\b|\\bimport\\b|\\bin\\b|\\bis\\b|\\blambda\\b|\\bnonlocal\\b|\\bnot|\\bor\\b|\\bpass\\b|\\braise\\b|\\breturn\\b|\\btry\\b|\\bwhile\\b|\\bwith\\b|\\byield\\b)\n",
    "| ((?:b|B|br|bR|Br|BR|rb|rB|Rb|RB)\n",
    "    (?:\n",
    "      (?:'''\n",
    "        (?:[^\\\\]\n",
    "         | \\\\\n",
    "          (?:[abfnrt\\'\\\"]\n",
    "           | [0-7]{1,3}\n",
    "           | x[a-fA-F0-9]{2}))*''')\n",
    "    | (?:\\\"\\\"\\\"\n",
    "        (?:[^\\\\]\n",
    "         | \\\\\n",
    "          (?:[abfnrt\\'\\\"]\n",
    "           | [0-7]{1,3}\n",
    "           | x[a-fA-F0-9]{2}))*\\\"\\\"\\\")\n",
    "    | (?:'\n",
    "        (?:[^\\n\\'\\\\]\n",
    "         | \\\\\n",
    "          (?:[abfnrt\\'\\\"]\n",
    "           | [0-7]{1,3}\n",
    "           | x[a-fA-F0-9]{2}))*')\n",
    "    | (?:\\\"\n",
    "        (?:[^\\n\\\"\\\\]\n",
    "         | \\\\\n",
    "          (?:[abfnrt\\'\\\"]\n",
    "            | [0-7]{1,3}\n",
    "            | x[a-fA-F0-9]{2}))*\\\"))) \n",
    "| ((?:[rRuUfF]|fr|fR|FR|Fr|rf|rF|RF|Rf)? \n",
    "    (?:\n",
    "      (?:'''\n",
    "        (?:[^\\\\]\n",
    "         | \\\\\n",
    "          (?:[abfnrt'\\\"]\n",
    "           | [0-7]{1,3}\n",
    "           | x[a-fA-F0-9]{2}\n",
    "           | u[a-fA-F0-9]{4}\n",
    "           | U[a-fA-F0-9]{8}\n",
    "           | N\\{[LMNPSCZ]\\}))*''')\n",
    "    | (?:\\\"\\\"\\\"\n",
    "        (?:[^\\\\]\n",
    "         | \\\\\n",
    "          (?:[abfnrt\\'\\\"]\n",
    "           | [0-7]{1,3}\n",
    "           | x[a-fA-F0-9]{2}\n",
    "           | u[a-fA-F0-9]{4}\n",
    "           | U[a-fA-F0-9]{8}\n",
    "           | N\\{[LMNPSCZ]\\}))*\\\"\\\"\\\")\n",
    "    | (?:'\n",
    "        (?:[^\\n\\'\\\\]\n",
    "         | \\\\\n",
    "          (?:[abfnrt\\'\\\"]\n",
    "           | [0-7]{1,3}\n",
    "           | x[a-fA-F0-9]{2}\n",
    "           | u[a-fA-F0-9]{4}\n",
    "           | U[a-fA-F0-9]{8}\n",
    "           | N\\{[LMNPSCZ]\\}))*')\n",
    "    | (?:\\\"\n",
    "        (?:[^\\n\\\"\\\\]\n",
    "         | \\\\\n",
    "          (?:[abfnrt\\'\\\"]\n",
    "           | [0-7]{1,3}\n",
    "           | x[a-fA-F0-9]{2}\n",
    "           | u[a-fA-F0-9]{4}\n",
    "           | U[a-fA-F0-9]{8}\n",
    "           | N\\{[LMNPSCZ]\\}))*\\\")))\n",
    "| (\\b(?:_|\\p{L}|\\p{Nl})(?:_|\\p{L}|\\p{Nl}|\\p{Mn}|\\p{Mc}|\\p{Nd}|\\p{Pc})*\\b)\n",
    "| (([-+]?(\\d+[.]|[.]\\d+)?\\d*([eE][-+]?\\d+)?([-+]?(\\d+[.]|[.]\\d+)?\\d*([eE][-+]?\\d+)?[j]))\n",
    "    |([-+]?\\d+[eE][-+]?\\d+[j]))\n",
    "| (([-+]?(\\d+[.]|[.]\\d+)\\d*([eE][-+]?\\d+)?)|\n",
    "   ([-+]?\\d+[eE][-+]?\\d+))\n",
    "| ([+-]?\\d+)\n",
    "| (\\'|\\\"|\\#|\\\\|\\(|\\)|\\[|\\]|\\{|\\}|\\,|\\:|\\.|\\;|\\=|->|[-+%&|^]\\=|(\\/\\/?|\\*\\*?|\\<\\<?|\\<\\<?|\\>\\>?)\\=|\\@\\=?)\n",
    "| (\\+|\\-|\\*\\*?|\\/\\/?|\\%|\\@|\\<(\\<|\\=)?|\\>(\\>|\\=)?|\\||\\^|\\~|(\\=|\\!)\\=|\\&|is(\\snot)?|not(\\sin)?|or|and)\")\n"
   ]
  },
  {
   "cell_type": "markdown",
   "metadata": {},
   "source": [
    "### strings-indices-spans\n",
    "Esta función toma un vector donde cada elemento es un vector que generaría re-match (matching-string grupos...) y genera otro vector donde cada elemento es un vector que contiene el matching-string, el índice en donde se encontró y el matching-string encapsulado de spans para su uso en html."
   ]
  },
  {
   "cell_type": "code",
   "execution_count": 205,
   "metadata": {},
   "outputs": [
    {
     "data": {
      "text/plain": [
       "#'user/strings-indices-spans"
      ]
     },
     "execution_count": 205,
     "metadata": {},
     "output_type": "execute_result"
    }
   ],
   "source": [
    "(defn strings-indices-spans\n",
    "  [matches]\n",
    "  (map (fn [match] ; Expression returned by cond is vector with full matching string, index and the category string.\n",
    "         (cond \n",
    "           (match 1) [(match 0) (last match) (str \"<span style='color:darkblue'>\" (match 0) \"</span>\")]\n",
    "           (match 2) [(match 0) (last match) (str \"<span style='color:blueviolet'>\" (match 0) \"</span>\")]\n",
    "           (match 3) [(match 0) (last match) (str \"<span style='color:chocolate'>\" (match 0) \"</span>\")]\n",
    "           (match 4) [(match 0) (last match) (str \"<span style='color:crimson'>\" (match 0) \"</span>\")]\n",
    "           (match 5) [(match 0) (last match) (str \"<span style='color:darkgreen'>\" (match 0) \"</span>\")]))\n",
    "       matches))"
   ]
  },
  {
   "cell_type": "markdown",
   "metadata": {},
   "source": [
    "### replace-strings-by-spans\n",
    "\n",
    "La función un vector como el que genera la función anterior strings-indices-matches con todos los strings que deben ser sustituidos y un temporal-string que se refiere al string inicial que va a ser transformado a un html.\n",
    "Se actualiza el temporal-string con ayuda del índice, y el matching-string del string-index-span, que es un elemento de strings-indices-matches que se va actualizando. Después se actualiza el vector strings-indices-spans que contiene todos los strings que deben ser sustituidos. Finalmente se actualiza el elemento string-index-span. Esto ocurre para todos los elementos de strings-indices-spans, sustituyendo los strings matcheados por sus contrapartes con código de html.\n"
   ]
  },
  {
   "cell_type": "code",
   "execution_count": 206,
   "metadata": {},
   "outputs": [
    {
     "data": {
      "text/plain": [
       "#'user/replace-strings-by-spans"
      ]
     },
     "execution_count": 206,
     "metadata": {},
     "output_type": "execute_result"
    }
   ],
   "source": [
    "(defn replace-strings-by-spans\n",
    "  [strings-indices-spans-arg temporal-string-arg]\n",
    "  (loop [temporal-string temporal-string-arg\n",
    "         strings-indices-spans strings-indices-spans-arg\n",
    "         string-index-span (first strings-indices-spans-arg)]\n",
    "  ;(print strings-indices-spans)\n",
    "  ;(print \"\\n\")\n",
    "  ;(print string-index-span)\n",
    "  ;(print \"\\n\")\n",
    "  ;(print temporal-string)\n",
    "  ;(print \"\\n\")\n",
    "  (if (= (count strings-indices-spans) 0)\n",
    "    temporal-string\n",
    "    (recur (if (and (first string-index-span) (second string-index-span) (last string-index-span)); string√index√span√\n",
    "             (str (subs temporal-string \n",
    "                                         0 \n",
    "                                         (second string-index-span)); 1 before the string begins\n",
    "                                   (last string-index-span)\n",
    "                                   (subs temporal-string \n",
    "                                         (+ (second string-index-span) \n",
    "                                            (count (first string-index-span)))))\n",
    "           temporal-string)\n",
    "           (let \n",
    "             [extra-letters (- (count (last string-index-span)) (count (first string-index-span)))]\n",
    "             (map (fn\n",
    "                  [string-index-span-map]\n",
    "                  [(first string-index-span-map) \n",
    "                   (+ (second string-index-span-map)\n",
    "                      extra-letters)\n",
    "                   (last string-index-span-map)])\n",
    "                (rest strings-indices-spans)))\n",
    "           (let \n",
    "             [extra-letters (- (count (last string-index-span)) (count (first string-index-span)))]\n",
    "             (first (map (fn\n",
    "                  [string-index-span-map]\n",
    "                  [(first string-index-span-map) \n",
    "                   (+ (second string-index-span-map) \n",
    "                      extra-letters)\n",
    "                   (last string-index-span-map)])\n",
    "                (rest strings-indices-spans))))))))"
   ]
  },
  {
   "cell_type": "markdown",
   "metadata": {},
   "source": [
    "### generate-matches\n",
    "La solución de usar el índice del match para reemplazar los strings, se pensó para que no hubiera ambiguedad sobre qué string dentro del documento se debe reemplazar. Por ejemplo, si una string \"my_variable\" está dentro de un comentario en python y además como un identificador, no sería correcto encapsular la que está dentro del comentario con spans. Esta función recibe un objeto creado con re-matcher, y ejecuta re-find repetidamente para encontrar todos los matches de la expresión regular del matcher en la string del matcher, pero agrega el índice del match al final de cada re-find, la única diferencia contra re-seq."
   ]
  },
  {
   "cell_type": "code",
   "execution_count": 207,
   "metadata": {},
   "outputs": [
    {
     "data": {
      "text/plain": [
       "#'user/generate-matches"
      ]
     },
     "execution_count": 207,
     "metadata": {},
     "output_type": "execute_result"
    }
   ],
   "source": [
    "(defn generate-matches \n",
    "  [matcher] \n",
    "  (loop [matches []\n",
    "         match (re-find matcher)]\n",
    "    (if (not (first match))\n",
    "      matches\n",
    "      (recur (conj matches \n",
    "                   (conj match \n",
    "                         (.start matcher))) \n",
    "             (re-find matcher)))))"
   ]
  },
  {
   "cell_type": "markdown",
   "metadata": {},
   "source": [
    "### big-guy\n",
    "Toma un nombre de un archivo, y una expresión regular que tiene grupos de captura y utiliza las funciones anteriores para generar un archivo html\n",
    "de mismo nombre y con las strings que hagan match con los distintos grupos de captura mostrando distintos colores."
   ]
  },
  {
   "cell_type": "code",
   "execution_count": 208,
   "metadata": {},
   "outputs": [
    {
     "data": {
      "text/plain": [
       "#'user/big-guy"
      ]
     },
     "execution_count": 208,
     "metadata": {},
     "output_type": "execute_result"
    }
   ],
   "source": [
    "(defn big-guy\n",
    "  [file-name language-regex]\n",
    "  (spit (clojure.string/replace file-name \".py\" \".html\")\n",
    "        (let [split-html (clojure.string/split (slurp \"starting_html.html\") #\"\\<pre\\>\")]\n",
    "          (reduce str \"\" [(split-html 0)\n",
    "                          \"<pre>\"\n",
    "                          (replace-strings-by-spans (strings-indices-spans (generate-matches (re-matcher language-regex \n",
    "                                                                                                         (slurp file-name))))\n",
    "                                                    (slurp file-name))\n",
    "                          (split-html 1)]))))\n"
   ]
  },
  {
   "cell_type": "code",
   "execution_count": 209,
   "metadata": {},
   "outputs": [
    {
     "data": {
      "text/plain": [
       "nil"
      ]
     },
     "execution_count": 209,
     "metadata": {},
     "output_type": "execute_result"
    }
   ],
   "source": [
    "(big-guy \"python-file.py\" regex-python)"
   ]
  },
  {
   "cell_type": "markdown",
   "metadata": {},
   "source": [
    "Ciertos caracteres en el archivo de entrada deben ser reemplazados en el documento de salida por sus correspondientes secuencias de escape de HTML:\n",
    "< (menor que)   ➔   &lt;\n",
    "> (mayor que)   ➔   &gt;\n",
    "& (ampersand)   ➔   &amp;"
   ]
  },
  {
   "cell_type": "code",
   "execution_count": null,
   "metadata": {},
   "outputs": [],
   "source": []
  }
 ],
 "metadata": {
  "kernelspec": {
   "display_name": "Clojure (clojupyter=0.3.2=1)",
   "language": "clojure",
   "name": "conda-clojupyter"
  },
  "language_info": {
   "file_extension": ".clj",
   "mimetype": "text/x-clojure",
   "name": "clojure",
   "version": "1.10.1"
  }
 },
 "nbformat": 4,
 "nbformat_minor": 4
}
