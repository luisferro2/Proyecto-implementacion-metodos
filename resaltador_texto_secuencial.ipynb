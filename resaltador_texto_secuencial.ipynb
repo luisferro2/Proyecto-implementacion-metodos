{
 "cells": [
  {
   "cell_type": "markdown",
   "metadata": {},
   "source": [
    "- Al inicio del Jupyter Notebook debe haber una cleda de markdown con la matrícula y el nombre de los integrantes del equipo, así como una breve descripción del proyecto.\n",
    "- Cada función de Clojure definida en su programa debe contar con una celda de markdown (inmediatamente arriba de la celda de código correspondiente) documentando en un breve enunciado su intención.\n",
    "- El código con la implementación de la solución del problema debe seguir las convenciones de estilo y codificación de Clojure.\n"
   ]
  },
  {
   "cell_type": "markdown",
   "metadata": {},
   "source": [
    "# Resaltador de texto secuencial para python 3.9.5"
   ]
  },
  {
   "cell_type": "markdown",
   "metadata": {},
   "source": [
    "## Autores:\n",
    "* Luis Ignacio Ferro Salinas A01378248\n",
    "\n",
    "Se realiza un resaltador de texto para el lenguaje Python, usando sus especificaciones de léxico más recientes descritas en: [Python lexical analysis]\n",
    "Las categorías que se escogimos para resaltar son las siguientes.\n",
    "\n",
    "* Comentarios.\n",
    "* Keywords.\n",
    "* Identifiers.\n",
    "* Strings.\n",
    "* Bytes.\n",
    "* Integers.\n",
    "* Floats.\n",
    "* Imaginaries.\n",
    "* Operators.\n",
    "* Delimiters.\n",
    "\n",
    "[Python lexical analysis]: <https://docs.python.org/3/reference/lexical_analysis.htmlhttps://docs.python.org/3/reference/lexical_analysis.html>"
   ]
  },
  {
   "cell_type": "markdown",
   "metadata": {},
   "source": [
    "### Comentarios\n",
    "Los comentarios en python, según la especificación léxica, comienzan con un #, y son comentarios de línea."
   ]
  },
  {
   "cell_type": "code",
   "execution_count": 24,
   "metadata": {},
   "outputs": [
    {
     "data": {
      "text/plain": [
       "#'user/regex-comment"
      ]
     },
     "execution_count": 24,
     "metadata": {},
     "output_type": "execute_result"
    }
   ],
   "source": [
    "(def regex-comment (re-pattern \"#.*\"))"
   ]
  },
  {
   "cell_type": "code",
   "execution_count": 27,
   "metadata": {},
   "outputs": [
    {
     "data": {
      "text/plain": [
       "(\"# lol.\")"
      ]
     },
     "execution_count": 27,
     "metadata": {},
     "output_type": "execute_result"
    }
   ],
   "source": [
    "(re-seq regex-comment \"# lol.\\n\")"
   ]
  },
  {
   "cell_type": "markdown",
   "metadata": {},
   "source": [
    "### Keywords\n",
    "Los keywords en python son palabras especiales que no pueden ser utilizadas como identificadores porque pueden tienen propósitos específicos.\n",
    "Son las siguientes:\n",
    "- False\n",
    "- True\n",
    "- None\n",
    "- and\n",
    "- as\n",
    "- assert\n",
    "- async\n",
    "- await\n",
    "- break\n",
    "- class\n",
    "- continue\n",
    "- def\n",
    "- del\n",
    "- elif\n",
    "- else\n",
    "- except\n",
    "- finally\n",
    "- for\n",
    "- from\n",
    "- global\n",
    "- if\n",
    "- import\n",
    "- in\n",
    "- is\n",
    "- lambda\n",
    "- nonlocal\n",
    "- not\n",
    "- or\n",
    "- pass\n",
    "- raise\n",
    "- return\n",
    "- try\n",
    "- while\n",
    "- with\n",
    "- yield"
   ]
  },
  {
   "cell_type": "code",
   "execution_count": 42,
   "metadata": {},
   "outputs": [
    {
     "data": {
      "text/plain": [
       "#'user/regex-keyword"
      ]
     },
     "execution_count": 42,
     "metadata": {},
     "output_type": "execute_result"
    }
   ],
   "source": [
    "(def regex-keyword #\"\\bFalse\\b|\\bTrue\\b|\\bNone\\b|\\band\\b|\\bas\\b|\\bassert\\b|\\basync\\b|\\bawait\\b|\\bbreak\\b|\\bclass\\b|\\bcontinue\\b|\\bdef\\b|\\bdel\\b|\\belif\\b|\\belse\\b|\\bexcept\\b|\\bfinally\\b|\\bfor\\b|\\bfrom\\b|\\bglobal\\b|\\bif\\b|\\bimport\\b|\\bin\\b|\\bis\\b|\\blambda\\b|\\bnonlocal\\b|\\bnot|\\bor\\b|\\bpass\\b|\\braise\\b|\\breturn\\b|\\btry\\b|\\bwhile\\b|\\bwith\\b|\\byield\\b\")\n",
    "\n"
   ]
  },
  {
   "cell_type": "code",
   "execution_count": 44,
   "metadata": {},
   "outputs": [
    {
     "data": {
      "text/plain": [
       "(\"True\" \"None\" \"and\" \"as\" \"assert\")"
      ]
     },
     "execution_count": 44,
     "metadata": {},
     "output_type": "execute_result"
    }
   ],
   "source": [
    "(re-seq regex-keyword \"Falser True\\nNone and as assert\")"
   ]
  },
  {
   "cell_type": "markdown",
   "metadata": {},
   "source": [
    "### Identifiers\n",
    "En python, los identificadores se definen por una normalización NFLK, pero sin considerarla, la especificación nos da una expresión regular:\n",
    "````\n",
    "id_start id_continue*\n",
    "````\n",
    "En id_start se puede usar el guión bajo, y pueden estar las siguientes categorías:\n",
    "- Lu\n",
    "- Ll\n",
    "- Lt\n",
    "- Lm\n",
    "- Lo\n",
    "- Nl\n",
    "\n",
    "\n",
    "En id_continue, se permite todo lo que se permite en id_start, y además pueden estar las siguientes categorías:\n",
    "- Mn\n",
    "- Mc\n",
    "- Nd\n",
    "- Pc\n",
    "\n",
    "Las categorías tienen los siguientes significados:\n",
    "- Lu(uppercase)\n",
    "- Ll(lowercase)\n",
    "- Lt(titlecase)\n",
    "- Lm(modifier)\n",
    "- Lo(other)\n",
    "- Nl(letter numbers)\n",
    "- Mn(nonspacing marks)\n",
    "- Mc(spacing combining marks)\n",
    "- Nd(decimal numbers)\n",
    "- Pc(connector punctuations)\n"
   ]
  },
  {
   "cell_type": "code",
   "execution_count": 46,
   "metadata": {},
   "outputs": [
    {
     "data": {
      "text/plain": [
       "#'user/regex-identifiers"
      ]
     },
     "execution_count": 46,
     "metadata": {},
     "output_type": "execute_result"
    }
   ],
   "source": [
    "(def regex-identifiers #\"[_|\\p{L}|\\p{Nl}][_|\\p{L}|\\p{Nl}|\\p{Mn}|\\p{Mc}|\\p{Nd}|]\")(def regex-identifiers #\"[_|\\p{L}|\\p{Nl}][_|\\p{L}|\\p{Nl}|\\p{Mn}|\\p{Mc}|\\p{Nd}|\\p{Pc}]*\")"
   ]
  },
  {
   "cell_type": "code",
   "execution_count": 47,
   "metadata": {},
   "outputs": [
    {
     "data": {
      "text/plain": [
       "(\"a\")"
      ]
     },
     "execution_count": 47,
     "metadata": {},
     "output_type": "execute_result"
    }
   ],
   "source": [
    "(re-seq regex-identifiers \"a = 32\")"
   ]
  },
  {
   "cell_type": "code",
   "execution_count": 5,
   "metadata": {},
   "outputs": [
    {
     "data": {
      "text/plain": [
       "\"# This is a comment.\\nvariable = 10\\n# This is another comment.\\n\""
      ]
     },
     "execution_count": 5,
     "metadata": {},
     "output_type": "execute_result"
    }
   ],
   "source": [
    "(slurp \"texto_ejemplo.txt\")"
   ]
  },
  {
   "cell_type": "code",
   "execution_count": 6,
   "metadata": {},
   "outputs": [
    {
     "data": {
      "text/plain": [
       "([\"# This is a comment.\" \"# This is a comment.\"] [\"# This is another comment.\" \"# This is another comment.\"])"
      ]
     },
     "execution_count": 6,
     "metadata": {},
     "output_type": "execute_result"
    }
   ],
   "source": [
    "(def matches (re-seq regex-comment (slurp \"texto_ejemplo.txt\")))\n",
    "matches"
   ]
  },
  {
   "cell_type": "code",
   "execution_count": 7,
   "metadata": {},
   "outputs": [
    {
     "data": {
      "text/plain": [
       "([\"# This is a comment.\" \"<span class='comentario'># This is a comment.</span>\"] [\"# This is another comment.\" \"<span class='comentario'># This is another comment.</span>\"])"
      ]
     },
     "execution_count": 7,
     "metadata": {},
     "output_type": "execute_result"
    }
   ],
   "source": [
    "(map (fn [match] \n",
    "                 (cond \n",
    "                   (match 1) [(match 0) (str \"<span class='comentario'>\" (match 0) \"</span>\")]))  ; Expression returned by cond is vector with full matching string and the category string.\n",
    "     matches)"
   ]
  },
  {
   "cell_type": "code",
   "execution_count": 8,
   "metadata": {},
   "outputs": [
    {
     "name": "stderr",
     "output_type": "stream",
     "text": [
      "Syntax error compiling at (REPL:1:1).\n",
      "No such namespace: string\n"
     ]
    },
    {
     "ename": "class clojure.lang.Compiler$CompilerException",
     "evalue": "",
     "execution_count": 8,
     "output_type": "error",
     "status": "error",
     "traceback": [
      "  Util.java:   221 clojure.lang.Util/runtimeException",
      "   core.clj:  3214 clojure.core$eval/invokeStatic",
      "   core.clj:  3210 clojure.core$eval/invoke",
      "   main.clj:   437 clojure.main$repl$read_eval_print__9086$fn__9089/invoke",
      "   main.clj:   458 clojure.main$repl$fn__9095/invoke",
      "   main.clj:   368 clojure.main$repl/doInvoke",
      "RestFn.java:  1523 clojure.lang.RestFn/invoke",
      "   AFn.java:    22 clojure.lang.AFn/run",
      "   AFn.java:    22 clojure.lang.AFn/run",
      "Thread.java:   745 java.lang.Thread/run"
     ]
    }
   ],
   "source": [
    "(string/index-of \"# This is a comment\" \"This\")"
   ]
  },
  {
   "cell_type": "code",
   "execution_count": null,
   "metadata": {},
   "outputs": [],
   "source": []
  }
 ],
 "metadata": {
  "kernelspec": {
   "display_name": "Clojure (clojupyter=0.3.2=1)",
   "language": "clojure",
   "name": "conda-clojupyter"
  },
  "language_info": {
   "file_extension": ".clj",
   "mimetype": "text/x-clojure",
   "name": "clojure",
   "version": "1.10.1"
  }
 },
 "nbformat": 4,
 "nbformat_minor": 4
}
