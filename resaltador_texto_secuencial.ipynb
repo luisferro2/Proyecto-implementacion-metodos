{
 "cells": [
  {
   "cell_type": "markdown",
   "metadata": {},
   "source": [
    "- Al inicio del Jupyter Notebook debe haber una cleda de markdown con la matrícula y el nombre de los integrantes del equipo, así como una breve descripción del proyecto.\n",
    "- Cada función de Clojure definida en su programa debe contar con una celda de markdown (inmediatamente arriba de la celda de código correspondiente) documentando en un breve enunciado su intención.\n",
    "- El código con la implementación de la solución del problema debe seguir las convenciones de estilo y codificación de Clojure.\n"
   ]
  },
  {
   "cell_type": "markdown",
   "metadata": {},
   "source": [
    "# Resaltador de texto secuencial para python 3.9.5"
   ]
  },
  {
   "cell_type": "markdown",
   "metadata": {},
   "source": [
    "## Autores:\n",
    "* Luis Ignacio Ferro Salinas A01378248\n",
    "\n",
    "Se realiza un resaltador de texto para el lenguaje Python, usando sus especificaciones de léxico más recientes descritas en: [Python lexical analysis]\n",
    "Las categorías que se escogimos para resaltar son las siguientes.\n",
    "\n",
    "* Comentarios.\n",
    "* Keywords.\n",
    "* Identifiers.\n",
    "* Strings.\n",
    "* Bytes.\n",
    "* Integers.\n",
    "* Floats.\n",
    "* Imaginaries.\n",
    "* Operators.\n",
    "* Delimiters.\n",
    "\n",
    "[Python lexical analysis]: <https://docs.python.org/3/reference/lexical_analysis.htmlhttps://docs.python.org/3/reference/lexical_analysis.html>"
   ]
  },
  {
   "cell_type": "markdown",
   "metadata": {},
   "source": [
    "### Comentarios\n",
    "Los comentarios en python, según la especificación léxica, comienzan con un #, y son comentarios de línea."
   ]
  },
  {
   "cell_type": "code",
   "execution_count": 21,
   "metadata": {},
   "outputs": [
    {
     "data": {
      "text/plain": [
       "#'user/regex-comment"
      ]
     },
     "execution_count": 21,
     "metadata": {},
     "output_type": "execute_result"
    }
   ],
   "source": [
    "(def regex-comment  #\"\\#.*\")"
   ]
  },
  {
   "cell_type": "code",
   "execution_count": 22,
   "metadata": {},
   "outputs": [
    {
     "data": {
      "text/plain": [
       "(\"# lol.\" \"# Primer comentario serio.\")"
      ]
     },
     "execution_count": 22,
     "metadata": {},
     "output_type": "execute_result"
    }
   ],
   "source": [
    "(re-seq regex-comment \"# lol.\\n# Primer comentario serio.\")"
   ]
  },
  {
   "cell_type": "markdown",
   "metadata": {},
   "source": [
    "### Keywords\n",
    "Los keywords en python son palabras especiales que no pueden ser utilizadas como identificadores porque pueden tienen propósitos específicos.\n",
    "Son las siguientes:\n",
    "- False\n",
    "- True\n",
    "- None\n",
    "- and\n",
    "- as\n",
    "- assert\n",
    "- async\n",
    "- await\n",
    "- break\n",
    "- class\n",
    "- continue\n",
    "- def\n",
    "- del\n",
    "- elif\n",
    "- else\n",
    "- except\n",
    "- finally\n",
    "- for\n",
    "- from\n",
    "- global\n",
    "- if\n",
    "- import\n",
    "- in\n",
    "- is\n",
    "- lambda\n",
    "- nonlocal\n",
    "- not\n",
    "- or\n",
    "- pass\n",
    "- raise\n",
    "- return\n",
    "- try\n",
    "- while\n",
    "- with\n",
    "- yield"
   ]
  },
  {
   "cell_type": "code",
   "execution_count": 23,
   "metadata": {},
   "outputs": [
    {
     "data": {
      "text/plain": [
       "#'user/regex-keyword"
      ]
     },
     "execution_count": 23,
     "metadata": {},
     "output_type": "execute_result"
    }
   ],
   "source": [
    "(def regex-keyword #\"\\bFalse\\b|\\bTrue\\b|\\bNone\\b|\\band\\b|\\bas\\b|\\bassert\\b|\\basync\\b|\\bawait\\b|\\bbreak\\b|\\bclass\\b|\\bcontinue\\b|\\bdef\\b|\\bdel\\b|\\belif\\b|\\belse\\b|\\bexcept\\b|\\bfinally\\b|\\bfor\\b|\\bfrom\\b|\\bglobal\\b|\\bif\\b|\\bimport\\b|\\bin\\b|\\bis\\b|\\blambda\\b|\\bnonlocal\\b|\\bnot|\\bor\\b|\\bpass\\b|\\braise\\b|\\breturn\\b|\\btry\\b|\\bwhile\\b|\\bwith\\b|\\byield\\b\")\n",
    "\n"
   ]
  },
  {
   "cell_type": "code",
   "execution_count": 24,
   "metadata": {},
   "outputs": [
    {
     "data": {
      "text/plain": [
       "(\"if\" \"True\")"
      ]
     },
     "execution_count": 24,
     "metadata": {},
     "output_type": "execute_result"
    }
   ],
   "source": [
    "(re-seq regex-keyword \"\\nif True:\n",
    "        print()\")"
   ]
  },
  {
   "cell_type": "markdown",
   "metadata": {},
   "source": [
    "### Identifiers\n",
    "En python, los identificadores se definen por una normalización NFLK, pero sin considerarla, la especificación nos da una expresión regular:\n",
    "````\n",
    "id_start id_continue*\n",
    "````\n",
    "En id_start se puede usar el guión bajo, y pueden estar las siguientes categorías:\n",
    "- Lu\n",
    "- Ll\n",
    "- Lt\n",
    "- Lm\n",
    "- Lo\n",
    "- Nl\n",
    "\n",
    "\n",
    "En id_continue, se permite todo lo que se permite en id_start, y además pueden estar las siguientes categorías:\n",
    "- Mn\n",
    "- Mc\n",
    "- Nd\n",
    "- Pc\n",
    "\n",
    "Las categorías tienen los siguientes significados:\n",
    "- Lu(uppercase)\n",
    "- Ll(lowercase)\n",
    "- Lt(titlecase)\n",
    "- Lm(modifier)\n",
    "- Lo(other)\n",
    "- Nl(letter numbers)\n",
    "- Mn(nonspacing marks)\n",
    "- Mc(spacing combining marks)\n",
    "- Nd(decimal numbers)\n",
    "- Pc(connector punctuations)\n"
   ]
  },
  {
   "cell_type": "code",
   "execution_count": 25,
   "metadata": {},
   "outputs": [
    {
     "data": {
      "text/plain": [
       "#'user/regex-identifiers"
      ]
     },
     "execution_count": 25,
     "metadata": {},
     "output_type": "execute_result"
    }
   ],
   "source": [
    "(def regex-identifiers #\"\\s[_\\p{L}\\p{Nl}][_\\p{L}\\p{Nl}\\p{Mn}\\p{Mc}\\p{Nd}\\p{Pc}]*\\s\")\n"
   ]
  },
  {
   "cell_type": "code",
   "execution_count": 26,
   "metadata": {},
   "outputs": [
    {
     "data": {
      "text/plain": [
       "nil"
      ]
     },
     "execution_count": 26,
     "metadata": {},
     "output_type": "execute_result"
    }
   ],
   "source": [
    "(re-seq regex-identifiers \"print('buenas tardes')\")"
   ]
  },
  {
   "cell_type": "markdown",
   "metadata": {},
   "source": [
    "### Strings\n",
    "Los strings en python tienen un prefijio opcional. Después pueden ser shortstrings delimitados por ' o por \".\n",
    "También pueden ser longstrings que pueden ocupar múltiples líneas y están delimitados por ''' o por \"\"\".\n",
    "Las secuencias de escape que requieren estados son:\n",
    "- Hasta 3 dígitos octales: \\ooo\n",
    "- Exactamente 2 dígitos hexadecimales: \\xhh\n",
    "- Un caracter unicode con 16 bits con 4 dígitos hexadecimales: \\uxxxx\n",
    "- Un caracter unicode con 32 bits con 8 dígitos hexadecimales: \\Uxxxxxxxx\n",
    "- Un caracter de unicode por su nombre: \\N{name}"
   ]
  },
  {
   "cell_type": "code",
   "execution_count": 27,
   "metadata": {},
   "outputs": [
    {
     "data": {
      "text/plain": [
       "#'user/regex-string"
      ]
     },
     "execution_count": 27,
     "metadata": {},
     "output_type": "execute_result"
    }
   ],
   "source": [
    "(def regex-string #\"(?xm)\n",
    "  (?:[rRuUfF]|fr|fR|FR|Fr|rf|rF|RF|Rf)? \n",
    "  '''\n",
    "  (?:[^\\\\]\n",
    "   | \\\\\n",
    "       (?:[abfnrt'\\\"]\n",
    "        | [0-7]{1,3}\n",
    "        | x[a-fA-F0-9]{2}\n",
    "        | u[a-fA-F0-9]{4}\n",
    "        | U[a-fA-F0-9]{8}\n",
    "        | N\\{[LMNPSCZ]\\}))*'''\n",
    "| \\\"\\\"\\\"\n",
    "  (?:[^\\\\]\n",
    "   | \\\\\n",
    "       (?:[abfnrt\\'\\\"]\n",
    "        | [0-7]{1,3}\n",
    "        | x[a-fA-F0-9]{2}\n",
    "        | u[a-fA-F0-9]{4}\n",
    "        | U[a-fA-F0-9]{8}\n",
    "        | N\\{[LMNPSCZ]\\}))*\\\"\\\"\\\"\n",
    "| '\n",
    "  (?:[^\\n\\'\\\\]\n",
    "   | \\\\\n",
    "       (?:[abfnrt\\'\\\"]\n",
    "        | [0-7]{1,3}\n",
    "        | x[a-fA-F0-9]{2}\n",
    "        | u[a-fA-F0-9]{4}\n",
    "        | U[a-fA-F0-9]{8}\n",
    "        | N\\{[LMNPSCZ]\\}))*'\n",
    "| \\\"\n",
    "  (?:[^\\n\\\"\\\\]\n",
    "   | \\\\\n",
    "       (?:[abfnrt\\'\\\"]\n",
    "        | [0-7]{1,3}\n",
    "        | x[a-fA-F0-9]{2}\n",
    "        | u[a-fA-F0-9]{4}\n",
    "        | U[a-fA-F0-9]{8}\n",
    "        | N\\{[LMNPSCZ]\\}))*\\\"\")\n"
   ]
  },
  {
   "cell_type": "code",
   "execution_count": 28,
   "metadata": {},
   "outputs": [
    {
     "data": {
      "text/plain": [
       "(\"\\\"\\\"\\\"buenas\\\"\\\"\\\"\")"
      ]
     },
     "execution_count": 28,
     "metadata": {},
     "output_type": "execute_result"
    }
   ],
   "source": [
    "(re-seq regex-string \"\\\"\\\"\\\"buenas\\\"\\\"\\\"\")"
   ]
  },
  {
   "cell_type": "code",
   "execution_count": 29,
   "metadata": {},
   "outputs": [
    {
     "data": {
      "text/plain": [
       "#'user/texto-ejemplo"
      ]
     },
     "execution_count": 29,
     "metadata": {},
     "output_type": "execute_result"
    }
   ],
   "source": [
    "(def texto-ejemplo (slurp \"texto_ejemplo.txt\"))"
   ]
  },
  {
   "cell_type": "code",
   "execution_count": 30,
   "metadata": {},
   "outputs": [
    {
     "data": {
      "text/plain": [
       "\"# This is a comment.\\nvariable = 10\\n# This is another comment.\\nmy_string = \\\"this is a string\\\"\\n\\nmy_second_string = 'this is another string'\\nmy_third_string = \\\"\\\"\\\" This string goes for multiple lines\\n\\t\\t      weird\\\"\\\"\\\"\\nmy_fourth_string = f'''A formatted string that goes for\\n \\t\\t       multiple lines'''\\n\""
      ]
     },
     "execution_count": 30,
     "metadata": {},
     "output_type": "execute_result"
    }
   ],
   "source": [
    "texto-ejemplo"
   ]
  },
  {
   "cell_type": "code",
   "execution_count": 31,
   "metadata": {},
   "outputs": [
    {
     "data": {
      "text/plain": [
       "(\"\\\"this is a string\\\"\" \"'this is another string'\" \"\\\"\\\"\\\" This string goes for multiple lines\\n\\t\\t      weird\\\"\\\"\\\"\" \"f'''A formatted string that goes for\\n \\t\\t       multiple lines'''\")"
      ]
     },
     "execution_count": 31,
     "metadata": {},
     "output_type": "execute_result"
    }
   ],
   "source": [
    "(re-seq regex-string texto-ejemplo)"
   ]
  },
  {
   "cell_type": "code",
   "execution_count": 32,
   "metadata": {},
   "outputs": [
    {
     "data": {
      "text/plain": [
       "(\"# This is a comment.\" \"# This is another comment.\")"
      ]
     },
     "execution_count": 32,
     "metadata": {},
     "output_type": "execute_result"
    }
   ],
   "source": [
    "(def matches (re-seq regex-comment (slurp \"texto_ejemplo.txt\")))\n",
    "matches"
   ]
  },
  {
   "cell_type": "markdown",
   "metadata": {},
   "source": [
    "### Bytes\n",
    "Los bytes en python siempre tienen un prefijo, pueden ser con comillas simples o dobles, y pueden ser de línea o de bloque usando una comilla o tres respectivamente para encapsular.\n",
    "\n",
    "Pueden escapar un subconjunto de las secuencias de escape que pueden escapar los strings:\n",
    "- Hasta 3 dígitos octales: \\ooo\n",
    "- Excatamente 2 dígitos hexadecimales: \\xhh"
   ]
  },
  {
   "cell_type": "code",
   "execution_count": 33,
   "metadata": {},
   "outputs": [
    {
     "data": {
      "text/plain": [
       "#'user/regex-byte"
      ]
     },
     "execution_count": 33,
     "metadata": {},
     "output_type": "execute_result"
    }
   ],
   "source": [
    "(def regex-byte #\"(?xm)\n",
    "  (?:[bB]|br|bR|Br|BR|rb|rB|Rb|RB) \n",
    "  '''\n",
    "  (?:[^\\\\]\n",
    "   | \\\\\n",
    "       (?:[abfnrt\\'\\\"]\n",
    "        | [0-7]{1,3}\n",
    "        | x[a-fA-F0-9]{2}))*'''\n",
    "| \\\"\\\"\\\"\n",
    "  (?:[^\\\\]\n",
    "   | \\\\\n",
    "       (?:[abfnrt\\'\\\"]\n",
    "        | [0-7]{1,3}\n",
    "        | x[a-fA-F0-9]{2}))*\\\"\\\"\\\"\n",
    "| '\n",
    "  (?:[^\\n\\'\\\\]\n",
    "   | \\\\\n",
    "       (?:[abfnrt\\'\\\"]\n",
    "        | [0-7]{1,3}\n",
    "        | x[a-fA-F0-9]{2}))*'\n",
    "| \\\"\n",
    "  (?:[^\\n\\\"\\\\]\n",
    "   | \\\\\n",
    "       (?:[abfnrt\\'\\\"]\n",
    "        | [0-7]{1,3}\n",
    "        | x[a-fA-F0-9]{2}))*\\\"\")\n"
   ]
  },
  {
   "cell_type": "code",
   "execution_count": 34,
   "metadata": {},
   "outputs": [
    {
     "data": {
      "text/plain": [
       "nil"
      ]
     },
     "execution_count": 34,
     "metadata": {},
     "output_type": "execute_result"
    }
   ],
   "source": [
    "(re-seq regex-byte \"my-variable\")"
   ]
  },
  {
   "cell_type": "markdown",
   "metadata": {},
   "source": [
    "### Expresión con grupos de captura que regresa para cada match un vector con el string matcheado y los grupos de captura"
   ]
  },
  {
   "cell_type": "code",
   "execution_count": 35,
   "metadata": {},
   "outputs": [
    {
     "data": {
      "text/plain": [
       "#'user/regex-python"
      ]
     },
     "execution_count": 35,
     "metadata": {},
     "output_type": "execute_result"
    }
   ],
   "source": [
    "(def regex-python #\"(?xm)\n",
    "  (\\#.*)\n",
    "| (\\bFalse\\b|\\bTrue\\b|\\bNone\\b|\\band\\b|\\bas\\b|\\bassert\\b|\\basync\\b|\\bawait\\b|\\bbreak\\b|\\bclass\\b|\\bcontinue\\b|\\bdef\\b|\\bdel\\b|\\belif\\b|\\belse\\b|\\bexcept\\b|\\bfinally\\b|\\bfor\\b|\\bfrom\\b|\\bglobal\\b|\\bif\\b|\\bimport\\b|\\bin\\b|\\bis\\b|\\blambda\\b|\\bnonlocal\\b|\\bnot|\\bor\\b|\\bpass\\b|\\braise\\b|\\breturn\\b|\\btry\\b|\\bwhile\\b|\\bwith\\b|\\byield\\b)\n",
    "| ((?:[bB]|br|bR|Br|BR|rb|rB|Rb|RB) \n",
    "                                    '''\n",
    "                                    (?:[^\\\\]\n",
    "                                     | \\\\\n",
    "                                         (?:[abfnrt\\'\\\"]\n",
    "                                          | [0-7]{1,3}\n",
    "                                          | x[a-fA-F0-9]{2}))*'''\n",
    "                                  | \\\"\\\"\\\"\n",
    "                                    (?:[^\\\\]\n",
    "                                     | \\\\\n",
    "                                         (?:[abfnrt\\'\\\"]\n",
    "                                          | [0-7]{1,3}\n",
    "                                          | x[a-fA-F0-9]{2}))*\\\"\\\"\\\"\n",
    "                                  | '\n",
    "                                    (?:[^\\n\\'\\\\]\n",
    "                                     | \\\\\n",
    "                                         (?:[abfnrt\\'\\\"]\n",
    "                                          | [0-7]{1,3}\n",
    "                                          | x[a-fA-F0-9]{2}))*'\n",
    "                                  | \\\"\n",
    "                                    (?:[^\\n\\\"\\\\]\n",
    "                                     | \\\\\n",
    "                                         (?:[abfnrt\\'\\\"]\n",
    "                                          | [0-7]{1,3}\n",
    "                                          | x[a-fA-F0-9]{2}))*\\\")\n",
    "| ((?:[rRuUfF]|fr|fR|FR|Fr|rf|rF|RF|Rf)? \n",
    "                                        '''\n",
    "                                        (?:[^\\\\]\n",
    "                                         | \\\\\n",
    "                                             (?:[abfnrt'\\\"]\n",
    "                                              | [0-7]{1,3}\n",
    "                                              | x[a-fA-F0-9]{2}\n",
    "                                              | u[a-fA-F0-9]{4}\n",
    "                                              | U[a-fA-F0-9]{8}\n",
    "                                              | N\\{[LMNPSCZ]\\}))*'''\n",
    "                                      | \\\"\\\"\\\"\n",
    "                                        (?:[^\\\\]\n",
    "                                         | \\\\\n",
    "                                             (?:[abfnrt\\'\\\"]\n",
    "                                              | [0-7]{1,3}\n",
    "                                              | x[a-fA-F0-9]{2}\n",
    "                                              | u[a-fA-F0-9]{4}\n",
    "                                              | U[a-fA-F0-9]{8}\n",
    "                                              | N\\{[LMNPSCZ]\\}))*\\\"\\\"\\\"\n",
    "                                      | '\n",
    "                                        (?:[^\\n\\'\\\\]\n",
    "                                         | \\\\\n",
    "                                             (?:[abfnrt\\'\\\"]\n",
    "                                              | [0-7]{1,3}\n",
    "                                              | x[a-fA-F0-9]{2}\n",
    "                                              | u[a-fA-F0-9]{4}\n",
    "                                              | U[a-fA-F0-9]{8}\n",
    "                                              | N\\{[LMNPSCZ]\\}))*'\n",
    "                                      | \\\"\n",
    "                                        (?:[^\\n\\\"\\\\]\n",
    "                                         | \\\\\n",
    "                                             (?:[abfnrt\\'\\\"]\n",
    "                                              | [0-7]{1,3}\n",
    "                                              | x[a-fA-F0-9]{2}\n",
    "                                              | u[a-fA-F0-9]{4}\n",
    "                                              | U[a-fA-F0-9]{8}\n",
    "                                              | N\\{[LMNPSCZ]\\}))*\\\")\n",
    "| (\\s[_\\p{L}\\p{Nl}][_\\p{L}\\p{Nl}\\p{Mn}\\p{Mc}\\p{Nd}\\p{Pc}]*\\s)\")\n"
   ]
  },
  {
   "cell_type": "code",
   "execution_count": 36,
   "metadata": {},
   "outputs": [
    {
     "data": {
      "text/plain": [
       "#'user/strings-spans"
      ]
     },
     "execution_count": 36,
     "metadata": {},
     "output_type": "execute_result"
    }
   ],
   "source": [
    "(defn strings-spans\n",
    "  [matches]\n",
    "  (map (fn [match] ; Expression returned by cond is vector with full matching string and the category string.\n",
    "         (cond \n",
    "           (match 1) [(match 0) (str \"<span class='comment'>\" (match 0) \"</span>\")]\n",
    "           (match 2) [(match 0) (str \"<span class='keyword'>\" (match 0) \"</span>\")]\n",
    "           (match 3) [(match 0) (str \"<span class='byte'>\" (match 0) \"</span>\")]\n",
    "           (match 4) [(match 0)(str \"<span class='string'>\" (match 0) \"</span>\")]\n",
    "           (match 5) [(match 0) (str \"<span class='identifier'>\" (match 0) \"</span>\")]))\n",
    "       matches))"
   ]
  },
  {
   "cell_type": "code",
   "execution_count": 37,
   "metadata": {},
   "outputs": [
    {
     "data": {
      "text/plain": [
       "#'user/replace-strings-by-spans"
      ]
     },
     "execution_count": 37,
     "metadata": {},
     "output_type": "execute_result"
    }
   ],
   "source": [
    "(defn replace-strings-by-spans\n",
    "  [strings-spans temporal-string]\n",
    "  (loop [strings-spans strings-spans\n",
    "         temporal-string temporal-string\n",
    "         string-span (first strings-spans)]\n",
    "  (if (= (count strings-spans) 0)\n",
    "    temporal-string\n",
    "    (recur (rest strings-spans)\n",
    "           (if (and (first string-span) (second string-span))\n",
    "             (clojure.string/replace temporal-string \n",
    "                                     (first string-span) \n",
    "                                     (second string-span))\n",
    "           temporal-string)\n",
    "         (first strings-spans)))))"
   ]
  },
  {
   "cell_type": "code",
   "execution_count": 38,
   "metadata": {},
   "outputs": [
    {
     "data": {
      "text/plain": [
       "#'user/big-guy"
      ]
     },
     "execution_count": 38,
     "metadata": {},
     "output_type": "execute_result"
    }
   ],
   "source": [
    "(defn big-guy\n",
    "  [file-name]\n",
    "  (spit (clojure.string/replace file-name \n",
    "                                \".py\" \n",
    "                                \".html\")\n",
    "        (replace-strings-by-spans (strings-spans (re-seq regex-python \n",
    "                                                         (slurp file-name)))\n",
    "                                  (slurp file-name))))\n"
   ]
  },
  {
   "cell_type": "code",
   "execution_count": 39,
   "metadata": {},
   "outputs": [
    {
     "data": {
      "text/plain": [
       "nil"
      ]
     },
     "execution_count": 39,
     "metadata": {},
     "output_type": "execute_result"
    }
   ],
   "source": [
    "(big-guy \"python-file.py\")"
   ]
  },
  {
   "cell_type": "code",
   "execution_count": 40,
   "metadata": {},
   "outputs": [
    {
     "name": "stderr",
     "output_type": "stream",
     "text": [
      "Execution error (FileNotFoundException) at java.io.FileInputStream/open0 (FileInputStream.java:-2).\n",
      "starting-html.html (No such file or directory)\n"
     ]
    },
    {
     "ename": "class java.io.FileNotFoundException",
     "evalue": "",
     "execution_count": 40,
     "output_type": "error",
     "status": "error",
     "traceback": [
      "FileInputStream.java:    -2 java.io.FileInputStream/open0",
      "FileInputStream.java:   195 java.io.FileInputStream/open",
      "FileInputStream.java:   138 java.io.FileInputStream/<init>",
      "              io.clj:   229 clojure.java.io$fn__11496/invokeStatic",
      "              io.clj:    69 clojure.java.io$fn__11409$G__11402__11416/invoke",
      "              io.clj:   258 clojure.java.io$fn__11508/invokeStatic",
      "              io.clj:   254 clojure.java.io$fn__11508/invoke",
      "              io.clj:    69 clojure.java.io$fn__11409$G__11402__11416/invoke",
      "              io.clj:   165 clojure.java.io$fn__11470/invokeStatic",
      "              io.clj:    69 clojure.java.io$fn__11422$G__11398__11429/invoke",
      "              io.clj:   102 clojure.java.io$reader/invokeStatic",
      "              io.clj:    86 clojure.java.io$reader/doInvoke",
      "         RestFn.java:   410 clojure.lang.RestFn/invoke",
      "            AFn.java:   154 clojure.lang.AFn/applyToHelper",
      "         RestFn.java:   132 clojure.lang.RestFn/applyTo",
      "            core.clj:   667 clojure.core$apply/invokeStatic",
      "            core.clj:  6942 clojure.core$slurp/invokeStatic",
      "         RestFn.java:   410 clojure.lang.RestFn/invoke",
      "            core.clj:  3214 clojure.core$eval/invokeStatic",
      "            core.clj:  3210 clojure.core$eval/invoke",
      "            main.clj:   437 clojure.main$repl$read_eval_print__9086$fn__9089/invoke",
      "            main.clj:   458 clojure.main$repl$fn__9095/invoke",
      "            main.clj:   368 clojure.main$repl/doInvoke",
      "         RestFn.java:  1523 clojure.lang.RestFn/invoke",
      "            AFn.java:    22 clojure.lang.AFn/run",
      "            AFn.java:    22 clojure.lang.AFn/run",
      "         Thread.java:   745 java.lang.Thread/run"
     ]
    }
   ],
   "source": [
    "(take (clojure.string/index-of (slurp \"starting-html.html\") \"<pre>\") (slurp \"starting-html.html\"))"
   ]
  },
  {
   "cell_type": "code",
   "execution_count": 42,
   "metadata": {},
   "outputs": [
    {
     "name": "stderr",
     "output_type": "stream",
     "text": [
      "Execution error (FileNotFoundException) at java.io.FileInputStream/open0 (FileInputStream.java:-2).\n",
      "starting-html.html (No such file or directory)\n"
     ]
    },
    {
     "ename": "class java.io.FileNotFoundException",
     "evalue": "",
     "execution_count": 42,
     "output_type": "error",
     "status": "error",
     "traceback": [
      "FileInputStream.java:    -2 java.io.FileInputStream/open0",
      "FileInputStream.java:   195 java.io.FileInputStream/open",
      "FileInputStream.java:   138 java.io.FileInputStream/<init>",
      "              io.clj:   229 clojure.java.io$fn__11496/invokeStatic",
      "              io.clj:    69 clojure.java.io$fn__11409$G__11402__11416/invoke",
      "              io.clj:   258 clojure.java.io$fn__11508/invokeStatic",
      "              io.clj:   254 clojure.java.io$fn__11508/invoke",
      "              io.clj:    69 clojure.java.io$fn__11409$G__11402__11416/invoke",
      "              io.clj:   165 clojure.java.io$fn__11470/invokeStatic",
      "              io.clj:    69 clojure.java.io$fn__11422$G__11398__11429/invoke",
      "              io.clj:   102 clojure.java.io$reader/invokeStatic",
      "              io.clj:    86 clojure.java.io$reader/doInvoke",
      "         RestFn.java:   410 clojure.lang.RestFn/invoke",
      "            AFn.java:   154 clojure.lang.AFn/applyToHelper",
      "         RestFn.java:   132 clojure.lang.RestFn/applyTo",
      "            core.clj:   667 clojure.core$apply/invokeStatic",
      "            core.clj:  6942 clojure.core$slurp/invokeStatic",
      "         RestFn.java:   410 clojure.lang.RestFn/invoke",
      "            core.clj:  3214 clojure.core$eval/invokeStatic",
      "            core.clj:  3210 clojure.core$eval/invoke",
      "            main.clj:   437 clojure.main$repl$read_eval_print__9086$fn__9089/invoke",
      "            main.clj:   458 clojure.main$repl$fn__9095/invoke",
      "            main.clj:   368 clojure.main$repl/doInvoke",
      "         RestFn.java:  1523 clojure.lang.RestFn/invoke",
      "            AFn.java:    22 clojure.lang.AFn/run",
      "            AFn.java:    22 clojure.lang.AFn/run",
      "         Thread.java:   745 java.lang.Thread/run"
     ]
    }
   ],
   "source": [
    "(slurp \"starting-html.html\")"
   ]
  },
  {
   "cell_type": "code",
   "execution_count": null,
   "metadata": {},
   "outputs": [],
   "source": []
  }
 ],
 "metadata": {
  "kernelspec": {
   "display_name": "Clojure (clojupyter=0.3.2=1)",
   "language": "clojure",
   "name": "conda-clojupyter"
  },
  "language_info": {
   "file_extension": ".clj",
   "mimetype": "text/x-clojure",
   "name": "clojure",
   "version": "1.10.1"
  }
 },
 "nbformat": 4,
 "nbformat_minor": 4
}
